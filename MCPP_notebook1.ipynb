{
 "cells": [
  {
   "cell_type": "code",
   "execution_count": 3,
   "metadata": {
    "collapsed": false
   },
   "outputs": [
    {
     "name": "stdout",
     "output_type": "stream",
     "text": [
      "Bienvenido a MCPP \n"
     ]
    }
   ],
   "source": [
    "print(\"Bienvenido a MCPP \")"
   ]
  },
  {
   "cell_type": "markdown",
   "metadata": {},
   "source": [
    "asdm"
   ]
  },
  {
   "cell_type": "code",
   "execution_count": 5,
   "metadata": {
    "collapsed": true
   },
   "outputs": [],
   "source": [
    "mensaje = \"Bienvenido a MCPP\""
   ]
  },
  {
   "cell_type": "code",
   "execution_count": 6,
   "metadata": {
    "collapsed": false
   },
   "outputs": [
    {
     "name": "stdout",
     "output_type": "stream",
     "text": [
      "Bienvenido a MCPP\n"
     ]
    }
   ],
   "source": [
    "print(mensaje)"
   ]
  },
  {
   "cell_type": "code",
   "execution_count": 7,
   "metadata": {
    "collapsed": false
   },
   "outputs": [
    {
     "name": "stdout",
     "output_type": "stream",
     "text": [
      "hola\n"
     ]
    }
   ],
   "source": [
    "mensaje2 = \"hola\"\n",
    "print(mensaje2)"
   ]
  },
  {
   "cell_type": "markdown",
   "metadata": {},
   "source": [
    "##Tipos\n",
    "##entero\n"
   ]
  },
  {
   "cell_type": "code",
   "execution_count": 9,
   "metadata": {
    "collapsed": true
   },
   "outputs": [],
   "source": [
    "a=5\n",
    "b=3\n",
    "c=2\n"
   ]
  },
  {
   "cell_type": "code",
   "execution_count": 10,
   "metadata": {
    "collapsed": false
   },
   "outputs": [
    {
     "name": "stdout",
     "output_type": "stream",
     "text": [
      "5\n"
     ]
    }
   ],
   "source": [
    "print(a)"
   ]
  },
  {
   "cell_type": "code",
   "execution_count": 11,
   "metadata": {
    "collapsed": false
   },
   "outputs": [
    {
     "name": "stdout",
     "output_type": "stream",
     "text": [
      "3\n"
     ]
    }
   ],
   "source": [
    "print(b)"
   ]
  },
  {
   "cell_type": "code",
   "execution_count": 12,
   "metadata": {
    "collapsed": false
   },
   "outputs": [
    {
     "name": "stdout",
     "output_type": "stream",
     "text": [
      "2\n"
     ]
    }
   ],
   "source": [
    "print(c)"
   ]
  },
  {
   "cell_type": "code",
   "execution_count": 13,
   "metadata": {
    "collapsed": false
   },
   "outputs": [
    {
     "data": {
      "text/plain": [
       "int"
      ]
     },
     "execution_count": 13,
     "metadata": {},
     "output_type": "execute_result"
    }
   ],
   "source": [
    "type(a)"
   ]
  },
  {
   "cell_type": "code",
   "execution_count": 15,
   "metadata": {
    "collapsed": false
   },
   "outputs": [],
   "source": [
    "x = 15.0"
   ]
  },
  {
   "cell_type": "code",
   "execution_count": 16,
   "metadata": {
    "collapsed": false
   },
   "outputs": [
    {
     "name": "stdout",
     "output_type": "stream",
     "text": [
      "15.0\n"
     ]
    }
   ],
   "source": [
    "print(x)"
   ]
  },
  {
   "cell_type": "code",
   "execution_count": 17,
   "metadata": {
    "collapsed": false
   },
   "outputs": [
    {
     "data": {
      "text/plain": [
       "float"
      ]
     },
     "execution_count": 17,
     "metadata": {},
     "output_type": "execute_result"
    }
   ],
   "source": [
    "type(x)"
   ]
  },
  {
   "cell_type": "markdown",
   "metadata": {},
   "source": [
    "la funcion type me da el tipo de dato con el que quedo grabado. int para nuemros enteros. float para decimales y string para texto si pongo el texto sin comillas me sale nombre no definido porque python piensa que es una avriable y la busca pero no hemos definido hacer una variable asi. es mejor usar print . d es una suma y al ponerle print de una vez la ejecuta"
   ]
  },
  {
   "cell_type": "code",
   "execution_count": 41,
   "metadata": {
    "collapsed": true
   },
   "outputs": [],
   "source": [
    "t1 = \"Nathalie\""
   ]
  },
  {
   "cell_type": "code",
   "execution_count": 42,
   "metadata": {
    "collapsed": true
   },
   "outputs": [],
   "source": [
    "t2 = \"Basto A\""
   ]
  },
  {
   "cell_type": "code",
   "execution_count": 21,
   "metadata": {
    "collapsed": false
   },
   "outputs": [
    {
     "data": {
      "text/plain": [
       "'asdf'"
      ]
     },
     "execution_count": 21,
     "metadata": {},
     "output_type": "execute_result"
    }
   ],
   "source": [
    "t1"
   ]
  },
  {
   "cell_type": "code",
   "execution_count": 22,
   "metadata": {
    "collapsed": false
   },
   "outputs": [
    {
     "data": {
      "text/plain": [
       "'asdf2'"
      ]
     },
     "execution_count": 22,
     "metadata": {},
     "output_type": "execute_result"
    }
   ],
   "source": [
    "t2"
   ]
  },
  {
   "cell_type": "code",
   "execution_count": 23,
   "metadata": {
    "collapsed": true
   },
   "outputs": [],
   "source": [
    "d = a + b + c"
   ]
  },
  {
   "cell_type": "code",
   "execution_count": 24,
   "metadata": {
    "collapsed": false
   },
   "outputs": [
    {
     "name": "stdout",
     "output_type": "stream",
     "text": [
      "10\n"
     ]
    }
   ],
   "source": [
    "print(d)"
   ]
  },
  {
   "cell_type": "code",
   "execution_count": 25,
   "metadata": {
    "collapsed": false
   },
   "outputs": [
    {
     "data": {
      "text/plain": [
       "10"
      ]
     },
     "execution_count": 25,
     "metadata": {},
     "output_type": "execute_result"
    }
   ],
   "source": [
    "a+b+c"
   ]
  },
  {
   "cell_type": "code",
   "execution_count": 26,
   "metadata": {
    "collapsed": false
   },
   "outputs": [
    {
     "data": {
      "text/plain": [
       "32"
      ]
     },
     "execution_count": 26,
     "metadata": {},
     "output_type": "execute_result"
    }
   ],
   "source": [
    "32"
   ]
  },
  {
   "cell_type": "code",
   "execution_count": 27,
   "metadata": {
    "collapsed": false
   },
   "outputs": [
    {
     "data": {
      "text/plain": [
       "5"
      ]
     },
     "execution_count": 27,
     "metadata": {},
     "output_type": "execute_result"
    }
   ],
   "source": [
    "10-5"
   ]
  },
  {
   "cell_type": "code",
   "execution_count": 38,
   "metadata": {
    "collapsed": true
   },
   "outputs": [],
   "source": [
    "##el orden de operaciones con el que trabaja python es el mismo orden de algrebra. division, multiplicacion, resta, suma.\n",
    "##recordar que spider se aprece a R studio "
   ]
  },
  {
   "cell_type": "code",
   "execution_count": 29,
   "metadata": {
    "collapsed": false
   },
   "outputs": [
    {
     "name": "stdout",
     "output_type": "stream",
     "text": [
      " El volumen de la unidad C es TI10705200E\n",
      " El n£mero de serie del volumen es: CE12-E731\n",
      "\n",
      " Directorio de C:\\Users\\Nathalie\n",
      "\n"
     ]
    },
    {
     "name": "stderr",
     "output_type": "stream",
     "text": [
      "No se encuentra el archivo\n"
     ]
    }
   ],
   "source": [
    "ls()"
   ]
  },
  {
   "cell_type": "code",
   "execution_count": 30,
   "metadata": {
    "collapsed": false
   },
   "outputs": [
    {
     "name": "stdout",
     "output_type": "stream",
     "text": [
      " El volumen de la unidad C es TI10705200E\n",
      " El n£mero de serie del volumen es: CE12-E731\n",
      "\n",
      " Directorio de C:\\Users\\Nathalie\n",
      "\n",
      "06/08/2016  09:02 a. m.    <DIR>          .\n",
      "06/08/2016  09:02 a. m.    <DIR>          ..\n",
      "30/07/2016  10:54 a. m.    <DIR>          .anaconda\n",
      "30/07/2016  10:38 a. m.               175 .gitconfig\n",
      "06/08/2016  08:43 a. m.    <DIR>          .ipynb_checkpoints\n",
      "06/08/2016  08:29 a. m.    <DIR>          .ipython\n",
      "06/08/2016  08:41 a. m.    <DIR>          .jupyter\n",
      "06/08/2016  09:02 a. m.    <DIR>          .matplotlib\n",
      "06/08/2016  09:02 a. m.    <DIR>          .spyder2-py3\n",
      "30/07/2016  10:33 a. m.    <DIR>          .ssh\n",
      "06/08/2016  08:42 a. m.    <DIR>          Anaconda3\n",
      "07/08/2015  09:10 p. m.    <DIR>          Contacts\n",
      "30/07/2016  11:54 a. m.    <DIR>          Desktop\n",
      "29/07/2016  04:37 p. m.    <DIR>          Documents\n",
      "05/08/2016  09:36 p. m.    <DIR>          Downloads\n",
      "07/08/2015  09:10 p. m.    <DIR>          Favorites\n",
      "06/08/2016  08:41 a. m.    <DIR>          Google Drive\n",
      "07/08/2015  09:10 p. m.    <DIR>          Links\n",
      "06/08/2016  09:02 a. m.             7.506 MCPP_notebook1.ipynb\n",
      "07/08/2015  09:10 p. m.    <DIR>          Music\n",
      "06/08/2016  08:41 a. m.    <DIR>          OneDrive\n",
      "07/08/2015  09:10 p. m.    <DIR>          Pictures\n",
      "07/08/2015  09:10 p. m.    <DIR>          Saved Games\n",
      "07/08/2015  09:10 p. m.    <DIR>          Searches\n",
      "05/11/2015  08:14 p. m.    <DIR>          Tracing\n",
      "07/08/2015  09:10 p. m.    <DIR>          Videos\n",
      "               2 archivos          7.681 bytes\n",
      "              24 dirs  903.349.821.440 bytes libres\n"
     ]
    }
   ],
   "source": [
    "ls"
   ]
  },
  {
   "cell_type": "code",
   "execution_count": 31,
   "metadata": {
    "collapsed": false
   },
   "outputs": [
    {
     "data": {
      "text/plain": [
       "3.3333333333333335"
      ]
     },
     "execution_count": 31,
     "metadata": {},
     "output_type": "execute_result"
    }
   ],
   "source": [
    "d/3"
   ]
  },
  {
   "cell_type": "code",
   "execution_count": 32,
   "metadata": {
    "collapsed": false
   },
   "outputs": [
    {
     "data": {
      "text/plain": [
       "3.3333333333333335"
      ]
     },
     "execution_count": 32,
     "metadata": {},
     "output_type": "execute_result"
    }
   ],
   "source": [
    "d/3.0"
   ]
  },
  {
   "cell_type": "code",
   "execution_count": 33,
   "metadata": {
    "collapsed": false
   },
   "outputs": [
    {
     "data": {
      "text/plain": [
       "3"
      ]
     },
     "execution_count": 33,
     "metadata": {},
     "output_type": "execute_result"
    }
   ],
   "source": [
    "d//3"
   ]
  },
  {
   "cell_type": "code",
   "execution_count": 34,
   "metadata": {
    "collapsed": true
   },
   "outputs": [],
   "source": [
    "##// se desace del residuo me dice cuantas veces cabe un numero "
   ]
  },
  {
   "cell_type": "code",
   "execution_count": 35,
   "metadata": {
    "collapsed": false
   },
   "outputs": [
    {
     "data": {
      "text/plain": [
       "1"
      ]
     },
     "execution_count": 35,
     "metadata": {},
     "output_type": "execute_result"
    }
   ],
   "source": [
    "d % 3 ##me da el residuo"
   ]
  },
  {
   "cell_type": "code",
   "execution_count": 36,
   "metadata": {
    "collapsed": false
   },
   "outputs": [
    {
     "data": {
      "text/plain": [
       "4"
      ]
     },
     "execution_count": 36,
     "metadata": {},
     "output_type": "execute_result"
    }
   ],
   "source": [
    "10 -2 *3"
   ]
  },
  {
   "cell_type": "code",
   "execution_count": 37,
   "metadata": {
    "collapsed": false
   },
   "outputs": [
    {
     "data": {
      "text/plain": [
       "24"
      ]
     },
     "execution_count": 37,
     "metadata": {},
     "output_type": "execute_result"
    }
   ],
   "source": [
    "(10 -2)*3"
   ]
  },
  {
   "cell_type": "code",
   "execution_count": 43,
   "metadata": {
    "collapsed": false
   },
   "outputs": [
    {
     "data": {
      "text/plain": [
       "'Nathalie Basto A'"
      ]
     },
     "execution_count": 43,
     "metadata": {},
     "output_type": "execute_result"
    }
   ],
   "source": [
    "t1 + \" \" + t2 ##se le pone strings con estacio o con lo que quiera "
   ]
  },
  {
   "cell_type": "code",
   "execution_count": 44,
   "metadata": {
    "collapsed": false
   },
   "outputs": [
    {
     "data": {
      "text/plain": [
       "'NathalieBasto A'"
      ]
     },
     "execution_count": 44,
     "metadata": {},
     "output_type": "execute_result"
    }
   ],
   "source": [
    "t1 + t2 ##concatenar texto "
   ]
  },
  {
   "cell_type": "code",
   "execution_count": 45,
   "metadata": {
    "collapsed": false
   },
   "outputs": [
    {
     "ename": "TypeError",
     "evalue": "Can't convert 'int' object to str implicitly",
     "output_type": "error",
     "traceback": [
      "\u001b[1;31m---------------------------------------------------------------------------\u001b[0m",
      "\u001b[1;31mTypeError\u001b[0m                                 Traceback (most recent call last)",
      "\u001b[1;32m<ipython-input-45-c89de3039e21>\u001b[0m in \u001b[0;36m<module>\u001b[1;34m()\u001b[0m\n\u001b[1;32m----> 1\u001b[1;33m \u001b[0mt1\u001b[0m \u001b[1;33m+\u001b[0m \u001b[0ma\u001b[0m \u001b[1;31m##saca error porque es un entero\u001b[0m\u001b[1;33m\u001b[0m\u001b[0m\n\u001b[0m",
      "\u001b[1;31mTypeError\u001b[0m: Can't convert 'int' object to str implicitly"
     ]
    }
   ],
   "source": [
    "t1 + a ##saca error porque es un entero y un string"
   ]
  },
  {
   "cell_type": "code",
   "execution_count": 47,
   "metadata": {
    "collapsed": false
   },
   "outputs": [],
   "source": [
    "##mayusculas sostenidas se usa paa las constantes PI minuscula para variables "
   ]
  },
  {
   "cell_type": "code",
   "execution_count": 48,
   "metadata": {
    "collapsed": false
   },
   "outputs": [
    {
     "name": "stdout",
     "output_type": "stream",
     "text": [
      "\"esto es una prueba\"\n"
     ]
    },
    {
     "data": {
      "text/plain": [
       "'\"esto es una prueba\"'"
      ]
     },
     "execution_count": 48,
     "metadata": {},
     "output_type": "execute_result"
    }
   ],
   "source": [
    "input() ##el computador le pregunta al usuario que le diga algo "
   ]
  },
  {
   "cell_type": "code",
   "execution_count": 49,
   "metadata": {
    "collapsed": false
   },
   "outputs": [
    {
     "name": "stdout",
     "output_type": "stream",
     "text": [
      "34\n"
     ]
    }
   ],
   "source": [
    "a = input() ##en general las variables son locales se borro el primer valor que era 5 y ahora quedo como 20 por siempre."
   ]
  },
  {
   "cell_type": "markdown",
   "metadata": {},
   "source": [
    "expresiones booleanas"
   ]
  },
  {
   "cell_type": "code",
   "execution_count": 50,
   "metadata": {
    "collapsed": false
   },
   "outputs": [
    {
     "data": {
      "text/plain": [
       "True"
      ]
     },
     "execution_count": 50,
     "metadata": {},
     "output_type": "execute_result"
    }
   ],
   "source": [
    "d > 5 ##me dice si una xpresion es verdadero o falso "
   ]
  },
  {
   "cell_type": "code",
   "execution_count": 51,
   "metadata": {
    "collapsed": false
   },
   "outputs": [
    {
     "ename": "TypeError",
     "evalue": "unorderable types: str() > int()",
     "output_type": "error",
     "traceback": [
      "\u001b[1;31m---------------------------------------------------------------------------\u001b[0m",
      "\u001b[1;31mTypeError\u001b[0m                                 Traceback (most recent call last)",
      "\u001b[1;32m<ipython-input-51-a9ee2a6d603a>\u001b[0m in \u001b[0;36m<module>\u001b[1;34m()\u001b[0m\n\u001b[1;32m----> 1\u001b[1;33m \u001b[0ma\u001b[0m \u001b[1;33m>\u001b[0m \u001b[1;36m5\u001b[0m \u001b[1;31m##a al poner en input quedo guardada como a\u001b[0m\u001b[1;33m\u001b[0m\u001b[0m\n\u001b[0m",
      "\u001b[1;31mTypeError\u001b[0m: unorderable types: str() > int()"
     ]
    }
   ],
   "source": [
    "a > 5 ##a al poner en input quedo guardada como STRING esto pasa siempre que pongo input"
   ]
  },
  {
   "cell_type": "code",
   "execution_count": 52,
   "metadata": {
    "collapsed": false
   },
   "outputs": [
    {
     "data": {
      "text/plain": [
       "str"
      ]
     },
     "execution_count": 52,
     "metadata": {},
     "output_type": "execute_result"
    }
   ],
   "source": [
    "type(a)"
   ]
  },
  {
   "cell_type": "code",
   "execution_count": 53,
   "metadata": {
    "collapsed": false
   },
   "outputs": [
    {
     "data": {
      "text/plain": [
       "True"
      ]
     },
     "execution_count": 53,
     "metadata": {},
     "output_type": "execute_result"
    }
   ],
   "source": [
    "int(a)>5 ##int convierte la variable en entero"
   ]
  },
  {
   "cell_type": "code",
   "execution_count": 55,
   "metadata": {
    "collapsed": false
   },
   "outputs": [
    {
     "data": {
      "text/plain": [
       "True"
      ]
     },
     "execution_count": 55,
     "metadata": {},
     "output_type": "execute_result"
    }
   ],
   "source": [
    "10<int(a) "
   ]
  },
  {
   "cell_type": "code",
   "execution_count": 56,
   "metadata": {
    "collapsed": false
   },
   "outputs": [
    {
     "data": {
      "text/plain": [
       "str"
      ]
     },
     "execution_count": 56,
     "metadata": {},
     "output_type": "execute_result"
    }
   ],
   "source": [
    "type(a)\n"
   ]
  },
  {
   "cell_type": "code",
   "execution_count": 57,
   "metadata": {
    "collapsed": true
   },
   "outputs": [],
   "source": [
    "a = int(a)"
   ]
  },
  {
   "cell_type": "code",
   "execution_count": 58,
   "metadata": {
    "collapsed": false
   },
   "outputs": [
    {
     "data": {
      "text/plain": [
       "int"
      ]
     },
     "execution_count": 58,
     "metadata": {},
     "output_type": "execute_result"
    }
   ],
   "source": [
    "type(a)"
   ]
  },
  {
   "cell_type": "code",
   "execution_count": 59,
   "metadata": {
    "collapsed": false
   },
   "outputs": [
    {
     "data": {
      "text/plain": [
       "False"
      ]
     },
     "execution_count": 59,
     "metadata": {},
     "output_type": "execute_result"
    }
   ],
   "source": [
    "c >=5"
   ]
  },
  {
   "cell_type": "code",
   "execution_count": 60,
   "metadata": {
    "collapsed": false
   },
   "outputs": [
    {
     "data": {
      "text/plain": [
       "False"
      ]
     },
     "execution_count": 60,
     "metadata": {},
     "output_type": "execute_result"
    }
   ],
   "source": [
    "b > 5 and d>5"
   ]
  },
  {
   "cell_type": "code",
   "execution_count": 61,
   "metadata": {
    "collapsed": false
   },
   "outputs": [
    {
     "data": {
      "text/plain": [
       "True"
      ]
     },
     "execution_count": 61,
     "metadata": {},
     "output_type": "execute_result"
    }
   ],
   "source": [
    "not (b > 5 and d>=5)"
   ]
  },
  {
   "cell_type": "code",
   "execution_count": 62,
   "metadata": {
    "collapsed": false
   },
   "outputs": [
    {
     "data": {
      "text/plain": [
       "True"
      ]
     },
     "execution_count": 62,
     "metadata": {},
     "output_type": "execute_result"
    }
   ],
   "source": [
    "b != 5"
   ]
  },
  {
   "cell_type": "code",
   "execution_count": 63,
   "metadata": {
    "collapsed": false
   },
   "outputs": [
    {
     "data": {
      "text/plain": [
       "34"
      ]
     },
     "execution_count": 63,
     "metadata": {},
     "output_type": "execute_result"
    }
   ],
   "source": [
    "a"
   ]
  },
  {
   "cell_type": "code",
   "execution_count": 64,
   "metadata": {
    "collapsed": true
   },
   "outputs": [],
   "source": [
    "a = 20 ##para asiganar un valor a una variabe uso ="
   ]
  },
  {
   "cell_type": "code",
   "execution_count": 65,
   "metadata": {
    "collapsed": false
   },
   "outputs": [
    {
     "data": {
      "text/plain": [
       "20"
      ]
     },
     "execution_count": 65,
     "metadata": {},
     "output_type": "execute_result"
    }
   ],
   "source": [
    "a "
   ]
  },
  {
   "cell_type": "code",
   "execution_count": 66,
   "metadata": {
    "collapsed": false
   },
   "outputs": [
    {
     "data": {
      "text/plain": [
       "True"
      ]
     },
     "execution_count": 66,
     "metadata": {},
     "output_type": "execute_result"
    }
   ],
   "source": [
    "a ==20 ##para validar si a es = 20 entonces uso doble igual "
   ]
  },
  {
   "cell_type": "code",
   "execution_count": 67,
   "metadata": {
    "collapsed": true
   },
   "outputs": [],
   "source": [
    "##hay una lista de palabras resevadas que no seles puede definir una variable como : Flase , none, true, if, and, for, in, is, except, else, def, assert, break , etc. "
   ]
  },
  {
   "cell_type": "code",
   "execution_count": 72,
   "metadata": {
    "collapsed": false
   },
   "outputs": [
    {
     "data": {
      "text/plain": [
       "3"
      ]
     },
     "execution_count": 72,
     "metadata": {},
     "output_type": "execute_result"
    }
   ],
   "source": [
    "print"
   ]
  },
  {
   "cell_type": "code",
   "execution_count": 69,
   "metadata": {
    "collapsed": false
   },
   "outputs": [
    {
     "ename": "TypeError",
     "evalue": "'int' object is not callable",
     "output_type": "error",
     "traceback": [
      "\u001b[1;31m---------------------------------------------------------------------------\u001b[0m",
      "\u001b[1;31mTypeError\u001b[0m                                 Traceback (most recent call last)",
      "\u001b[1;32m<ipython-input-69-9dafe0783078>\u001b[0m in \u001b[0;36m<module>\u001b[1;34m()\u001b[0m\n\u001b[1;32m----> 1\u001b[1;33m \u001b[0mprint\u001b[0m\u001b[1;33m(\u001b[0m\u001b[0mprint\u001b[0m\u001b[1;33m)\u001b[0m\u001b[1;33m\u001b[0m\u001b[0m\n\u001b[0m",
      "\u001b[1;31mTypeError\u001b[0m: 'int' object is not callable"
     ]
    }
   ],
   "source": [
    "print(print)"
   ]
  },
  {
   "cell_type": "code",
   "execution_count": 70,
   "metadata": {
    "collapsed": false
   },
   "outputs": [
    {
     "ename": "TypeError",
     "evalue": "'int' object is not callable",
     "output_type": "error",
     "traceback": [
      "\u001b[1;31m---------------------------------------------------------------------------\u001b[0m",
      "\u001b[1;31mTypeError\u001b[0m                                 Traceback (most recent call last)",
      "\u001b[1;32m<ipython-input-70-c5a4f3535135>\u001b[0m in \u001b[0;36m<module>\u001b[1;34m()\u001b[0m\n\u001b[1;32m----> 1\u001b[1;33m \u001b[0mprint\u001b[0m\u001b[1;33m(\u001b[0m\u001b[0ma\u001b[0m\u001b[1;33m)\u001b[0m\u001b[1;33m\u001b[0m\u001b[0m\n\u001b[0m",
      "\u001b[1;31mTypeError\u001b[0m: 'int' object is not callable"
     ]
    }
   ],
   "source": [
    "print(a)\n"
   ]
  },
  {
   "cell_type": "code",
   "execution_count": 71,
   "metadata": {
    "collapsed": false
   },
   "outputs": [
    {
     "ename": "TypeError",
     "evalue": "'int' object is not callable",
     "output_type": "error",
     "traceback": [
      "\u001b[1;31m---------------------------------------------------------------------------\u001b[0m",
      "\u001b[1;31mTypeError\u001b[0m                                 Traceback (most recent call last)",
      "\u001b[1;32m<ipython-input-71-9909575fff82>\u001b[0m in \u001b[0;36m<module>\u001b[1;34m()\u001b[0m\n\u001b[1;32m----> 1\u001b[1;33m \u001b[0mprint\u001b[0m\u001b[1;33m(\u001b[0m\u001b[0md\u001b[0m\u001b[1;33m)\u001b[0m\u001b[1;33m\u001b[0m\u001b[0m\n\u001b[0m",
      "\u001b[1;31mTypeError\u001b[0m: 'int' object is not callable"
     ]
    }
   ],
   "source": []
  },
  {
   "cell_type": "code",
   "execution_count": 73,
   "metadata": {
    "collapsed": false
   },
   "outputs": [
    {
     "ename": "TypeError",
     "evalue": "'int' object is not callable",
     "output_type": "error",
     "traceback": [
      "\u001b[1;31m---------------------------------------------------------------------------\u001b[0m",
      "\u001b[1;31mTypeError\u001b[0m                                 Traceback (most recent call last)",
      "\u001b[1;32m<ipython-input-73-408dc3a77bad>\u001b[0m in \u001b[0;36m<module>\u001b[1;34m()\u001b[0m\n\u001b[1;32m----> 1\u001b[1;33m \u001b[0mprint\u001b[0m\u001b[1;33m(\u001b[0m\u001b[1;34m\"hola\"\u001b[0m\u001b[1;33m)\u001b[0m\u001b[1;33m\u001b[0m\u001b[0m\n\u001b[0m",
      "\u001b[1;31mTypeError\u001b[0m: 'int' object is not callable"
     ]
    }
   ],
   "source": [
    "print(\"hola\")"
   ]
  },
  {
   "cell_type": "code",
   "execution_count": 74,
   "metadata": {
    "collapsed": true
   },
   "outputs": [],
   "source": [
    "del(print) ##me dropea la variable y vuelve a valor incial"
   ]
  },
  {
   "cell_type": "code",
   "execution_count": 75,
   "metadata": {
    "collapsed": false
   },
   "outputs": [
    {
     "name": "stdout",
     "output_type": "stream",
     "text": [
      "20\n"
     ]
    }
   ],
   "source": [
    "print(a)"
   ]
  },
  {
   "cell_type": "code",
   "execution_count": 76,
   "metadata": {
    "collapsed": false
   },
   "outputs": [
    {
     "data": {
      "text/plain": [
       "{'In': ['',\n",
       "  'print(\"Bienvenido a MCPP \")',\n",
       "  'asdm',\n",
       "  'print(\"Bienvenido a MCPP \")',\n",
       "  'mensaje = \"Bienvenido a MCPP\"',\n",
       "  'mensaje = \"Bienvenido a MCPP\"',\n",
       "  'print(mensaje)',\n",
       "  'mensaje2 = \"hola\"\\nprint(mensaje2)',\n",
       "  '##Tipos',\n",
       "  'a=5\\nb=3\\nc=2',\n",
       "  'print(a)',\n",
       "  'print(b)',\n",
       "  'print(c)',\n",
       "  'type(a)',\n",
       "  'x - 15.0',\n",
       "  'x = 15.0',\n",
       "  'print(x)',\n",
       "  'type(x)',\n",
       "  't1 = \"asdf\"',\n",
       "  't2 = \"asdf2\"',\n",
       "  't3 = asdf3',\n",
       "  't1',\n",
       "  't2',\n",
       "  'd = a + b + c',\n",
       "  'print(d)',\n",
       "  'a+b+c',\n",
       "  '32',\n",
       "  '10-5',\n",
       "  '##el orden de operaciones con el que trabaja python es el mismo orden de algrebra. division, multiplicacion, resta, suma',\n",
       "  \"get_ipython().magic('ls ()')\",\n",
       "  \"get_ipython().magic('ls ')\",\n",
       "  'd/3',\n",
       "  'd/3.0',\n",
       "  'd//3',\n",
       "  '##// se desace del residuo me dice cuantas veces cabe un numero ',\n",
       "  'd % 3 ##me da el residuo',\n",
       "  '10 -2 *3',\n",
       "  '(10 -2)*3',\n",
       "  '##el orden de operaciones con el que trabaja python es el mismo orden de algrebra. division, multiplicacion, resta, suma.\\n##recordar que spider se aprece a R studio ',\n",
       "  'ti + t2 ##concatenar texto \\nt1 + \" \" + t2 ##se le pone strings con estacio o con lo que quiera ',\n",
       "  't1 + t2 ##concatenar texto \\nt1 + \" \" + t2 ##se le pone strings con estacio o con lo que quiera ',\n",
       "  't1 = \"Nathalie\"',\n",
       "  't2 = \"Basto A\"',\n",
       "  't1 + \" \" + t2 ##se le pone strings con estacio o con lo que quiera ',\n",
       "  't1 + t2 ##concatenar texto ',\n",
       "  't1 + a ##saca error porque es un entero ',\n",
       "  'a',\n",
       "  '##mayusculas sostenidas se usa paa las constantes PI minuscula para variables ',\n",
       "  'input() ##el computador le pregunta al usuario que le diga algo ',\n",
       "  'a = input()',\n",
       "  'd > 5 ##me dice si una xpresion es verdadero o falso ',\n",
       "  'a > 5 ##a al poner en input quedo guardada como a ',\n",
       "  'type(a)',\n",
       "  'int(a)>5 ##int convierte la variable en entero',\n",
       "  '10<a ',\n",
       "  '10<int(a) ',\n",
       "  'type(a)',\n",
       "  'a = int(a)',\n",
       "  'type(a)',\n",
       "  'c >=5',\n",
       "  'b > 5 and d>5',\n",
       "  'not (b > 5 and d>=5)',\n",
       "  'b != 5',\n",
       "  'a',\n",
       "  'a = 20',\n",
       "  'a ',\n",
       "  'a ==20 ##para validar si a es = 20 entonces uso doble igual ',\n",
       "  '##hay una lista de palabras resevadas que no seles puede definir una variable como : Flase , none, true, if, and, for, in, is, except, else, def, assert, break , etc. ',\n",
       "  'print=3',\n",
       "  'print(print)',\n",
       "  'print(a)',\n",
       "  'print(d)',\n",
       "  'print',\n",
       "  'print(\"hola\")',\n",
       "  'del(print) ##me dropea la variable y vuelve a valor incial',\n",
       "  'print(a)',\n",
       "  'locals()  ##me dice cuales son las variables que he creado '],\n",
       " 'Out': {13: int,\n",
       "  17: float,\n",
       "  21: 'asdf',\n",
       "  22: 'asdf2',\n",
       "  25: 10,\n",
       "  26: 32,\n",
       "  27: 5,\n",
       "  31: 3.3333333333333335,\n",
       "  32: 3.3333333333333335,\n",
       "  33: 3,\n",
       "  35: 1,\n",
       "  36: 4,\n",
       "  37: 24,\n",
       "  40: 'asdf asdf2',\n",
       "  43: 'Nathalie Basto A',\n",
       "  44: 'NathalieBasto A',\n",
       "  46: 5,\n",
       "  48: '\"esto es una prueba\"',\n",
       "  50: True,\n",
       "  52: str,\n",
       "  53: True,\n",
       "  55: True,\n",
       "  56: str,\n",
       "  58: int,\n",
       "  59: False,\n",
       "  60: False,\n",
       "  61: True,\n",
       "  62: True,\n",
       "  63: 34,\n",
       "  65: 20,\n",
       "  66: True,\n",
       "  72: 3},\n",
       " '_': 3,\n",
       " '_13': int,\n",
       " '_17': float,\n",
       " '_21': 'asdf',\n",
       " '_22': 'asdf2',\n",
       " '_25': 10,\n",
       " '_26': 32,\n",
       " '_27': 5,\n",
       " '_31': 3.3333333333333335,\n",
       " '_32': 3.3333333333333335,\n",
       " '_33': 3,\n",
       " '_35': 1,\n",
       " '_36': 4,\n",
       " '_37': 24,\n",
       " '_40': 'asdf asdf2',\n",
       " '_43': 'Nathalie Basto A',\n",
       " '_44': 'NathalieBasto A',\n",
       " '_46': 5,\n",
       " '_48': '\"esto es una prueba\"',\n",
       " '_50': True,\n",
       " '_52': str,\n",
       " '_53': True,\n",
       " '_55': True,\n",
       " '_56': str,\n",
       " '_58': int,\n",
       " '_59': False,\n",
       " '_60': False,\n",
       " '_61': True,\n",
       " '_62': True,\n",
       " '_63': 34,\n",
       " '_65': 20,\n",
       " '_66': True,\n",
       " '_72': 3,\n",
       " '__': True,\n",
       " '___': 20,\n",
       " '__builtin__': <module 'builtins' (built-in)>,\n",
       " '__builtins__': <module 'builtins' (built-in)>,\n",
       " '__doc__': 'Automatically created module for IPython interactive environment',\n",
       " '__loader__': None,\n",
       " '__name__': '__main__',\n",
       " '__package__': None,\n",
       " '__spec__': None,\n",
       " '_dh': ['C:\\\\Users\\\\Nathalie'],\n",
       " '_exit_code': 0,\n",
       " '_i': 'print(a)',\n",
       " '_i1': 'print(\"Bienvenido a MCPP \")',\n",
       " '_i10': 'print(a)',\n",
       " '_i11': 'print(b)',\n",
       " '_i12': 'print(c)',\n",
       " '_i13': 'type(a)',\n",
       " '_i14': 'x - 15.0',\n",
       " '_i15': 'x = 15.0',\n",
       " '_i16': 'print(x)',\n",
       " '_i17': 'type(x)',\n",
       " '_i18': 't1 = \"asdf\"',\n",
       " '_i19': 't2 = \"asdf2\"',\n",
       " '_i2': 'asdm',\n",
       " '_i20': 't3 = asdf3',\n",
       " '_i21': 't1',\n",
       " '_i22': 't2',\n",
       " '_i23': 'd = a + b + c',\n",
       " '_i24': 'print(d)',\n",
       " '_i25': 'a+b+c',\n",
       " '_i26': '32',\n",
       " '_i27': '10-5',\n",
       " '_i28': '##el orden de operaciones con el que trabaja python es el mismo orden de algrebra. division, multiplicacion, resta, suma',\n",
       " '_i29': 'ls()',\n",
       " '_i3': 'print(\"Bienvenido a MCPP \")',\n",
       " '_i30': 'ls',\n",
       " '_i31': 'd/3',\n",
       " '_i32': 'd/3.0',\n",
       " '_i33': 'd//3',\n",
       " '_i34': '##// se desace del residuo me dice cuantas veces cabe un numero ',\n",
       " '_i35': 'd % 3 ##me da el residuo',\n",
       " '_i36': '10 -2 *3',\n",
       " '_i37': '(10 -2)*3',\n",
       " '_i38': '##el orden de operaciones con el que trabaja python es el mismo orden de algrebra. division, multiplicacion, resta, suma.\\n##recordar que spider se aprece a R studio ',\n",
       " '_i39': 'ti + t2 ##concatenar texto \\nt1 + \" \" + t2 ##se le pone strings con estacio o con lo que quiera ',\n",
       " '_i4': 'mensaje = \"Bienvenido a MCPP\"',\n",
       " '_i40': 't1 + t2 ##concatenar texto \\nt1 + \" \" + t2 ##se le pone strings con estacio o con lo que quiera ',\n",
       " '_i41': 't1 = \"Nathalie\"',\n",
       " '_i42': 't2 = \"Basto A\"',\n",
       " '_i43': 't1 + \" \" + t2 ##se le pone strings con estacio o con lo que quiera ',\n",
       " '_i44': 't1 + t2 ##concatenar texto ',\n",
       " '_i45': 't1 + a ##saca error porque es un entero ',\n",
       " '_i46': 'a',\n",
       " '_i47': '##mayusculas sostenidas se usa paa las constantes PI minuscula para variables ',\n",
       " '_i48': 'input() ##el computador le pregunta al usuario que le diga algo ',\n",
       " '_i49': 'a = input()',\n",
       " '_i5': 'mensaje = \"Bienvenido a MCPP\"',\n",
       " '_i50': 'd > 5 ##me dice si una xpresion es verdadero o falso ',\n",
       " '_i51': 'a > 5 ##a al poner en input quedo guardada como a ',\n",
       " '_i52': 'type(a)',\n",
       " '_i53': 'int(a)>5 ##int convierte la variable en entero',\n",
       " '_i54': '10<a ',\n",
       " '_i55': '10<int(a) ',\n",
       " '_i56': 'type(a)',\n",
       " '_i57': 'a = int(a)',\n",
       " '_i58': 'type(a)',\n",
       " '_i59': 'c >=5',\n",
       " '_i6': 'print(mensaje)',\n",
       " '_i60': 'b > 5 and d>5',\n",
       " '_i61': 'not (b > 5 and d>=5)',\n",
       " '_i62': 'b != 5',\n",
       " '_i63': 'a',\n",
       " '_i64': 'a = 20',\n",
       " '_i65': 'a ',\n",
       " '_i66': 'a ==20 ##para validar si a es = 20 entonces uso doble igual ',\n",
       " '_i67': '##hay una lista de palabras resevadas que no seles puede definir una variable como : Flase , none, true, if, and, for, in, is, except, else, def, assert, break , etc. ',\n",
       " '_i68': 'print=3',\n",
       " '_i69': 'print(print)',\n",
       " '_i7': 'mensaje2 = \"hola\"\\nprint(mensaje2)',\n",
       " '_i70': 'print(a)',\n",
       " '_i71': 'print(d)',\n",
       " '_i72': 'print',\n",
       " '_i73': 'print(\"hola\")',\n",
       " '_i74': 'del(print) ##me dropea la variable y vuelve a valor incial',\n",
       " '_i75': 'print(a)',\n",
       " '_i76': 'locals()  ##me dice cuales son las variables que he creado ',\n",
       " '_i8': '##Tipos',\n",
       " '_i9': 'a=5\\nb=3\\nc=2',\n",
       " '_ih': ['',\n",
       "  'print(\"Bienvenido a MCPP \")',\n",
       "  'asdm',\n",
       "  'print(\"Bienvenido a MCPP \")',\n",
       "  'mensaje = \"Bienvenido a MCPP\"',\n",
       "  'mensaje = \"Bienvenido a MCPP\"',\n",
       "  'print(mensaje)',\n",
       "  'mensaje2 = \"hola\"\\nprint(mensaje2)',\n",
       "  '##Tipos',\n",
       "  'a=5\\nb=3\\nc=2',\n",
       "  'print(a)',\n",
       "  'print(b)',\n",
       "  'print(c)',\n",
       "  'type(a)',\n",
       "  'x - 15.0',\n",
       "  'x = 15.0',\n",
       "  'print(x)',\n",
       "  'type(x)',\n",
       "  't1 = \"asdf\"',\n",
       "  't2 = \"asdf2\"',\n",
       "  't3 = asdf3',\n",
       "  't1',\n",
       "  't2',\n",
       "  'd = a + b + c',\n",
       "  'print(d)',\n",
       "  'a+b+c',\n",
       "  '32',\n",
       "  '10-5',\n",
       "  '##el orden de operaciones con el que trabaja python es el mismo orden de algrebra. division, multiplicacion, resta, suma',\n",
       "  \"get_ipython().magic('ls ()')\",\n",
       "  \"get_ipython().magic('ls ')\",\n",
       "  'd/3',\n",
       "  'd/3.0',\n",
       "  'd//3',\n",
       "  '##// se desace del residuo me dice cuantas veces cabe un numero ',\n",
       "  'd % 3 ##me da el residuo',\n",
       "  '10 -2 *3',\n",
       "  '(10 -2)*3',\n",
       "  '##el orden de operaciones con el que trabaja python es el mismo orden de algrebra. division, multiplicacion, resta, suma.\\n##recordar que spider se aprece a R studio ',\n",
       "  'ti + t2 ##concatenar texto \\nt1 + \" \" + t2 ##se le pone strings con estacio o con lo que quiera ',\n",
       "  't1 + t2 ##concatenar texto \\nt1 + \" \" + t2 ##se le pone strings con estacio o con lo que quiera ',\n",
       "  't1 = \"Nathalie\"',\n",
       "  't2 = \"Basto A\"',\n",
       "  't1 + \" \" + t2 ##se le pone strings con estacio o con lo que quiera ',\n",
       "  't1 + t2 ##concatenar texto ',\n",
       "  't1 + a ##saca error porque es un entero ',\n",
       "  'a',\n",
       "  '##mayusculas sostenidas se usa paa las constantes PI minuscula para variables ',\n",
       "  'input() ##el computador le pregunta al usuario que le diga algo ',\n",
       "  'a = input()',\n",
       "  'd > 5 ##me dice si una xpresion es verdadero o falso ',\n",
       "  'a > 5 ##a al poner en input quedo guardada como a ',\n",
       "  'type(a)',\n",
       "  'int(a)>5 ##int convierte la variable en entero',\n",
       "  '10<a ',\n",
       "  '10<int(a) ',\n",
       "  'type(a)',\n",
       "  'a = int(a)',\n",
       "  'type(a)',\n",
       "  'c >=5',\n",
       "  'b > 5 and d>5',\n",
       "  'not (b > 5 and d>=5)',\n",
       "  'b != 5',\n",
       "  'a',\n",
       "  'a = 20',\n",
       "  'a ',\n",
       "  'a ==20 ##para validar si a es = 20 entonces uso doble igual ',\n",
       "  '##hay una lista de palabras resevadas que no seles puede definir una variable como : Flase , none, true, if, and, for, in, is, except, else, def, assert, break , etc. ',\n",
       "  'print=3',\n",
       "  'print(print)',\n",
       "  'print(a)',\n",
       "  'print(d)',\n",
       "  'print',\n",
       "  'print(\"hola\")',\n",
       "  'del(print) ##me dropea la variable y vuelve a valor incial',\n",
       "  'print(a)',\n",
       "  'locals()  ##me dice cuales son las variables que he creado '],\n",
       " '_ii': 'del(print) ##me dropea la variable y vuelve a valor incial',\n",
       " '_iii': 'print(\"hola\")',\n",
       " '_oh': {13: int,\n",
       "  17: float,\n",
       "  21: 'asdf',\n",
       "  22: 'asdf2',\n",
       "  25: 10,\n",
       "  26: 32,\n",
       "  27: 5,\n",
       "  31: 3.3333333333333335,\n",
       "  32: 3.3333333333333335,\n",
       "  33: 3,\n",
       "  35: 1,\n",
       "  36: 4,\n",
       "  37: 24,\n",
       "  40: 'asdf asdf2',\n",
       "  43: 'Nathalie Basto A',\n",
       "  44: 'NathalieBasto A',\n",
       "  46: 5,\n",
       "  48: '\"esto es una prueba\"',\n",
       "  50: True,\n",
       "  52: str,\n",
       "  53: True,\n",
       "  55: True,\n",
       "  56: str,\n",
       "  58: int,\n",
       "  59: False,\n",
       "  60: False,\n",
       "  61: True,\n",
       "  62: True,\n",
       "  63: 34,\n",
       "  65: 20,\n",
       "  66: True,\n",
       "  72: 3},\n",
       " '_sh': <module 'IPython.core.shadowns' from 'C:\\\\Users\\\\Nathalie\\\\Anaconda3\\\\lib\\\\site-packages\\\\IPython\\\\core\\\\shadowns.py'>,\n",
       " 'a': 20,\n",
       " 'b': 3,\n",
       " 'c': 2,\n",
       " 'd': 10,\n",
       " 'exit': <IPython.core.autocall.ZMQExitAutocall at 0xf52c473e48>,\n",
       " 'get_ipython': <bound method InteractiveShell.get_ipython of <ipykernel.zmqshell.ZMQInteractiveShell object at 0x000000F52AF970B8>>,\n",
       " 'mensaje': 'Bienvenido a MCPP',\n",
       " 'mensaje2': 'hola',\n",
       " 'quit': <IPython.core.autocall.ZMQExitAutocall at 0xf52c473e48>,\n",
       " 't1': 'Nathalie',\n",
       " 't2': 'Basto A',\n",
       " 'x': 15.0}"
      ]
     },
     "execution_count": 76,
     "metadata": {},
     "output_type": "execute_result"
    }
   ],
   "source": [
    "locals()  ##me dice cual es el historial de todo lo que he hecho "
   ]
  },
  {
   "cell_type": "code",
   "execution_count": 78,
   "metadata": {
    "collapsed": false
   },
   "outputs": [
    {
     "name": "stdout",
     "output_type": "stream",
     "text": [
      "3\n"
     ]
    }
   ],
   "source": [
    "print(b)"
   ]
  },
  {
   "cell_type": "code",
   "execution_count": null,
   "metadata": {
    "collapsed": true
   },
   "outputs": [],
   "source": []
  }
 ],
 "metadata": {
  "kernelspec": {
   "display_name": "Python [Root]",
   "language": "python",
   "name": "Python [Root]"
  },
  "language_info": {
   "codemirror_mode": {
    "name": "ipython",
    "version": 3
   },
   "file_extension": ".py",
   "mimetype": "text/x-python",
   "name": "python",
   "nbconvert_exporter": "python",
   "pygments_lexer": "ipython3",
   "version": "3.5.2"
  }
 },
 "nbformat": 4,
 "nbformat_minor": 0
}
