{
 "cells": [
  {
   "cell_type": "markdown",
   "metadata": {},
   "source": [
    "[10 puntos] Escriba un programa para resolver el siguiente problema. \n",
    "\n",
    "Usted tiene cuatro archivos de texto independientes, con la información de 63 estudiantes. En todos los archivos están los nombres y apellidos (en adelante, \"nombres\") de los 63 estudiantes y en todos los archivos la información se encuentra ordenada alfabéticamente por apellido o nombre (irrelevante), pero cada archivo tiene información diferente: el archivo 1 (\"archivo1.txt\") tiene nombres y cédula; el archivo 2 (\"archivo2.txt\") tiene nombres y e-mail; el archivo 3 (\"archivo3.txt\") tiene nombres y calificación de evaluación #1; y el archivo 4 (\"archivo4.txt\") tiene nombres y calificación de evaluación #2. \n",
    "\n",
    "En todos los archivos los nombres están separados de la demás información por una coma. Su tarea consiste en crear, a partir de esos cuatro archivos, una variable llamada \"estudiantes\". Esta será asignada a un diccionario cuyas llaves sean las cédulas de los 63 estudiantes, y sus respectivos valores sean a su vez diccionarios. Cada cédula tendrá como valor un diccionario con cuatro llaves, de manera que al final la variable \"estudiantes\" tendrá la siguiente forma: \n",
    "\n",
    "{<cédula1>: {\"Nombres\": <nombres>, \"e-mail\": <e-mail>, \"evaluación #1\": <evaluación #1>, \"evaluación #2\": <evaluación 2>}, <cédula2>: {\"Nombres\": <nombres>, \"e-mail\": <e-mail>, \"evaluación #1\": <evaluación #1>, \"evaluación #2\": <evaluación 2>}, ... , <cédula63>: {\"Nombres\": <nombres>, \"e-mail\": <e-mail>, \"evaluación #1\": <evaluación #1>, \"evaluación #2\": <evaluación 2>}}. \n",
    "\n",
    "(Tenga en cuenta que los signos <> se utilizan para referirse a información que irá en ese lugar, pero no de manera literal. Las comillas, desde luego, sí hacen referencia a contenido literal.)"
   ]
  },
  {
   "cell_type": "code",
   "execution_count": 56,
   "metadata": {
    "collapsed": true
   },
   "outputs": [],
   "source": []
  },
  {
   "cell_type": "code",
   "execution_count": 1,
   "metadata": {
    "collapsed": true
   },
   "outputs": [
    {
     "data": {
      "text/plain": [
       "['ADRIANA PAOLA CUJAR ALARCON,123412341',\n",
       " 'ADRIANA GIRALDO GOMEZ,123412342',\n",
       " 'ADRIANA MARCELA SALCEDO SEGURA,123412343',\n",
       " 'ALEXANDER  DUARTE SANDOVAL,123412344',\n",
       " 'ALCIRA SANTANILLA CARVAJAL,123412345',\n",
       " 'AMPARO MONTOYA MONTOYA,123412346',\n",
       " 'ANA MARIA LOZANO SANTOS,123412347',\n",
       " 'ANDREA ARIZA ZAMBRANO,123412348',\n",
       " 'ANDREA CAROLINA ACUÃ‘A MENDOZA,123412349',\n",
       " 'ANDREA DEL PILAR CORTES BARRETO,123412350',\n",
       " 'ANDREA DEL PILAR GUZMAN ROJAS,123412351',\n",
       " 'ANDREA PAOLA GUTIERREZ ROMERO,123412352',\n",
       " 'ANDREA LILIANA SAMPER MARTINEZ,123412353',\n",
       " 'ANDREA MARCELA BARRAGAN GARCIA,123412354',\n",
       " 'ANDREA YOHANNA PINZON YEPES,123412355',\n",
       " 'AMELIA PEREZ TABARES,123412356',\n",
       " 'ALEJANDRA MARIA AGUDELO SUAREZ,123412357',\n",
       " 'ALVARO CALDERON ARTUNDUAGA,123412358',\n",
       " 'AYDA CATALINA PULIDO CHAPARRO,123412359',\n",
       " 'BERTHA XIMENA PATRICIA BARBOSA TORRES,123412360',\n",
       " 'BETSABE BAUTISTA VARGAS,123412361',\n",
       " 'CAMILO ALEXANDER BOLIVAR FORERO,123412362',\n",
       " 'CAROLINA ISAZA RAMIREZ ,123412363',\n",
       " 'CESAR AUGUSTO RAMIREZ LAVERDE,123412364',\n",
       " 'CELMIRA PATRICIA ARROYAVE CORREDOR,123412365',\n",
       " 'CLAUDIA MARCELA NAVARRETE CORTES,123412366',\n",
       " 'CLAUDIA MARCELAS LOZADA ARAGON,123412367',\n",
       " 'CLAUDIA PATRICIA BOLIVAR CARREÃ‘O,123412368',\n",
       " 'CLAUDIA PATRICIA GALLO CIFUENTES,123412369',\n",
       " 'CLAUDIA PILAR VANEGAS ORTIZ,123412370',\n",
       " 'CONSTANZA AGUDELO FORERO,123412371',\n",
       " 'CONSUELO GUERRERO CALDERON,123412372',\n",
       " 'CONSUELO REYES SUAREZ,123412373',\n",
       " 'CRYSHNA CONSUELO MOSCOSO PEÃ‘A,123412374',\n",
       " 'DIANA CAROLINA PALACIOS ZAQUE,123412375',\n",
       " 'DIANA MARCELA HERRERA HERRERA,123412376',\n",
       " 'DIANA MILENA SABOGAL RAMIREZ,123412377',\n",
       " 'DIANA PATRICIA AVILA SAENZ,123412378',\n",
       " 'DIANA PATRICIA BENAVIDEZ SOLORZA,123412379',\n",
       " 'DIEGO ANDRES VALERO GARAY,123412380',\n",
       " 'DOLLY JANETH PRADA GUZMAN,123412381',\n",
       " 'ELIZABETH CARDENAS MARTINEZ,123412382',\n",
       " 'ELIZABETH JAIMES SANCHEZ,123412383',\n",
       " 'ELKIN RONALD PUCHE VEGA,123412384',\n",
       " 'ERLEY CAMACHO MENDOZA,123412385',\n",
       " 'ERIKA YINETH VILLALBA OLAYA,123412386',\n",
       " 'ERIKA ANDREA VANEGAS HERRERA,123412387',\n",
       " 'FABIAN RICO RODRIGUEZ,123412388',\n",
       " 'FANNY ESMERALDA PAEZ GONZALEZ,123412389',\n",
       " 'FERMIN ARIZA IGLESIAS,123412390',\n",
       " 'FRANCE JURANNI CENDALES LADINO,123412391',\n",
       " 'GABY ELENITH MANZANO URIBE,123412392',\n",
       " 'GILMA ESPINOSA DIAZ,123412393',\n",
       " 'GRACIELA TORRES TORRES,123412394',\n",
       " 'GLORIA AMPARO PEREZ OSSA,123412395',\n",
       " 'GLORIA ISABEL MARTINEZ PARRA,123412396',\n",
       " 'GLORIA PATRICIA LOPEZ FIGUEROA,123412397',\n",
       " 'GLORIA ROCIO CABRERA SANCHEZ,123412398',\n",
       " 'GUSTAVO ALBERTO MENDOZA LOPEZ,123412399',\n",
       " 'GUSTAVO ADOLFO DIAZ VERA,123412400',\n",
       " 'HERMES JACOBO GARCIA GUACANEME,123412401',\n",
       " 'INGRID MAGALY GONZALEZ ROMERO,123412402',\n",
       " 'INGRID YANETH ENCISO RODRIGUEZ,123412403']"
      ]
     },
     "execution_count": 1,
     "metadata": {},
     "output_type": "execute_result"
    }
   ],
   "source": [
    "##primero hago una lista con cada linea del archivo\n",
    "f1 = []\n",
    "with open(\"archivo1.txt\") as f:\n",
    "    for line in f:\n",
    "        x = line.strip()\n",
    "        f1.append(x)\n",
    "f1"
   ]
  },
  {
   "cell_type": "code",
   "execution_count": 5,
   "metadata": {
    "collapsed": true
   },
   "outputs": [
    {
     "data": {
      "text/plain": [
       "[['ADRIANA PAOLA CUJAR ALARCON', '123412341'],\n",
       " ['ADRIANA GIRALDO GOMEZ', '123412342'],\n",
       " ['ADRIANA MARCELA SALCEDO SEGURA', '123412343'],\n",
       " ['ALEXANDER  DUARTE SANDOVAL', '123412344'],\n",
       " ['ALCIRA SANTANILLA CARVAJAL', '123412345'],\n",
       " ['AMPARO MONTOYA MONTOYA', '123412346'],\n",
       " ['ANA MARIA LOZANO SANTOS', '123412347'],\n",
       " ['ANDREA ARIZA ZAMBRANO', '123412348'],\n",
       " ['ANDREA CAROLINA ACUÃ‘A MENDOZA', '123412349'],\n",
       " ['ANDREA DEL PILAR CORTES BARRETO', '123412350'],\n",
       " ['ANDREA DEL PILAR GUZMAN ROJAS', '123412351'],\n",
       " ['ANDREA PAOLA GUTIERREZ ROMERO', '123412352'],\n",
       " ['ANDREA LILIANA SAMPER MARTINEZ', '123412353'],\n",
       " ['ANDREA MARCELA BARRAGAN GARCIA', '123412354'],\n",
       " ['ANDREA YOHANNA PINZON YEPES', '123412355'],\n",
       " ['AMELIA PEREZ TABARES', '123412356'],\n",
       " ['ALEJANDRA MARIA AGUDELO SUAREZ', '123412357'],\n",
       " ['ALVARO CALDERON ARTUNDUAGA', '123412358'],\n",
       " ['AYDA CATALINA PULIDO CHAPARRO', '123412359'],\n",
       " ['BERTHA XIMENA PATRICIA BARBOSA TORRES', '123412360'],\n",
       " ['BETSABE BAUTISTA VARGAS', '123412361'],\n",
       " ['CAMILO ALEXANDER BOLIVAR FORERO', '123412362'],\n",
       " ['CAROLINA ISAZA RAMIREZ ', '123412363'],\n",
       " ['CESAR AUGUSTO RAMIREZ LAVERDE', '123412364'],\n",
       " ['CELMIRA PATRICIA ARROYAVE CORREDOR', '123412365'],\n",
       " ['CLAUDIA MARCELA NAVARRETE CORTES', '123412366'],\n",
       " ['CLAUDIA MARCELAS LOZADA ARAGON', '123412367'],\n",
       " ['CLAUDIA PATRICIA BOLIVAR CARREÃ‘O', '123412368'],\n",
       " ['CLAUDIA PATRICIA GALLO CIFUENTES', '123412369'],\n",
       " ['CLAUDIA PILAR VANEGAS ORTIZ', '123412370'],\n",
       " ['CONSTANZA AGUDELO FORERO', '123412371'],\n",
       " ['CONSUELO GUERRERO CALDERON', '123412372'],\n",
       " ['CONSUELO REYES SUAREZ', '123412373'],\n",
       " ['CRYSHNA CONSUELO MOSCOSO PEÃ‘A', '123412374'],\n",
       " ['DIANA CAROLINA PALACIOS ZAQUE', '123412375'],\n",
       " ['DIANA MARCELA HERRERA HERRERA', '123412376'],\n",
       " ['DIANA MILENA SABOGAL RAMIREZ', '123412377'],\n",
       " ['DIANA PATRICIA AVILA SAENZ', '123412378'],\n",
       " ['DIANA PATRICIA BENAVIDEZ SOLORZA', '123412379'],\n",
       " ['DIEGO ANDRES VALERO GARAY', '123412380'],\n",
       " ['DOLLY JANETH PRADA GUZMAN', '123412381'],\n",
       " ['ELIZABETH CARDENAS MARTINEZ', '123412382'],\n",
       " ['ELIZABETH JAIMES SANCHEZ', '123412383'],\n",
       " ['ELKIN RONALD PUCHE VEGA', '123412384'],\n",
       " ['ERLEY CAMACHO MENDOZA', '123412385'],\n",
       " ['ERIKA YINETH VILLALBA OLAYA', '123412386'],\n",
       " ['ERIKA ANDREA VANEGAS HERRERA', '123412387'],\n",
       " ['FABIAN RICO RODRIGUEZ', '123412388'],\n",
       " ['FANNY ESMERALDA PAEZ GONZALEZ', '123412389'],\n",
       " ['FERMIN ARIZA IGLESIAS', '123412390'],\n",
       " ['FRANCE JURANNI CENDALES LADINO', '123412391'],\n",
       " ['GABY ELENITH MANZANO URIBE', '123412392'],\n",
       " ['GILMA ESPINOSA DIAZ', '123412393'],\n",
       " ['GRACIELA TORRES TORRES', '123412394'],\n",
       " ['GLORIA AMPARO PEREZ OSSA', '123412395'],\n",
       " ['GLORIA ISABEL MARTINEZ PARRA', '123412396'],\n",
       " ['GLORIA PATRICIA LOPEZ FIGUEROA', '123412397'],\n",
       " ['GLORIA ROCIO CABRERA SANCHEZ', '123412398'],\n",
       " ['GUSTAVO ALBERTO MENDOZA LOPEZ', '123412399'],\n",
       " ['GUSTAVO ADOLFO DIAZ VERA', '123412400'],\n",
       " ['HERMES JACOBO GARCIA GUACANEME', '123412401'],\n",
       " ['INGRID MAGALY GONZALEZ ROMERO', '123412402'],\n",
       " ['INGRID YANETH ENCISO RODRIGUEZ', '123412403']]"
      ]
     },
     "execution_count": 5,
     "metadata": {},
     "output_type": "execute_result"
    }
   ],
   "source": [
    "##creo una lista de listas cuyos elemento son el nombre y la cedula\n",
    "\n",
    "f1_aparte=[]\n",
    "for cosa in f1:\n",
    "    x=cosa.split(\",\")\n",
    "    f1_aparte.append(x)\n",
    "f1_aparte"
   ]
  },
  {
   "cell_type": "code",
   "execution_count": 13,
   "metadata": {
    "collapsed": true
   },
   "outputs": [
    {
     "name": "stdout",
     "output_type": "stream",
     "text": [
      "[123412341, 123412342, 123412343, 123412344, 123412345, 123412346, 123412347, 123412348, 123412349, 123412350, 123412351, 123412352, 123412353, 123412354, 123412355, 123412356, 123412357, 123412358, 123412359, 123412360, 123412361, 123412362, 123412363, 123412364, 123412365, 123412366, 123412367, 123412368, 123412369, 123412370, 123412371, 123412372, 123412373, 123412374, 123412375, 123412376, 123412377, 123412378, 123412379, 123412380, 123412381, 123412382, 123412383, 123412384, 123412385, 123412386, 123412387, 123412388, 123412389, 123412390, 123412391, 123412392, 123412393, 123412394, 123412395, 123412396, 123412397, 123412398, 123412399, 123412400, 123412401, 123412402, 123412403]\n",
      "['ADRIANA PAOLA CUJAR ALARCON', 'ADRIANA GIRALDO GOMEZ', 'ADRIANA MARCELA SALCEDO SEGURA', 'ALEXANDER  DUARTE SANDOVAL', 'ALCIRA SANTANILLA CARVAJAL', 'AMPARO MONTOYA MONTOYA', 'ANA MARIA LOZANO SANTOS', 'ANDREA ARIZA ZAMBRANO', 'ANDREA CAROLINA ACUÃ‘A MENDOZA', 'ANDREA DEL PILAR CORTES BARRETO', 'ANDREA DEL PILAR GUZMAN ROJAS', 'ANDREA PAOLA GUTIERREZ ROMERO', 'ANDREA LILIANA SAMPER MARTINEZ', 'ANDREA MARCELA BARRAGAN GARCIA', 'ANDREA YOHANNA PINZON YEPES', 'AMELIA PEREZ TABARES', 'ALEJANDRA MARIA AGUDELO SUAREZ', 'ALVARO CALDERON ARTUNDUAGA', 'AYDA CATALINA PULIDO CHAPARRO', 'BERTHA XIMENA PATRICIA BARBOSA TORRES', 'BETSABE BAUTISTA VARGAS', 'CAMILO ALEXANDER BOLIVAR FORERO', 'CAROLINA ISAZA RAMIREZ ', 'CESAR AUGUSTO RAMIREZ LAVERDE', 'CELMIRA PATRICIA ARROYAVE CORREDOR', 'CLAUDIA MARCELA NAVARRETE CORTES', 'CLAUDIA MARCELAS LOZADA ARAGON', 'CLAUDIA PATRICIA BOLIVAR CARREÃ‘O', 'CLAUDIA PATRICIA GALLO CIFUENTES', 'CLAUDIA PILAR VANEGAS ORTIZ', 'CONSTANZA AGUDELO FORERO', 'CONSUELO GUERRERO CALDERON', 'CONSUELO REYES SUAREZ', 'CRYSHNA CONSUELO MOSCOSO PEÃ‘A', 'DIANA CAROLINA PALACIOS ZAQUE', 'DIANA MARCELA HERRERA HERRERA', 'DIANA MILENA SABOGAL RAMIREZ', 'DIANA PATRICIA AVILA SAENZ', 'DIANA PATRICIA BENAVIDEZ SOLORZA', 'DIEGO ANDRES VALERO GARAY', 'DOLLY JANETH PRADA GUZMAN', 'ELIZABETH CARDENAS MARTINEZ', 'ELIZABETH JAIMES SANCHEZ', 'ELKIN RONALD PUCHE VEGA', 'ERLEY CAMACHO MENDOZA', 'ERIKA YINETH VILLALBA OLAYA', 'ERIKA ANDREA VANEGAS HERRERA', 'FABIAN RICO RODRIGUEZ', 'FANNY ESMERALDA PAEZ GONZALEZ', 'FERMIN ARIZA IGLESIAS', 'FRANCE JURANNI CENDALES LADINO', 'GABY ELENITH MANZANO URIBE', 'GILMA ESPINOSA DIAZ', 'GRACIELA TORRES TORRES', 'GLORIA AMPARO PEREZ OSSA', 'GLORIA ISABEL MARTINEZ PARRA', 'GLORIA PATRICIA LOPEZ FIGUEROA', 'GLORIA ROCIO CABRERA SANCHEZ', 'GUSTAVO ALBERTO MENDOZA LOPEZ', 'GUSTAVO ADOLFO DIAZ VERA', 'HERMES JACOBO GARCIA GUACANEME', 'INGRID MAGALY GONZALEZ ROMERO', 'INGRID YANETH ENCISO RODRIGUEZ']\n"
     ]
    },
    {
     "data": {
      "text/plain": [
       "63"
      ]
     },
     "execution_count": 13,
     "metadata": {},
     "output_type": "execute_result"
    }
   ],
   "source": [
    "##del la lista tomo el segundo elemento de cada sublista para tener una lista de solo cedulas\n",
    "cedulas=[]\n",
    "for i in range(len(f1_aparte)):\n",
    "    c=f1_aparte[i][1]\n",
    "    cedulas.append(int(c))\n",
    "\n",
    "print(cedulas)\n",
    "\n",
    "\n",
    "##hago lo mismo para nombres\n",
    "nombres=[]\n",
    "for i in range(len(f1_aparte)):\n",
    "    n=f1_aparte[i][0]\n",
    "    nombres.append(n)\n",
    "\n",
    "print(nombres)\n",
    "len(nombres)"
   ]
  },
  {
   "cell_type": "code",
   "execution_count": null,
   "metadata": {
    "collapsed": true
   },
   "outputs": [],
   "source": [
    "##voy a hacer lo mismo con los otros archivos para tener una lista de emails, una lista de notas1, y una lista de notas2"
   ]
  },
  {
   "cell_type": "code",
   "execution_count": 15,
   "metadata": {
    "collapsed": true
   },
   "outputs": [
    {
     "name": "stdout",
     "output_type": "stream",
     "text": [
      "['1@gmail.com', '2@gmail.com', '3@gmail.com', '4@gmail.com', '5@gmail.com', '6@gmail.com', '7@gmail.com', '8@gmail.com', '9@gmail.com', '10@gmail.com', '11@gmail.com', '12@gmail.com', '13@gmail.com', '14@gmail.com', '15@gmail.com', '16@gmail.com', '17@gmail.com', '18@gmail.com', '19@gmail.com', '20@gmail.com', '21@gmail.com', '22@gmail.com', '23@gmail.com', '24@gmail.com', '25@gmail.com', '26@gmail.com', '27@gmail.com', '28@gmail.com', '29@gmail.com', '30@gmail.com', '31@gmail.com', '32@gmail.com', '33@gmail.com', '34@gmail.com', '35@gmail.com', '36@gmail.com', '37@gmail.com', '38@gmail.com', '39@gmail.com', '40@gmail.com', '41@gmail.com', '42@gmail.com', '43@gmail.com', '44@gmail.com', '45@gmail.com', '46@gmail.com', '47@gmail.com', '48@gmail.com', '49@gmail.com', '50@gmail.com', '51@gmail.com', '52@gmail.com', '53@gmail.com', '54@gmail.com', '55@gmail.com', '56@gmail.com', '57@gmail.com', '58@gmail.com', '59@gmail.com', '60@gmail.com', '61@gmail.com', '62@gmail.com', '63@gmail.com']\n"
     ]
    },
    {
     "data": {
      "text/plain": [
       "63"
      ]
     },
     "execution_count": 15,
     "metadata": {},
     "output_type": "execute_result"
    }
   ],
   "source": [
    "f2 = []\n",
    "with open(\"archivo2.txt\") as b:\n",
    "    for line in b:\n",
    "        x = line.strip()\n",
    "        f2.append(x)\n",
    "\n",
    "f2_aparte=[]\n",
    "for cosa in f2:\n",
    "    cosa2=cosa.split(\",\")\n",
    "    f2_aparte.append(cosa2)\n",
    "\n",
    "##del la lista tomo el segundo elemento de cada sublista para tener una lista de solo emails\n",
    "emails=[]\n",
    "for i in range(len(f2_aparte)):\n",
    "    e=f2_aparte[i][1]\n",
    "    emails.append(e)\n",
    "\n",
    "print(emails)\n",
    "len(emails)"
   ]
  },
  {
   "cell_type": "code",
   "execution_count": 16,
   "metadata": {
    "collapsed": true
   },
   "outputs": [
    {
     "name": "stdout",
     "output_type": "stream",
     "text": [
      "['1', '2', '3', '4', '5', '6', '7', '8', '9', '10', '11', '12', '13', '14', '15', '16', '17', '18', '19', '20', '21', '22', '23', '24', '25', '26', '27', '28', '29', '30', '31', '32', '33', '34', '35', '36', '37', '38', '39', '40', '41', '42', '43', '44', '45', '46', '47', '48', '49', '50', '51', '52', '53', '54', '55', '56', '57', '58', '59', '60', '61', '62', '63']\n"
     ]
    },
    {
     "data": {
      "text/plain": [
       "63"
      ]
     },
     "execution_count": 16,
     "metadata": {},
     "output_type": "execute_result"
    }
   ],
   "source": [
    "f3 = []\n",
    "with open(\"archivo3.txt\") as c:\n",
    "    for line in c:\n",
    "        x = line.strip()\n",
    "        f3.append(x)\n",
    "\n",
    "f3_aparte=[]\n",
    "for cosa in f3:\n",
    "    cosa3=cosa.split(\",\")\n",
    "    f3_aparte.append(cosa3)\n",
    "\n",
    "##del la lista tomo el segundo elemento de cada sublista para tener una lista de solo notas1\n",
    "notas1=[]\n",
    "for i in range(len(f3_aparte)):\n",
    "    n=f3_aparte[i][1]\n",
    "    notas1.append(n)\n",
    "\n",
    "print(notas1)\n",
    "len(notas1)"
   ]
  },
  {
   "cell_type": "code",
   "execution_count": 17,
   "metadata": {
    "collapsed": true
   },
   "outputs": [
    {
     "name": "stdout",
     "output_type": "stream",
     "text": [
      "['63', '62', '61', '60', '59', '58', '57', '56', '55', '54', '53', '52', '51', '50', '49', '48', '47', '46', '45', '44', '43', '42', '41', '40', '39', '38', '37', '36', '35', '34', '33', '32', '31', '30', '29', '28', '27', '26', '25', '24', '23', '22', '21', '20', '19', '18', '17', '16', '15', '14', '13', '12', '11', '10', '9', '8', '7', '6', '5', '4', '3', '2', '1']\n"
     ]
    },
    {
     "data": {
      "text/plain": [
       "63"
      ]
     },
     "execution_count": 17,
     "metadata": {},
     "output_type": "execute_result"
    }
   ],
   "source": [
    "f4 = []\n",
    "with open(\"archivo4.txt\") as d:\n",
    "    for line in d:\n",
    "        x = line.strip()\n",
    "        f4.append(x)\n",
    "\n",
    "f4_aparte=[]\n",
    "for cosa in f4:\n",
    "    cosa4=cosa.split(\",\")\n",
    "    f4_aparte.append(cosa4)\n",
    "\n",
    "##del la lista tomo el segundo elemento de cada sublista para tener una lista de solo notas2\n",
    "notas2=[]\n",
    "for i in range(len(f4_aparte)):\n",
    "    N=f4_aparte[i][1]\n",
    "    notas2.append(N)\n",
    "\n",
    "print(notas2)\n",
    "len(notas2)"
   ]
  },
  {
   "cell_type": "code",
   "execution_count": 19,
   "metadata": {
    "collapsed": true
   },
   "outputs": [
    {
     "name": "stdout",
     "output_type": "stream",
     "text": [
      "[123412341, 123412342, 123412343, 123412344, 123412345, 123412346, 123412347, 123412348, 123412349, 123412350, 123412351, 123412352, 123412353, 123412354, 123412355, 123412356, 123412357, 123412358, 123412359, 123412360, 123412361, 123412362, 123412363, 123412364, 123412365, 123412366, 123412367, 123412368, 123412369, 123412370, 123412371, 123412372, 123412373, 123412374, 123412375, 123412376, 123412377, 123412378, 123412379, 123412380, 123412381, 123412382, 123412383, 123412384, 123412385, 123412386, 123412387, 123412388, 123412389, 123412390, 123412391, 123412392, 123412393, 123412394, 123412395, 123412396, 123412397, 123412398, 123412399, 123412400, 123412401, 123412402, 123412403]\n",
      "['ADRIANA PAOLA CUJAR ALARCON', 'ADRIANA GIRALDO GOMEZ', 'ADRIANA MARCELA SALCEDO SEGURA', 'ALEXANDER  DUARTE SANDOVAL', 'ALCIRA SANTANILLA CARVAJAL', 'AMPARO MONTOYA MONTOYA', 'ANA MARIA LOZANO SANTOS', 'ANDREA ARIZA ZAMBRANO', 'ANDREA CAROLINA ACUÃ‘A MENDOZA', 'ANDREA DEL PILAR CORTES BARRETO', 'ANDREA DEL PILAR GUZMAN ROJAS', 'ANDREA PAOLA GUTIERREZ ROMERO', 'ANDREA LILIANA SAMPER MARTINEZ', 'ANDREA MARCELA BARRAGAN GARCIA', 'ANDREA YOHANNA PINZON YEPES', 'AMELIA PEREZ TABARES', 'ALEJANDRA MARIA AGUDELO SUAREZ', 'ALVARO CALDERON ARTUNDUAGA', 'AYDA CATALINA PULIDO CHAPARRO', 'BERTHA XIMENA PATRICIA BARBOSA TORRES', 'BETSABE BAUTISTA VARGAS', 'CAMILO ALEXANDER BOLIVAR FORERO', 'CAROLINA ISAZA RAMIREZ ', 'CESAR AUGUSTO RAMIREZ LAVERDE', 'CELMIRA PATRICIA ARROYAVE CORREDOR', 'CLAUDIA MARCELA NAVARRETE CORTES', 'CLAUDIA MARCELAS LOZADA ARAGON', 'CLAUDIA PATRICIA BOLIVAR CARREÃ‘O', 'CLAUDIA PATRICIA GALLO CIFUENTES', 'CLAUDIA PILAR VANEGAS ORTIZ', 'CONSTANZA AGUDELO FORERO', 'CONSUELO GUERRERO CALDERON', 'CONSUELO REYES SUAREZ', 'CRYSHNA CONSUELO MOSCOSO PEÃ‘A', 'DIANA CAROLINA PALACIOS ZAQUE', 'DIANA MARCELA HERRERA HERRERA', 'DIANA MILENA SABOGAL RAMIREZ', 'DIANA PATRICIA AVILA SAENZ', 'DIANA PATRICIA BENAVIDEZ SOLORZA', 'DIEGO ANDRES VALERO GARAY', 'DOLLY JANETH PRADA GUZMAN', 'ELIZABETH CARDENAS MARTINEZ', 'ELIZABETH JAIMES SANCHEZ', 'ELKIN RONALD PUCHE VEGA', 'ERLEY CAMACHO MENDOZA', 'ERIKA YINETH VILLALBA OLAYA', 'ERIKA ANDREA VANEGAS HERRERA', 'FABIAN RICO RODRIGUEZ', 'FANNY ESMERALDA PAEZ GONZALEZ', 'FERMIN ARIZA IGLESIAS', 'FRANCE JURANNI CENDALES LADINO', 'GABY ELENITH MANZANO URIBE', 'GILMA ESPINOSA DIAZ', 'GRACIELA TORRES TORRES', 'GLORIA AMPARO PEREZ OSSA', 'GLORIA ISABEL MARTINEZ PARRA', 'GLORIA PATRICIA LOPEZ FIGUEROA', 'GLORIA ROCIO CABRERA SANCHEZ', 'GUSTAVO ALBERTO MENDOZA LOPEZ', 'GUSTAVO ADOLFO DIAZ VERA', 'HERMES JACOBO GARCIA GUACANEME', 'INGRID MAGALY GONZALEZ ROMERO', 'INGRID YANETH ENCISO RODRIGUEZ']\n",
      "['1@gmail.com', '2@gmail.com', '3@gmail.com', '4@gmail.com', '5@gmail.com', '6@gmail.com', '7@gmail.com', '8@gmail.com', '9@gmail.com', '10@gmail.com', '11@gmail.com', '12@gmail.com', '13@gmail.com', '14@gmail.com', '15@gmail.com', '16@gmail.com', '17@gmail.com', '18@gmail.com', '19@gmail.com', '20@gmail.com', '21@gmail.com', '22@gmail.com', '23@gmail.com', '24@gmail.com', '25@gmail.com', '26@gmail.com', '27@gmail.com', '28@gmail.com', '29@gmail.com', '30@gmail.com', '31@gmail.com', '32@gmail.com', '33@gmail.com', '34@gmail.com', '35@gmail.com', '36@gmail.com', '37@gmail.com', '38@gmail.com', '39@gmail.com', '40@gmail.com', '41@gmail.com', '42@gmail.com', '43@gmail.com', '44@gmail.com', '45@gmail.com', '46@gmail.com', '47@gmail.com', '48@gmail.com', '49@gmail.com', '50@gmail.com', '51@gmail.com', '52@gmail.com', '53@gmail.com', '54@gmail.com', '55@gmail.com', '56@gmail.com', '57@gmail.com', '58@gmail.com', '59@gmail.com', '60@gmail.com', '61@gmail.com', '62@gmail.com', '63@gmail.com']\n",
      "['1', '2', '3', '4', '5', '6', '7', '8', '9', '10', '11', '12', '13', '14', '15', '16', '17', '18', '19', '20', '21', '22', '23', '24', '25', '26', '27', '28', '29', '30', '31', '32', '33', '34', '35', '36', '37', '38', '39', '40', '41', '42', '43', '44', '45', '46', '47', '48', '49', '50', '51', '52', '53', '54', '55', '56', '57', '58', '59', '60', '61', '62', '63']\n",
      "['63', '62', '61', '60', '59', '58', '57', '56', '55', '54', '53', '52', '51', '50', '49', '48', '47', '46', '45', '44', '43', '42', '41', '40', '39', '38', '37', '36', '35', '34', '33', '32', '31', '30', '29', '28', '27', '26', '25', '24', '23', '22', '21', '20', '19', '18', '17', '16', '15', '14', '13', '12', '11', '10', '9', '8', '7', '6', '5', '4', '3', '2', '1']\n"
     ]
    }
   ],
   "source": [
    "print(cedulas)\n",
    "print(nombres)\n",
    "print(emails)\n",
    "print(notas1)\n",
    "print(notas2)"
   ]
  },
  {
   "cell_type": "code",
   "execution_count": 20,
   "metadata": {
    "collapsed": true
   },
   "outputs": [],
   "source": [
    "c=cedulas\n",
    "tipo=['Nombre', 'Email', 'Calificacion1', 'Calificacion2']\n",
    "N=nombres\n",
    "E=emails\n",
    "C_1=notas1\n",
    "C_2=notas2\n",
    "w=[N,E,C_1,C_2]\n",
    "\n",
    "##aca ya armo el diccionario\n",
    "    \n",
    "estudiantes={}\n",
    "for k,z in zip(c,range(len(c))):\n",
    "    estudiantes[k]={}\n",
    "    for i,j in zip(tipo,w):\n",
    "        estudiantes[k][i]=j[z]"
   ]
  },
  {
   "cell_type": "code",
   "execution_count": 21,
   "metadata": {
    "collapsed": false
   },
   "outputs": [
    {
     "name": "stdout",
     "output_type": "stream",
     "text": [
      "{123412352: {'Calificacion2': '52', 'Calificacion1': '12', 'Email': '12@gmail.com', 'Nombre': 'ANDREA PAOLA GUTIERREZ ROMERO'}, 123412353: {'Calificacion2': '51', 'Calificacion1': '13', 'Email': '13@gmail.com', 'Nombre': 'ANDREA LILIANA SAMPER MARTINEZ'}, 123412354: {'Calificacion2': '50', 'Calificacion1': '14', 'Email': '14@gmail.com', 'Nombre': 'ANDREA MARCELA BARRAGAN GARCIA'}, 123412355: {'Calificacion2': '49', 'Calificacion1': '15', 'Email': '15@gmail.com', 'Nombre': 'ANDREA YOHANNA PINZON YEPES'}, 123412356: {'Calificacion2': '48', 'Calificacion1': '16', 'Email': '16@gmail.com', 'Nombre': 'AMELIA PEREZ TABARES'}, 123412357: {'Calificacion2': '47', 'Calificacion1': '17', 'Email': '17@gmail.com', 'Nombre': 'ALEJANDRA MARIA AGUDELO SUAREZ'}, 123412358: {'Calificacion2': '46', 'Calificacion1': '18', 'Email': '18@gmail.com', 'Nombre': 'ALVARO CALDERON ARTUNDUAGA'}, 123412359: {'Calificacion2': '45', 'Calificacion1': '19', 'Email': '19@gmail.com', 'Nombre': 'AYDA CATALINA PULIDO CHAPARRO'}, 123412360: {'Calificacion2': '44', 'Calificacion1': '20', 'Email': '20@gmail.com', 'Nombre': 'BERTHA XIMENA PATRICIA BARBOSA TORRES'}, 123412361: {'Calificacion2': '43', 'Calificacion1': '21', 'Email': '21@gmail.com', 'Nombre': 'BETSABE BAUTISTA VARGAS'}, 123412362: {'Calificacion2': '42', 'Calificacion1': '22', 'Email': '22@gmail.com', 'Nombre': 'CAMILO ALEXANDER BOLIVAR FORERO'}, 123412363: {'Calificacion2': '41', 'Calificacion1': '23', 'Email': '23@gmail.com', 'Nombre': 'CAROLINA ISAZA RAMIREZ '}, 123412364: {'Calificacion2': '40', 'Calificacion1': '24', 'Email': '24@gmail.com', 'Nombre': 'CESAR AUGUSTO RAMIREZ LAVERDE'}, 123412365: {'Calificacion2': '39', 'Calificacion1': '25', 'Email': '25@gmail.com', 'Nombre': 'CELMIRA PATRICIA ARROYAVE CORREDOR'}, 123412366: {'Calificacion2': '38', 'Calificacion1': '26', 'Email': '26@gmail.com', 'Nombre': 'CLAUDIA MARCELA NAVARRETE CORTES'}, 123412367: {'Calificacion2': '37', 'Calificacion1': '27', 'Email': '27@gmail.com', 'Nombre': 'CLAUDIA MARCELAS LOZADA ARAGON'}, 123412368: {'Calificacion2': '36', 'Calificacion1': '28', 'Email': '28@gmail.com', 'Nombre': 'CLAUDIA PATRICIA BOLIVAR CARREÃ‘O'}, 123412369: {'Calificacion2': '35', 'Calificacion1': '29', 'Email': '29@gmail.com', 'Nombre': 'CLAUDIA PATRICIA GALLO CIFUENTES'}, 123412370: {'Calificacion2': '34', 'Calificacion1': '30', 'Email': '30@gmail.com', 'Nombre': 'CLAUDIA PILAR VANEGAS ORTIZ'}, 123412371: {'Calificacion2': '33', 'Calificacion1': '31', 'Email': '31@gmail.com', 'Nombre': 'CONSTANZA AGUDELO FORERO'}, 123412372: {'Calificacion2': '32', 'Calificacion1': '32', 'Email': '32@gmail.com', 'Nombre': 'CONSUELO GUERRERO CALDERON'}, 123412373: {'Calificacion2': '31', 'Calificacion1': '33', 'Email': '33@gmail.com', 'Nombre': 'CONSUELO REYES SUAREZ'}, 123412374: {'Calificacion2': '30', 'Calificacion1': '34', 'Email': '34@gmail.com', 'Nombre': 'CRYSHNA CONSUELO MOSCOSO PEÃ‘A'}, 123412375: {'Calificacion2': '29', 'Calificacion1': '35', 'Email': '35@gmail.com', 'Nombre': 'DIANA CAROLINA PALACIOS ZAQUE'}, 123412376: {'Calificacion2': '28', 'Calificacion1': '36', 'Email': '36@gmail.com', 'Nombre': 'DIANA MARCELA HERRERA HERRERA'}, 123412377: {'Calificacion2': '27', 'Calificacion1': '37', 'Email': '37@gmail.com', 'Nombre': 'DIANA MILENA SABOGAL RAMIREZ'}, 123412378: {'Calificacion2': '26', 'Calificacion1': '38', 'Email': '38@gmail.com', 'Nombre': 'DIANA PATRICIA AVILA SAENZ'}, 123412379: {'Calificacion2': '25', 'Calificacion1': '39', 'Email': '39@gmail.com', 'Nombre': 'DIANA PATRICIA BENAVIDEZ SOLORZA'}, 123412380: {'Calificacion2': '24', 'Calificacion1': '40', 'Email': '40@gmail.com', 'Nombre': 'DIEGO ANDRES VALERO GARAY'}, 123412381: {'Calificacion2': '23', 'Calificacion1': '41', 'Email': '41@gmail.com', 'Nombre': 'DOLLY JANETH PRADA GUZMAN'}, 123412382: {'Calificacion2': '22', 'Calificacion1': '42', 'Email': '42@gmail.com', 'Nombre': 'ELIZABETH CARDENAS MARTINEZ'}, 123412383: {'Calificacion2': '21', 'Calificacion1': '43', 'Email': '43@gmail.com', 'Nombre': 'ELIZABETH JAIMES SANCHEZ'}, 123412384: {'Calificacion2': '20', 'Calificacion1': '44', 'Email': '44@gmail.com', 'Nombre': 'ELKIN RONALD PUCHE VEGA'}, 123412385: {'Calificacion2': '19', 'Calificacion1': '45', 'Email': '45@gmail.com', 'Nombre': 'ERLEY CAMACHO MENDOZA'}, 123412386: {'Calificacion2': '18', 'Calificacion1': '46', 'Email': '46@gmail.com', 'Nombre': 'ERIKA YINETH VILLALBA OLAYA'}, 123412387: {'Calificacion2': '17', 'Calificacion1': '47', 'Email': '47@gmail.com', 'Nombre': 'ERIKA ANDREA VANEGAS HERRERA'}, 123412388: {'Calificacion2': '16', 'Calificacion1': '48', 'Email': '48@gmail.com', 'Nombre': 'FABIAN RICO RODRIGUEZ'}, 123412389: {'Calificacion2': '15', 'Calificacion1': '49', 'Email': '49@gmail.com', 'Nombre': 'FANNY ESMERALDA PAEZ GONZALEZ'}, 123412390: {'Calificacion2': '14', 'Calificacion1': '50', 'Email': '50@gmail.com', 'Nombre': 'FERMIN ARIZA IGLESIAS'}, 123412391: {'Calificacion2': '13', 'Calificacion1': '51', 'Email': '51@gmail.com', 'Nombre': 'FRANCE JURANNI CENDALES LADINO'}, 123412392: {'Calificacion2': '12', 'Calificacion1': '52', 'Email': '52@gmail.com', 'Nombre': 'GABY ELENITH MANZANO URIBE'}, 123412393: {'Calificacion2': '11', 'Calificacion1': '53', 'Email': '53@gmail.com', 'Nombre': 'GILMA ESPINOSA DIAZ'}, 123412394: {'Calificacion2': '10', 'Calificacion1': '54', 'Email': '54@gmail.com', 'Nombre': 'GRACIELA TORRES TORRES'}, 123412395: {'Calificacion2': '9', 'Calificacion1': '55', 'Email': '55@gmail.com', 'Nombre': 'GLORIA AMPARO PEREZ OSSA'}, 123412396: {'Calificacion2': '8', 'Calificacion1': '56', 'Email': '56@gmail.com', 'Nombre': 'GLORIA ISABEL MARTINEZ PARRA'}, 123412397: {'Calificacion2': '7', 'Calificacion1': '57', 'Email': '57@gmail.com', 'Nombre': 'GLORIA PATRICIA LOPEZ FIGUEROA'}, 123412398: {'Calificacion2': '6', 'Calificacion1': '58', 'Email': '58@gmail.com', 'Nombre': 'GLORIA ROCIO CABRERA SANCHEZ'}, 123412399: {'Calificacion2': '5', 'Calificacion1': '59', 'Email': '59@gmail.com', 'Nombre': 'GUSTAVO ALBERTO MENDOZA LOPEZ'}, 123412400: {'Calificacion2': '4', 'Calificacion1': '60', 'Email': '60@gmail.com', 'Nombre': 'GUSTAVO ADOLFO DIAZ VERA'}, 123412401: {'Calificacion2': '3', 'Calificacion1': '61', 'Email': '61@gmail.com', 'Nombre': 'HERMES JACOBO GARCIA GUACANEME'}, 123412402: {'Calificacion2': '2', 'Calificacion1': '62', 'Email': '62@gmail.com', 'Nombre': 'INGRID MAGALY GONZALEZ ROMERO'}, 123412403: {'Calificacion2': '1', 'Calificacion1': '63', 'Email': '63@gmail.com', 'Nombre': 'INGRID YANETH ENCISO RODRIGUEZ'}, 123412341: {'Calificacion2': '63', 'Calificacion1': '1', 'Email': '1@gmail.com', 'Nombre': 'ADRIANA PAOLA CUJAR ALARCON'}, 123412342: {'Calificacion2': '62', 'Calificacion1': '2', 'Email': '2@gmail.com', 'Nombre': 'ADRIANA GIRALDO GOMEZ'}, 123412343: {'Calificacion2': '61', 'Calificacion1': '3', 'Email': '3@gmail.com', 'Nombre': 'ADRIANA MARCELA SALCEDO SEGURA'}, 123412344: {'Calificacion2': '60', 'Calificacion1': '4', 'Email': '4@gmail.com', 'Nombre': 'ALEXANDER  DUARTE SANDOVAL'}, 123412345: {'Calificacion2': '59', 'Calificacion1': '5', 'Email': '5@gmail.com', 'Nombre': 'ALCIRA SANTANILLA CARVAJAL'}, 123412346: {'Calificacion2': '58', 'Calificacion1': '6', 'Email': '6@gmail.com', 'Nombre': 'AMPARO MONTOYA MONTOYA'}, 123412347: {'Calificacion2': '57', 'Calificacion1': '7', 'Email': '7@gmail.com', 'Nombre': 'ANA MARIA LOZANO SANTOS'}, 123412348: {'Calificacion2': '56', 'Calificacion1': '8', 'Email': '8@gmail.com', 'Nombre': 'ANDREA ARIZA ZAMBRANO'}, 123412349: {'Calificacion2': '55', 'Calificacion1': '9', 'Email': '9@gmail.com', 'Nombre': 'ANDREA CAROLINA ACUÃ‘A MENDOZA'}, 123412350: {'Calificacion2': '54', 'Calificacion1': '10', 'Email': '10@gmail.com', 'Nombre': 'ANDREA DEL PILAR CORTES BARRETO'}, 123412351: {'Calificacion2': '53', 'Calificacion1': '11', 'Email': '11@gmail.com', 'Nombre': 'ANDREA DEL PILAR GUZMAN ROJAS'}}\n"
     ]
    }
   ],
   "source": [
    "print(estudiantes)"
   ]
  },
  {
   "cell_type": "code",
   "execution_count": 22,
   "metadata": {
    "collapsed": false
   },
   "outputs": [
    {
     "data": {
      "text/plain": [
       "{'Calificacion1': '9',\n",
       " 'Calificacion2': '55',\n",
       " 'Email': '9@gmail.com',\n",
       " 'Nombre': 'ANDREA CAROLINA ACUÃ‘A MENDOZA'}"
      ]
     },
     "execution_count": 22,
     "metadata": {},
     "output_type": "execute_result"
    }
   ],
   "source": [
    "estudiantes[123412349]"
   ]
  },
  {
   "cell_type": "code",
   "execution_count": null,
   "metadata": {
    "collapsed": true
   },
   "outputs": [],
   "source": []
  }
 ],
 "metadata": {
  "anaconda-cloud": {},
  "kernelspec": {
   "display_name": "Python [Root]",
   "language": "python",
   "name": "Python [Root]"
  },
  "language_info": {
   "codemirror_mode": {
    "name": "ipython",
    "version": 3
   },
   "file_extension": ".py",
   "mimetype": "text/x-python",
   "name": "python",
   "nbconvert_exporter": "python",
   "pygments_lexer": "ipython3",
   "version": "3.5.2"
  }
 },
 "nbformat": 4,
 "nbformat_minor": 0
}
