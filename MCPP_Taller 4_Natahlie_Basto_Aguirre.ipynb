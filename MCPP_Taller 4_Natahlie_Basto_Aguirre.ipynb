{
 "cells": [
  {
   "cell_type": "markdown",
   "metadata": {},
   "source": [
    "# Taller 4\n",
    "Métodos Computacionales para Políticas Públicas - URosario\n",
    "\n",
    "**Entrega: viernes 2-sep-2016 11:59 PM**"
   ]
  },
  {
   "cell_type": "markdown",
   "metadata": {},
   "source": [
    "<div class=\"alert alert-success\">\n",
    "**[Nathalie Basto Aguirre]** <br><br>\n",
    "[nathaliekupa@hotmail.com]\n",
    "</div>"
   ]
  },
  {
   "cell_type": "markdown",
   "metadata": {},
   "source": [
    "## Instrucciones:\n",
    "- Guarde una copia de este *Jupyter Notebook* en su computador, idealmente en una carpeta destinada al material del curso.\n",
    "- Modifique el nombre del archivo del *notebook*, agregando al final un guión inferior y su nombre y apellido, separados estos últimos por otro guión inferior. Por ejemplo, mi *notebook* se llamaría: mcpp_taller4_santiago_matallana\n",
    "- Marque el *notebook* con su nombre y e-mail en el bloque verde arriba. Reemplace el texto \"[Su nombre acá]\" con su nombre y apellido. Similar para su e-mail.\n",
    "- Desarrolle la totalidad del taller sobre este *notebook*, insertando las celdas que sea necesario debajo de cada pregunta. Haga buen uso de las celdas para código y de las celdas tipo *markdown* según el caso.\n",
    "- Recuerde salvar periódicamente sus avances.\n",
    "- Cuando termine el taller:\n",
    "    1. Descárguelo en PDF.\n",
    "    2. Suba los dos archivos (.pdf y .ipynb) a su repositorio en GitHub antes de la fecha y hora límites.\n",
    "\n",
    "(Todos los ejercicios tienen el mismo valor.)"
   ]
  },
  {
   "cell_type": "markdown",
   "metadata": {},
   "source": [
    "## Zelle, Exercises 6.8 (p. 159):\n",
    "\n",
    "- True/False: 1-10\n",
    "- Multiple choice: 2, 3, 6, 7, 10\n",
    "- Programming Exercises: 1, 3, 4, 11, 12, 13"
   ]
  },
  {
   "cell_type": "markdown",
   "metadata": {},
   "source": [
    "True/ False\n",
    "1. False\n",
    "2. False\n",
    "3. True\n",
    "4. True\n",
    "5. False\n",
    "6. False\n",
    "7. False\n",
    "8. True\n",
    "9. True\n",
    "10. False\n"
   ]
  },
  {
   "cell_type": "markdown",
   "metadata": {},
   "source": [
    "Multiple Choice\n",
    "2. a\n",
    "3. a\n",
    "6. a\n",
    "7. d\n",
    "10. a"
   ]
  },
  {
   "cell_type": "markdown",
   "metadata": {},
   "source": [
    "#### Programming Exercises"
   ]
  },
  {
   "cell_type": "markdown",
   "metadata": {},
   "source": [
    "1.Old Mcdonald\n"
   ]
  },
  {
   "cell_type": "code",
   "execution_count": 3,
   "metadata": {
    "collapsed": true
   },
   "outputs": [],
   "source": [
    "def sing (animal, sound):\n",
    "    print(\"Old MacDonald had a farm, Ee-igh, Ee-igh, Oh! \\nAnd on that farm he had a \" , animal,\", Ee-igh, Ee-igh, Oh! \\nWith a \", sound , \",\" , sound , \" here and a \", sound , \",\", sound , \"there. \\nHere a \" , sound , \", there a\" , sound ,  \", everywhere a \" , sound , \",\" , sound ,\". \\nOld MacDonald had a farm, Ee-igh, Ee-igh, Oh!\")"
   ]
  },
  {
   "cell_type": "code",
   "execution_count": 4,
   "metadata": {
    "collapsed": false
   },
   "outputs": [
    {
     "name": "stdout",
     "output_type": "stream",
     "text": [
      "Old MacDonald had a farm, Ee-igh, Ee-igh, Oh! \n",
      "And on that farm he had a  cat , Ee-igh, Ee-igh, Oh! \n",
      "With a  meau , meau  here and a  meau , meau there. \n",
      "Here a  meau , there a meau , everywhere a  meau , meau . \n",
      "Old MacDonald had a farm, Ee-igh, Ee-igh, Oh!\n"
     ]
    }
   ],
   "source": [
    "sing(\"cat\", \"meau\")"
   ]
  },
  {
   "cell_type": "code",
   "execution_count": 5,
   "metadata": {
    "collapsed": true
   },
   "outputs": [],
   "source": [
    "animals=[\"dog\", \"cat\", \"duck\", \"sheep\", \"pig\"]\n",
    "sounds=[\"guau\",\"meow\", \"quack\", \"baah\", \"oink\"]"
   ]
  },
  {
   "cell_type": "code",
   "execution_count": 6,
   "metadata": {
    "collapsed": false
   },
   "outputs": [
    {
     "name": "stdout",
     "output_type": "stream",
     "text": [
      "Old MacDonald had a farm, Ee-igh, Ee-igh, Oh! \n",
      "And on that farm he had a  dog , Ee-igh, Ee-igh, Oh! \n",
      "With a  guau , guau  here and a  guau , guau there. \n",
      "Here a  guau , there a guau , everywhere a  guau , guau . \n",
      "Old MacDonald had a farm, Ee-igh, Ee-igh, Oh!\n",
      "Old MacDonald had a farm, Ee-igh, Ee-igh, Oh! \n",
      "And on that farm he had a  cat , Ee-igh, Ee-igh, Oh! \n",
      "With a  meow , meow  here and a  meow , meow there. \n",
      "Here a  meow , there a meow , everywhere a  meow , meow . \n",
      "Old MacDonald had a farm, Ee-igh, Ee-igh, Oh!\n",
      "Old MacDonald had a farm, Ee-igh, Ee-igh, Oh! \n",
      "And on that farm he had a  duck , Ee-igh, Ee-igh, Oh! \n",
      "With a  quack , quack  here and a  quack , quack there. \n",
      "Here a  quack , there a quack , everywhere a  quack , quack . \n",
      "Old MacDonald had a farm, Ee-igh, Ee-igh, Oh!\n",
      "Old MacDonald had a farm, Ee-igh, Ee-igh, Oh! \n",
      "And on that farm he had a  sheep , Ee-igh, Ee-igh, Oh! \n",
      "With a  baah , baah  here and a  baah , baah there. \n",
      "Here a  baah , there a baah , everywhere a  baah , baah . \n",
      "Old MacDonald had a farm, Ee-igh, Ee-igh, Oh!\n",
      "Old MacDonald had a farm, Ee-igh, Ee-igh, Oh! \n",
      "And on that farm he had a  pig , Ee-igh, Ee-igh, Oh! \n",
      "With a  oink , oink  here and a  oink , oink there. \n",
      "Here a  oink , there a oink , everywhere a  oink , oink . \n",
      "Old MacDonald had a farm, Ee-igh, Ee-igh, Oh!\n"
     ]
    }
   ],
   "source": [
    "for j in (range(len(animals))):\n",
    "    sing(animals[j],sounds[j])"
   ]
  },
  {
   "cell_type": "markdown",
   "metadata": {},
   "source": [
    "·· 3. definir dos funciones que resuelvan el problema de hallar el area y volumen de una esfera"
   ]
  },
  {
   "cell_type": "code",
   "execution_count": 7,
   "metadata": {
    "collapsed": true
   },
   "outputs": [],
   "source": [
    "PI=3.14159\n",
    "def spherearea(radious):\n",
    "    area = 4*PI*(radious**2)\n",
    "    return area\n",
    "def spherevolume(radious):\n",
    "    volume = (4/3)*PI*(radious**3)\n",
    "    return volume"
   ]
  },
  {
   "cell_type": "code",
   "execution_count": 8,
   "metadata": {
    "collapsed": false
   },
   "outputs": [
    {
     "data": {
      "text/plain": [
       "12.56636"
      ]
     },
     "execution_count": 8,
     "metadata": {},
     "output_type": "execute_result"
    }
   ],
   "source": [
    "spherearea(1)"
   ]
  },
  {
   "cell_type": "code",
   "execution_count": 9,
   "metadata": {
    "collapsed": false
   },
   "outputs": [
    {
     "data": {
      "text/plain": [
       "4.188786666666666"
      ]
     },
     "execution_count": 9,
     "metadata": {},
     "output_type": "execute_result"
    }
   ],
   "source": [
    "spherevolume(1)"
   ]
  },
  {
   "cell_type": "code",
   "execution_count": 10,
   "metadata": {
    "collapsed": false
   },
   "outputs": [
    {
     "name": "stdout",
     "output_type": "stream",
     "text": [
      "este programa calcula el area y volumen de una esfera\n",
      "cual es el radio de la esfera:4\n",
      "el area es: 201.06176\n",
      "el volumen es: 268.08234666666664\n"
     ]
    }
   ],
   "source": [
    "print(\"este programa calcula el area y volumen de una esfera\")\n",
    "x = eval(input(\"cual es el radio de la esfera:\"))\n",
    "print(\"el area es:\", spherearea(x))\n",
    "print(\"el volumen es:\", spherevolume(x))"
   ]
  },
  {
   "cell_type": "markdown",
   "metadata": {},
   "source": [
    "#### 4. definir 2 funciones que  retornen la suma de los primerons n numeros naturales, y la suma se los cubos de los primeros n numeros naturales"
   ]
  },
  {
   "cell_type": "code",
   "execution_count": 11,
   "metadata": {
    "collapsed": true
   },
   "outputs": [],
   "source": [
    "def sumn(n):\n",
    "    x=0\n",
    "    for i in range(n+1):\n",
    "        x=x+i\n",
    "    return(x)"
   ]
  },
  {
   "cell_type": "code",
   "execution_count": 13,
   "metadata": {
    "collapsed": false
   },
   "outputs": [
    {
     "data": {
      "text/plain": [
       "55"
      ]
     },
     "execution_count": 13,
     "metadata": {},
     "output_type": "execute_result"
    }
   ],
   "source": [
    "sumn(10)"
   ]
  },
  {
   "cell_type": "code",
   "execution_count": 14,
   "metadata": {
    "collapsed": false
   },
   "outputs": [],
   "source": [
    "def sumncubes(n):\n",
    "    y=0\n",
    "    for i in range(n+1):\n",
    "        y=y+(i**3)\n",
    "    return(y)"
   ]
  },
  {
   "cell_type": "code",
   "execution_count": 15,
   "metadata": {
    "collapsed": false
   },
   "outputs": [
    {
     "data": {
      "text/plain": [
       "3025"
      ]
     },
     "execution_count": 15,
     "metadata": {},
     "output_type": "execute_result"
    }
   ],
   "source": [
    "sumncubes(10)"
   ]
  },
  {
   "cell_type": "code",
   "execution_count": 17,
   "metadata": {
    "collapsed": false
   },
   "outputs": [
    {
     "name": "stdout",
     "output_type": "stream",
     "text": [
      "este programa calcula la suma de los primeros n numeros y la suma de los cubos de esos n numeros\n",
      "escriba el numero n:4\n",
      "la suma de enteros hasta 4 es : 10\n",
      "la suma de los cubos de los enteros hasta 4 es: 100\n"
     ]
    }
   ],
   "source": [
    "print(\"este programa calcula la suma de los primeros n numeros y la suma de los cubos de esos n numeros\")\n",
    "x = eval(input(\"escriba el numero n:\"))\n",
    "print(\"la suma de enteros hasta\",x,\"es :\", sumn(x))\n",
    "print(\"la suma de los cubos de los enteros hasta\", x, \"es:\", sumncubes(x))"
   ]
  },
  {
   "cell_type": "markdown",
   "metadata": {},
   "source": [
    "#### 11. una modificacion que modifica cada entrada de la lista y la reemplaza por el cuadrado."
   ]
  },
  {
   "cell_type": "code",
   "execution_count": 18,
   "metadata": {
    "collapsed": true
   },
   "outputs": [],
   "source": [
    "def squareeach(nums):\n",
    "    for i in range(len(nums)):\n",
    "        nums[i]=(nums[i]**2)\n",
    "    return nums"
   ]
  },
  {
   "cell_type": "code",
   "execution_count": 19,
   "metadata": {
    "collapsed": true
   },
   "outputs": [],
   "source": [
    "nums1=[1,2,3,4,5,6]"
   ]
  },
  {
   "cell_type": "code",
   "execution_count": 20,
   "metadata": {
    "collapsed": false
   },
   "outputs": [
    {
     "data": {
      "text/plain": [
       "[1, 4, 9, 16, 25, 36]"
      ]
     },
     "execution_count": 20,
     "metadata": {},
     "output_type": "execute_result"
    }
   ],
   "source": [
    "squareeach(nums1)"
   ]
  },
  {
   "cell_type": "markdown",
   "metadata": {},
   "source": [
    "#### 12. una función que devuelva la suma de los numeros de la lista"
   ]
  },
  {
   "cell_type": "code",
   "execution_count": 21,
   "metadata": {
    "collapsed": true
   },
   "outputs": [],
   "source": [
    "def sumlist(nums):\n",
    "    x=0\n",
    "    for i in range(len(nums)):\n",
    "        x=x+nums[i]\n",
    "    return(x)"
   ]
  },
  {
   "cell_type": "code",
   "execution_count": 22,
   "metadata": {
    "collapsed": false
   },
   "outputs": [
    {
     "data": {
      "text/plain": [
       "91"
      ]
     },
     "execution_count": 22,
     "metadata": {},
     "output_type": "execute_result"
    }
   ],
   "source": [
    "sumlist(nums1)"
   ]
  },
  {
   "cell_type": "markdown",
   "metadata": {
    "collapsed": true
   },
   "source": [
    "### 13.una función que toma una lista de letras y modifica cada entrada cambiandola por un numero "
   ]
  },
  {
   "cell_type": "code",
   "execution_count": 32,
   "metadata": {
    "collapsed": true
   },
   "outputs": [],
   "source": [
    "def tonumbers(strlist):\n",
    "    for i in range(len(strlist)):\n",
    "        strlist[i]=ord(strlist[i])\n",
    "    return strlist"
   ]
  },
  {
   "cell_type": "code",
   "execution_count": 31,
   "metadata": {
    "collapsed": false
   },
   "outputs": [],
   "source": [
    "ej2=[\"c\",\"a\",\"m\",\"n\"]"
   ]
  },
  {
   "cell_type": "code",
   "execution_count": 33,
   "metadata": {
    "collapsed": false
   },
   "outputs": [
    {
     "data": {
      "text/plain": [
       "[99, 97, 109, 110]"
      ]
     },
     "execution_count": 33,
     "metadata": {},
     "output_type": "execute_result"
    }
   ],
   "source": [
    "tonumbers(ej2)"
   ]
  },
  {
   "cell_type": "code",
   "execution_count": null,
   "metadata": {
    "collapsed": true
   },
   "outputs": [],
   "source": []
  }
 ],
 "metadata": {
  "anaconda-cloud": {},
  "kernelspec": {
   "display_name": "Python [Root]",
   "language": "python",
   "name": "Python [Root]"
  },
  "language_info": {
   "codemirror_mode": {
    "name": "ipython",
    "version": 3
   },
   "file_extension": ".py",
   "mimetype": "text/x-python",
   "name": "python",
   "nbconvert_exporter": "python",
   "pygments_lexer": "ipython3",
   "version": "3.5.2"
  }
 },
 "nbformat": 4,
 "nbformat_minor": 0
}
