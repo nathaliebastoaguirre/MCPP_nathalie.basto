{
 "cells": [
  {
   "cell_type": "markdown",
   "metadata": {},
   "source": [
    "# Taller 3\n",
    "Métodos Computacionales para Políticas Públicas - URosario\n",
    "\n",
    "**Entrega: viernes 26-ago-2016 11:59 PM**"
   ]
  },
  {
   "cell_type": "markdown",
   "metadata": {},
   "source": [
    "<div class=\"alert alert-success\">\n",
    "**[Nathalie Basto A]** <br><br>\n",
    "[nathaliekupa@hotmail.com]\n",
    "</div>"
   ]
  },
  {
   "cell_type": "markdown",
   "metadata": {},
   "source": [
    "## Instrucciones:\n",
    "- Guarde una copia de este *Jupyter Notebook* en su computador, idealmente en una carpeta destinada al material del curso.\n",
    "- Modifique el nombre del archivo del *notebook*, agregando al final un guión inferior y su nombre y apellido, separados estos últimos por otro guión inferior. Por ejemplo, mi *notebook* se llamaría: mcpp_taller3_santiago_matallana\n",
    "- Marque el *notebook* con su nombre y e-mail en el bloque verde arriba. Reemplace el texto \"[Su nombre acá]\" con su nombre y apellido. Similar para su e-mail.\n",
    "- Desarrolle la totalidad del taller sobre este *notebook*, insertando las celdas que sea necesario debajo de cada pregunta. Haga buen uso de las celdas para código y de las celdas tipo *markdown* según el caso.\n",
    "- Recuerde salvar periódicamente sus avances.\n",
    "- Cuando termine el taller:\n",
    "    1. Descárguelo en PDF.\n",
    "    2. Suba los dos archivos (.pdf y .ipynb) a su repositorio en GitHub antes de la fecha y hora límites.\n",
    "\n",
    "(El valor de cada ejercicio está en corchetes [ ] después del número de ejercicio.)"
   ]
  },
  {
   "cell_type": "markdown",
   "metadata": {},
   "source": [
    "---"
   ]
  },
  {
   "cell_type": "markdown",
   "metadata": {},
   "source": [
    "Antes de iniciar, por favor descarge el archivo <font face=\"consolas\" color=\"green\">mcpp_taller3_listas_ejemplos.py</font> del repositorio, guárdelo en la misma carpeta en la que está trabajando este taller y ejecútelo con el siguiente comando:"
   ]
  },
  {
   "cell_type": "code",
   "execution_count": 2,
   "metadata": {
    "collapsed": true
   },
   "outputs": [],
   "source": [
    "run mcpp_taller3_listas_ejemplos.py"
   ]
  },
  {
   "cell_type": "code",
   "execution_count": 3,
   "metadata": {
    "collapsed": false
   },
   "outputs": [
    {
     "data": {
      "text/plain": [
       "[]"
      ]
     },
     "execution_count": 3,
     "metadata": {},
     "output_type": "execute_result"
    }
   ],
   "source": [
    "l0"
   ]
  },
  {
   "cell_type": "code",
   "execution_count": 4,
   "metadata": {
    "collapsed": false
   },
   "outputs": [
    {
     "data": {
      "text/plain": [
       "[1, 'abc', 5.7, [1, 3, 5]]"
      ]
     },
     "execution_count": 4,
     "metadata": {},
     "output_type": "execute_result"
    }
   ],
   "source": [
    "l1"
   ]
  },
  {
   "cell_type": "code",
   "execution_count": 5,
   "metadata": {
    "collapsed": false
   },
   "outputs": [
    {
     "data": {
      "text/plain": [
       "[10, 11, 12, 13, 14, 15, 16]"
      ]
     },
     "execution_count": 5,
     "metadata": {},
     "output_type": "execute_result"
    }
   ],
   "source": [
    "l2"
   ]
  },
  {
   "cell_type": "markdown",
   "metadata": {},
   "source": [
    "Este archivo contiene tres listas (<font face=\"consolas\" color=\"green\">l0</font>, <font face=\"consolas\" color=\"green\">l1</font> y <font face=\"consolas\" color=\"green\">l2</font>) que usará para las tareas de esta sección. Puede ver los valores de las listas simplemente escribiendo sus nombres y ejecutándolos en el Notebook. Inténtelo para verificar que <font face=\"consolas\" color=\"green\">mcpp_taller3_listas_ejemplos.py</font> quedó bien cargado. Debería ver:"
   ]
  },
  {
   "cell_type": "markdown",
   "metadata": {},
   "source": [
    "In [1]: l0\n",
    "Out[1]: []\n",
    "\n",
    "In [2]: l1\n",
    "Out[2]: [1, 'abc', 5.7, [1, 3, 5]]\n",
    "\n",
    "In [3]: l2\n",
    "Out[3]: [10, 11, 12, 13, 14, 15, 16]"
   ]
  },
  {
   "cell_type": "markdown",
   "metadata": {},
   "source": [
    "## 1. [1]\n",
    "\n",
    "Cree una lista que contenga los elementos <font face=\"consolas\">7</font>, <font face=\"consolas\">\"xyz\"</font> y <font face=\"consolas\">2.7</font>."
   ]
  },
  {
   "cell_type": "code",
   "execution_count": 6,
   "metadata": {
    "collapsed": true
   },
   "outputs": [],
   "source": [
    "lista3 = [7, \"xyz\", 2.7]"
   ]
  },
  {
   "cell_type": "code",
   "execution_count": 7,
   "metadata": {
    "collapsed": false
   },
   "outputs": [
    {
     "data": {
      "text/plain": [
       "[7, 'xyz', 2.7]"
      ]
     },
     "execution_count": 7,
     "metadata": {},
     "output_type": "execute_result"
    }
   ],
   "source": [
    "lista3"
   ]
  },
  {
   "cell_type": "markdown",
   "metadata": {},
   "source": [
    "## 2. [1]\n",
    "\n",
    "Halle la longitud de la lista <font face=\"consolas\">l1</font>."
   ]
  },
  {
   "cell_type": "code",
   "execution_count": 8,
   "metadata": {
    "collapsed": false
   },
   "outputs": [
    {
     "data": {
      "text/plain": [
       "4"
      ]
     },
     "execution_count": 8,
     "metadata": {},
     "output_type": "execute_result"
    }
   ],
   "source": [
    "len(l1)"
   ]
  },
  {
   "cell_type": "markdown",
   "metadata": {},
   "source": [
    "## 3. [1]\n",
    "\n",
    "Escriba expresiones para obtener el valor <font face=\"consolas\">5.7</font> de la lista <font face=\"consolas\">l1</font> y para obtener el valor <font face=\"consolas\">5</font> a partir del tercer elemento de <font face=\"consolas\">l1</font>."
   ]
  },
  {
   "cell_type": "code",
   "execution_count": 10,
   "metadata": {
    "collapsed": false
   },
   "outputs": [
    {
     "data": {
      "text/plain": [
       "5.7"
      ]
     },
     "execution_count": 10,
     "metadata": {},
     "output_type": "execute_result"
    }
   ],
   "source": [
    "l1[2]"
   ]
  },
  {
   "cell_type": "code",
   "execution_count": 12,
   "metadata": {
    "collapsed": false
   },
   "outputs": [
    {
     "data": {
      "text/plain": [
       "5"
      ]
     },
     "execution_count": 12,
     "metadata": {},
     "output_type": "execute_result"
    }
   ],
   "source": [
    "l1[3][2]"
   ]
  },
  {
   "cell_type": "markdown",
   "metadata": {},
   "source": [
    "## 4. [1]\n",
    "\n",
    "Prediga qué ocurrirá si se evalúa la expresión <font face=\"consolas\">l1[4]</font> y luego pruébelo. \n",
    "\n",
    "Saldra un error puesto que el ultimo elemento de la lista l1 se ubica en la posición 3, en la posicion 4 ya no hay nada. "
   ]
  },
  {
   "cell_type": "code",
   "execution_count": 13,
   "metadata": {
    "collapsed": false
   },
   "outputs": [
    {
     "ename": "IndexError",
     "evalue": "list index out of range",
     "output_type": "error",
     "traceback": [
      "\u001b[1;31m---------------------------------------------------------------------------\u001b[0m",
      "\u001b[1;31mIndexError\u001b[0m                                Traceback (most recent call last)",
      "\u001b[1;32m<ipython-input-13-2c2a81dbcaa5>\u001b[0m in \u001b[0;36m<module>\u001b[1;34m()\u001b[0m\n\u001b[1;32m----> 1\u001b[1;33m \u001b[0ml1\u001b[0m\u001b[1;33m[\u001b[0m\u001b[1;36m4\u001b[0m\u001b[1;33m]\u001b[0m\u001b[1;33m\u001b[0m\u001b[0m\n\u001b[0m",
      "\u001b[1;31mIndexError\u001b[0m: list index out of range"
     ]
    }
   ],
   "source": [
    "l1[4]"
   ]
  },
  {
   "cell_type": "markdown",
   "metadata": {},
   "source": [
    "## 5. [1]\n",
    "\n",
    "Prediga qué ocurrirá si se evalúa la expresión <font face=\"consolas\">l2[-1]</font> y luego pruébelo.\n",
    "\n",
    "saldra el numero 16 que es el que esta en la ultima posición de la lista l2 "
   ]
  },
  {
   "cell_type": "code",
   "execution_count": 14,
   "metadata": {
    "collapsed": false
   },
   "outputs": [
    {
     "data": {
      "text/plain": [
       "16"
      ]
     },
     "execution_count": 14,
     "metadata": {},
     "output_type": "execute_result"
    }
   ],
   "source": [
    "l2[-1]"
   ]
  },
  {
   "cell_type": "markdown",
   "metadata": {},
   "source": [
    "## 6. [1]\n",
    "\n",
    "Escriba una expresión para cambiar el valor <font face=\"consolas\">3</font> en el tercer elemento de <font face=\"consolas\">l1</font> a <font face=\"consolas\">15.0</font>."
   ]
  },
  {
   "cell_type": "code",
   "execution_count": 15,
   "metadata": {
    "collapsed": true
   },
   "outputs": [],
   "source": [
    "l1[3][1]=15.0"
   ]
  },
  {
   "cell_type": "code",
   "execution_count": 16,
   "metadata": {
    "collapsed": false
   },
   "outputs": [
    {
     "data": {
      "text/plain": [
       "[1, 'abc', 5.7, [1, 15.0, 5]]"
      ]
     },
     "execution_count": 16,
     "metadata": {},
     "output_type": "execute_result"
    }
   ],
   "source": [
    "l1"
   ]
  },
  {
   "cell_type": "markdown",
   "metadata": {},
   "source": [
    "## 7. [1]\n",
    "\n",
    "Escriba una expresión para crear un \"slice\" que contenga del segundo al quinto elemento (inclusive) de la lista <font face=\"consolas\">l2</font>."
   ]
  },
  {
   "cell_type": "code",
   "execution_count": 18,
   "metadata": {
    "collapsed": false
   },
   "outputs": [
    {
     "data": {
      "text/plain": [
       "[11, 12, 13, 14]"
      ]
     },
     "execution_count": 18,
     "metadata": {},
     "output_type": "execute_result"
    }
   ],
   "source": [
    "l2[1:5] ##saca del elemento #2, el 3, el 4 y el 5"
   ]
  },
  {
   "cell_type": "markdown",
   "metadata": {},
   "source": [
    "## 8. [1]\n",
    "\n",
    "Escriba una expresión para crear un \"slice\" que contenga los primeros tres elementos de la lista <font face=\"consolas\">l2</font>."
   ]
  },
  {
   "cell_type": "code",
   "execution_count": 20,
   "metadata": {
    "collapsed": false
   },
   "outputs": [
    {
     "data": {
      "text/plain": [
       "[10, 11, 12]"
      ]
     },
     "execution_count": 20,
     "metadata": {},
     "output_type": "execute_result"
    }
   ],
   "source": [
    "l2[:3]"
   ]
  },
  {
   "cell_type": "markdown",
   "metadata": {},
   "source": [
    "## 9. [1]\n",
    "\n",
    "Escriba una expresión para crear un \"slice\" que contenga del segundo al último elemento de la lista <font face=\"consolas\">l2</font>."
   ]
  },
  {
   "cell_type": "code",
   "execution_count": 21,
   "metadata": {
    "collapsed": false
   },
   "outputs": [
    {
     "data": {
      "text/plain": [
       "[11, 12, 13, 14, 15, 16]"
      ]
     },
     "execution_count": 21,
     "metadata": {},
     "output_type": "execute_result"
    }
   ],
   "source": [
    "l2[1:]"
   ]
  },
  {
   "cell_type": "markdown",
   "metadata": {},
   "source": [
    "## 10. [1]\n",
    "\n",
    "Escriba un código para añadir cuatro elementos a la lista <font face=\"consolas\">l0</font> usando la operación <font face=\"consolas\">append</font> y luego extraiga el tercer elemento (quítelo de la lista). ¿Cuántos \"appends\" debe hacer?"
   ]
  },
  {
   "cell_type": "code",
   "execution_count": 32,
   "metadata": {
    "collapsed": false
   },
   "outputs": [],
   "source": [
    "l0=[]"
   ]
  },
  {
   "cell_type": "code",
   "execution_count": 33,
   "metadata": {
    "collapsed": true
   },
   "outputs": [],
   "source": [
    "nuevos = [\"hola\", 2, 999.9, 3]  ##estoy haciendo 4 appends 1 porcada elemento en la losta nuevos que contiene 4 elemtos asi la lista l0 finalemnte contiene los mismos 4 elemtos de la lista nuevos\n",
    "for nuevo in nuevos:\n",
    "    l0.append(nuevo)"
   ]
  },
  {
   "cell_type": "code",
   "execution_count": 34,
   "metadata": {
    "collapsed": false
   },
   "outputs": [
    {
     "data": {
      "text/plain": [
       "['hola', 2, 999.9, 3]"
      ]
     },
     "execution_count": 34,
     "metadata": {},
     "output_type": "execute_result"
    }
   ],
   "source": [
    "l0"
   ]
  },
  {
   "cell_type": "code",
   "execution_count": 35,
   "metadata": {
    "collapsed": false
   },
   "outputs": [],
   "source": [
    "##ahora voy a extraer el tercer elemento de la lista\n",
    "del l0[2]"
   ]
  },
  {
   "cell_type": "code",
   "execution_count": 36,
   "metadata": {
    "collapsed": false
   },
   "outputs": [
    {
     "data": {
      "text/plain": [
       "['hola', 2, 3]"
      ]
     },
     "execution_count": 36,
     "metadata": {},
     "output_type": "execute_result"
    }
   ],
   "source": [
    "l0 ##ahora me borro el 999.9 que era el tercer elemento"
   ]
  },
  {
   "cell_type": "markdown",
   "metadata": {},
   "source": [
    "## 11. [1]\n",
    "\n",
    "Cree una nueva lista <font face=\"consolas\">nl</font> concatenando la nueva versión de <font face=\"consolas\">l0</font> con <font face=\"consolas\">l1</font>, y luego actualice un elemento cualquiera de <font face=\"consolas\">nl</font>. ¿Cambia alguna de las listas <font face=\"consolas\">l0</font> o <font face=\"consolas\">l1</font> al ejecutar los anteriores comandos?"
   ]
  },
  {
   "cell_type": "code",
   "execution_count": 38,
   "metadata": {
    "collapsed": true
   },
   "outputs": [],
   "source": [
    "n1=l0 + l1"
   ]
  },
  {
   "cell_type": "code",
   "execution_count": 40,
   "metadata": {
    "collapsed": false
   },
   "outputs": [
    {
     "data": {
      "text/plain": [
       "['hola', 2, 3, 1, 'abc', 5.7, [1, 15.0, 5]]"
      ]
     },
     "execution_count": 40,
     "metadata": {},
     "output_type": "execute_result"
    }
   ],
   "source": [
    "n1"
   ]
  },
  {
   "cell_type": "code",
   "execution_count": 42,
   "metadata": {
    "collapsed": false
   },
   "outputs": [
    {
     "data": {
      "text/plain": [
       "['hola', 2, 3, 1, 'abc', 5.7, [1, 3, 5]]"
      ]
     },
     "execution_count": 42,
     "metadata": {},
     "output_type": "execute_result"
    }
   ],
   "source": [
    "##para modificar un elemento de n1 voy a cambair el 15.0 que habia cambiado en el punto 6. nuevamente por un 3 que era lo que tenia inicialmente\n",
    "n1[6][1]=3\n",
    "n1"
   ]
  },
  {
   "cell_type": "code",
   "execution_count": 43,
   "metadata": {
    "collapsed": false
   },
   "outputs": [
    {
     "data": {
      "text/plain": [
       "[1, 'abc', 5.7, [1, 3, 5]]"
      ]
     },
     "execution_count": 43,
     "metadata": {},
     "output_type": "execute_result"
    }
   ],
   "source": [
    "l1 ##esta lista no se ha transformado"
   ]
  },
  {
   "cell_type": "code",
   "execution_count": 44,
   "metadata": {
    "collapsed": false
   },
   "outputs": [
    {
     "data": {
      "text/plain": [
       "['hola', 2, 3]"
      ]
     },
     "execution_count": 44,
     "metadata": {},
     "output_type": "execute_result"
    }
   ],
   "source": [
    "l0 ##esta lista no se ha transformado porque todo lo que hice fue en una nueva"
   ]
  },
  {
   "cell_type": "markdown",
   "metadata": {},
   "source": [
    "## 12. [2]\n",
    "\n",
    "Escriba un loop que compute una variable <font face=\"consolas\">all_pos</font> cuyo valor sea <font face=\"consolas\">True</font> si todos los elementos de la lista <font face=\"consolas\">l3</font> son positivos y <font face=\"consolas\">False</font> en otro caso."
   ]
  },
  {
   "cell_type": "code",
   "execution_count": 109,
   "metadata": {
    "collapsed": false
   },
   "outputs": [],
   "source": [
    "l3 = [2,-1,-7,6,0,28]"
   ]
  },
  {
   "cell_type": "code",
   "execution_count": 110,
   "metadata": {
    "collapsed": false
   },
   "outputs": [
    {
     "name": "stdout",
     "output_type": "stream",
     "text": [
      "all_pos False\n",
      "al menos uno no es positivo\n"
     ]
    }
   ],
   "source": [
    "all_pos = True\n",
    "for num in l3:\n",
    "    if num <= 0:\n",
    "        all_pos=False\n",
    "print(\"all_pos\", all_pos)##tan pronto encuentra un numero en la lista cuyo valor sea cero o negativo me cambia el valor de la variable all_pos por FALSE. si no encuentra ninguno\n",
    "    ##osea si todos son positivos entonces la variable permanece en TRUE\n",
    "if all_pos == True:\n",
    "    print(\"todos son positivos\")\n",
    "else:\n",
    "    print(\"al menos uno no es positivo\")"
   ]
  },
  {
   "cell_type": "markdown",
   "metadata": {},
   "source": [
    "## 13. [2]\n",
    "\n",
    "Escriba un código para crear una nueva lista que contenga solo los valores positivos de la lista <font face=\"consolas\">l3</font>."
   ]
  },
  {
   "cell_type": "code",
   "execution_count": 111,
   "metadata": {
    "collapsed": false
   },
   "outputs": [
    {
     "name": "stdout",
     "output_type": "stream",
     "text": [
      "los positivos en l3 estan en la nueva lista l3positiva= [2, 6, 28]\n"
     ]
    }
   ],
   "source": [
    "l3positiva = []\n",
    "for i in range(len(l3)):\n",
    "    if l3[i] > 0:\n",
    "        l3positiva.append(l3[i])\n",
    "        ##print(l3positiva)\n",
    "print(\"los positivos en l3 estan en la nueva lista l3positiva=\", l3positiva)"
   ]
  },
  {
   "cell_type": "markdown",
   "metadata": {},
   "source": [
    "## 14. [2]\n",
    "\n",
    "Escriba un código que use <font face=\"consolas\">append</font> para crear una nueva lista <font face=\"consolas\">nl</font> en la que el i-ésimo elemento de <font face=\"consolas\">nl</font> tiene el valor <font face=\"consolas\">True</font> si el i-ésimo elemento de <font face=\"consolas\">l3</font> tiene un valor positivo y <font face=\"consolas\">Falso</font> en otro caso."
   ]
  },
  {
   "cell_type": "code",
   "execution_count": 112,
   "metadata": {
    "collapsed": false
   },
   "outputs": [
    {
     "name": "stdout",
     "output_type": "stream",
     "text": [
      "[2, -1, -7, 6, 0, 28]\n",
      "[True, False, False, True, False, True]\n"
     ]
    }
   ],
   "source": [
    "print(l3)\n",
    "n1=[]\n",
    "for num in l3:\n",
    "    if num>0:\n",
    "        n1.append(True)\n",
    "    else:\n",
    "        n1.append(False)\n",
    "print(n1)"
   ]
  },
  {
   "cell_type": "markdown",
   "metadata": {},
   "source": [
    "## 15. [3]\n",
    "\n",
    "Escriba un código que use <font face=\"consolas\">range</font>, para crear una nueva lista <font face=\"consolas\">nl</font> en la que el i-ésimo elemento de <font face=\"consolas\">nl</font> es <font face=\"consolas\">True</font> si el i-ésimo elemento de <font face=\"consolas\">l3</font> es positivo y <font face=\"consolas\">Falso</font> en otro caso.\n",
    "\n",
    "**Pista:** Comience por crear una lista de longitud adecuada, con <font face=\"consolas\">False</font> en cada índice."
   ]
  },
  {
   "cell_type": "code",
   "execution_count": 117,
   "metadata": {
    "collapsed": false
   },
   "outputs": [
    {
     "name": "stdout",
     "output_type": "stream",
     "text": [
      "[2, -1, -7, 6, 0, 28]\n",
      "[False, False, False, False, False, False]\n",
      "[True, False, False, True, False, True]\n"
     ]
    }
   ],
   "source": [
    "print(l3)\n",
    "n1=[False]*(len(l3)) ##me crea una lista con el mismo # de elementos de n1 y conn False en cada posicion\n",
    "\n",
    "\n",
    "for i in range(len(l3)): ##el rango me toma los valores de cero hasta el anterior a el numero de elementos que tiene l3\n",
    "    if l3[i]>0:\n",
    "        n1[i]=True  ##si el numero en la posición i de l3 es positivo, la psición i de n1 me cambia por True\n",
    "print(n1)"
   ]
  },
  {
   "cell_type": "markdown",
   "metadata": {},
   "source": [
    "## 16. [4]\n",
    "\n",
    "En clase construimos una lista con 10000 números aleatorios entre 0 y 9, a partir del siguiente código:"
   ]
  },
  {
   "cell_type": "code",
   "execution_count": 118,
   "metadata": {
    "collapsed": true
   },
   "outputs": [
    {
     "name": "stdout",
     "output_type": "stream",
     "text": [
      "[9, 5, 3, 3, 3, 4, 0, 0, 3, 1, 6, 2, 2, 8, 4, 8, 1, 2, 4, 4, 2, 5, 5, 0, 7, 0, 6, 2, 8, 4, 7, 0, 3, 1, 7, 6, 8, 9, 3, 6, 3, 7, 4, 3, 0, 5, 4, 9, 2, 8, 4, 5, 2, 3, 7, 5, 1, 0, 6, 0, 0, 3, 2, 2, 4, 7, 5, 9, 3, 8, 9, 6, 9, 6, 1, 9, 9, 9, 2, 9, 3, 0, 5, 5, 8, 9, 2, 2, 7, 6, 4, 3, 8, 7, 8, 6, 9, 0, 3, 3, 6, 0, 6, 5, 7, 7, 1, 7, 5, 2, 5, 3, 8, 5, 8, 2, 9, 5, 2, 0, 5, 0, 4, 5, 1, 4, 0, 9, 9, 6, 3, 1, 9, 7, 0, 6, 1, 2, 1, 4, 5, 7, 2, 7, 9, 1, 7, 1, 8, 3, 0, 1, 0, 7, 6, 4, 9, 6, 6, 3, 4, 9, 0, 3, 0, 0, 6, 7, 9, 7, 8, 0, 2, 3, 5, 2, 8, 4, 1, 4, 7, 4, 0, 2, 8, 8, 5, 9, 0, 7, 9, 8, 3, 8, 9, 9, 2, 8, 8, 2, 3, 9, 8, 7, 2, 2, 1, 3, 1, 4, 6, 0, 2, 9, 9, 2, 9, 2, 3, 8, 9, 1, 3, 9, 2, 1, 0, 5, 4, 9, 1, 1, 8, 3, 6, 2, 9, 6, 4, 6, 3, 9, 3, 5, 2, 9, 7, 6, 9, 8, 6, 8, 8, 5, 4, 1, 5, 2, 6, 1, 6, 6, 6, 6, 2, 7, 1, 3, 6, 5, 6, 3, 8, 5, 0, 7, 1, 1, 6, 2, 5, 1, 2, 8, 6, 0, 0, 8, 0, 6, 7, 4, 5, 9, 9, 5, 3, 5, 8, 4, 3, 3, 9, 5, 7, 3, 0, 3, 4, 8, 7, 9, 0, 8, 6, 3, 8, 8, 4, 5, 4, 5, 5, 8, 3, 3, 3, 1, 0, 8, 8, 0, 1, 4, 6, 0, 0, 6, 9, 3, 2, 9, 9, 8, 6, 0, 7, 2, 5, 3, 3, 6, 3, 8, 9, 0, 3, 1, 8, 6, 6, 3, 7, 2, 4, 8, 0, 8, 7, 6, 8, 0, 8, 7, 5, 1, 7, 1, 8, 1, 5, 9, 2, 6, 5, 2, 6, 8, 3, 4, 3, 5, 1, 3, 0, 6, 9, 9, 2, 6, 2, 5, 0, 9, 2, 8, 8, 1, 0, 1, 1, 5, 2, 4, 3, 6, 0, 8, 6, 6, 8, 3, 4, 8, 7, 7, 5, 1, 5, 3, 7, 8, 2, 1, 6, 1, 5, 5, 7, 1, 8, 2, 5, 7, 2, 6, 6, 3, 5, 2, 0, 6, 3, 7, 1, 2, 1, 0, 1, 5, 2, 7, 2, 9, 1, 1, 5, 6, 3, 2, 0, 8, 7, 1, 2, 5, 0, 3, 1, 4, 8, 6, 9, 7, 0, 4, 7, 1, 5, 6, 3, 3, 9, 4, 0, 8, 9, 4, 9, 4, 9, 8, 2, 0, 9, 6, 7, 8, 7, 2, 6, 9, 8, 5, 7, 3, 0, 1, 4, 0, 4, 7, 6, 2, 5, 5, 7, 1, 1, 1, 4, 2, 4, 7, 4, 7, 9, 7, 3, 8, 7, 5, 1, 8, 6, 1, 8, 2, 1, 5, 5, 4, 8, 6, 6, 8, 9, 9, 2, 4, 1, 9, 2, 0, 7, 3, 5, 3, 6, 7, 9, 7, 3, 2, 9, 6, 2, 9, 4, 4, 8, 4, 0, 4, 0, 8, 8, 8, 0, 2, 1, 3, 7, 1, 1, 6, 2, 0, 1, 3, 5, 9, 3, 8, 4, 9, 4, 2, 8, 0, 4, 9, 5, 7, 6, 2, 0, 1, 2, 9, 5, 2, 3, 0, 4, 1, 8, 9, 1, 3, 8, 4, 0, 8, 5, 6, 4, 6, 6, 4, 2, 4, 7, 1, 8, 5, 8, 9, 5, 1, 1, 6, 0, 3, 1, 4, 8, 9, 2, 8, 9, 2, 6, 0, 0, 0, 4, 3, 7, 2, 8, 1, 5, 2, 2, 8, 8, 7, 4, 0, 3, 5, 7, 4, 4, 9, 3, 3, 9, 0, 4, 0, 2, 2, 4, 1, 2, 3, 2, 4, 3, 1, 3, 2, 8, 5, 3, 6, 6, 8, 2, 0, 9, 7, 4, 2, 6, 6, 1, 7, 7, 9, 5, 5, 7, 0, 8, 8, 8, 4, 3, 8, 3, 7, 0, 3, 0, 2, 0, 3, 8, 7, 6, 0, 6, 6, 0, 2, 8, 5, 8, 6, 3, 0, 2, 7, 0, 8, 6, 1, 5, 6, 9, 4, 1, 1, 0, 5, 3, 1, 8, 6, 5, 7, 6, 4, 3, 8, 9, 7, 2, 6, 1, 0, 2, 0, 1, 2, 5, 5, 8, 6, 1, 1, 6, 6, 6, 3, 9, 2, 9, 5, 0, 0, 1, 5, 7, 5, 4, 4, 3, 8, 4, 4, 2, 6, 1, 4, 8, 1, 9, 0, 0, 0, 0, 5, 9, 8, 5, 6, 8, 2, 7, 2, 7, 9, 5, 3, 9, 6, 7, 6, 6, 4, 5, 7, 8, 6, 2, 4, 7, 1, 2, 0, 4, 2, 3, 0, 4, 6, 4, 8, 2, 2, 2, 7, 0, 8, 5, 3, 8, 0, 0, 4, 5, 4, 9, 4, 8, 2, 1, 7, 8, 5, 5, 5, 6, 7, 6, 6, 7, 4, 8, 9, 9, 7, 9, 1, 6, 7, 0, 6, 7, 0, 1, 7, 1, 2, 8, 1, 5, 1, 8, 2, 5, 3, 0, 0, 6, 8, 7, 8, 1, 7, 3, 4, 9, 8, 7, 2, 0, 7, 5, 7, 9, 9, 0, 2, 7, 5, 9, 2, 5, 4, 1, 7, 3, 9, 6, 9, 9, 0, 4, 1, 9, 8, 3, 7, 1, 1, 2, 7, 2, 0, 1, 4, 5, 0, 1, 7, 8, 2, 0, 2, 4, 4, 5, 7, 8, 9, 8, 6, 1, 3, 5, 3, 7, 1, 6, 8, 0, 6, 9, 8, 5, 4, 1, 6, 8, 2, 0, 1, 1, 1, 2, 1, 4, 3, 2, 3, 8, 6, 5, 8, 9, 3, 5, 7, 7, 2, 1, 7, 9, 9, 0, 3, 0, 9, 1, 9, 6, 2, 8, 2, 4, 6, 2, 8, 0, 8, 7, 9, 5, 7, 7, 3, 4, 9, 3, 4, 1, 4, 1, 9, 0, 0, 0, 3, 1, 1, 0, 9, 4, 3, 9, 4, 5, 1, 6, 1, 4, 9, 3, 2, 1, 9, 1, 1, 8, 8, 7, 5, 9, 2, 5, 7, 8, 7, 5, 6, 2, 9, 9, 3, 5, 1, 6, 8, 0, 6, 9, 4, 0, 4, 3, 0, 2, 9, 5, 9, 4, 8, 0, 6, 0, 5, 8, 0, 6, 5, 0, 4, 1, 0, 9, 0, 2, 8, 7, 5, 7, 8, 2, 2, 3, 8, 5, 7, 9, 0, 0, 4, 4, 3, 2, 6, 6, 3, 5, 2, 6, 0, 4, 3, 9, 2, 0, 7, 1, 3, 1, 7, 8, 4, 6, 5, 9, 2, 1, 0, 8, 0, 3, 8, 0, 0, 5, 3, 1, 6, 3, 1, 8, 0, 7, 7, 7, 9, 5, 9, 3, 7, 9, 9, 2, 9, 6, 0, 5, 6, 8, 4, 6, 5, 3, 6, 0, 7, 3, 8, 4, 9, 8, 2, 0, 2, 5, 8, 0, 7, 0, 1, 8, 3, 6, 2, 5, 8, 6, 4, 1, 5, 2, 0, 8, 8, 7, 9, 6, 2, 0, 4, 6, 3, 1, 6, 6, 1, 3, 3, 2, 0, 1, 9, 4, 9, 8, 0, 2, 1, 1, 9, 0, 5, 6, 2, 0, 3, 1, 0, 5, 0, 1, 1, 6, 6, 0, 3, 1, 1, 2, 4, 7, 1, 1, 8, 5, 8, 2, 9, 5, 1, 5, 1, 3, 6, 0, 8, 0, 1, 3, 7, 2, 3, 0, 1, 9, 3, 8, 4, 0, 3, 0, 0, 7, 5, 1, 4, 8, 1, 7, 2, 0, 2, 4, 6, 0, 9, 9, 5, 8, 8, 4, 7, 1, 1, 0, 7, 7, 4, 0, 5, 4, 8, 4, 6, 0, 3, 1, 3, 1, 4, 6, 1, 5, 7, 5, 7, 9, 3, 6, 7, 9, 1, 6, 5, 0, 6, 4, 8, 3, 3, 2, 4, 0, 4, 6, 1, 0, 0, 3, 0, 3, 0, 6, 0, 1, 7, 5, 5, 4, 7, 3, 2, 9, 3, 3, 7, 5, 0, 3, 9, 7, 0, 9, 6, 2, 6, 6, 0, 3, 3, 8, 8, 6, 1, 1, 7, 4, 1, 6, 9, 0, 2, 6, 4, 8, 2, 2, 2, 7, 8, 1, 0, 0, 2, 9, 8, 5, 2, 9, 7, 8, 0, 4, 9, 2, 0, 4, 7, 1, 6, 8, 6, 8, 1, 3, 9, 9, 3, 3, 1, 0, 9, 4, 2, 0, 3, 0, 7, 4, 3, 6, 4, 5, 4, 8, 9, 5, 1, 4, 5, 3, 9, 1, 7, 7, 5, 8, 4, 1, 1, 9, 6, 5, 2, 4, 3, 3, 5, 2, 4, 2, 5, 8, 2, 4, 0, 9, 3, 0, 9, 8, 3, 4, 9, 2, 1, 3, 2, 7, 8, 3, 1, 1, 1, 8, 1, 3, 9, 8, 2, 2, 8, 8, 8, 7, 6, 1, 6, 8, 5, 4, 9, 2, 0, 1, 3, 4, 5, 9, 1, 8, 4, 5, 5, 4, 5, 9, 8, 5, 5, 7, 6, 8, 7, 4, 0, 2, 0, 8, 2, 7, 4, 4, 3, 8, 4, 8, 7, 7, 3, 6, 6, 1, 4, 3, 9, 3, 9, 5, 9, 4, 8, 0, 3, 9, 1, 7, 0, 1, 1, 0, 2, 4, 2, 4, 5, 0, 6, 5, 5, 5, 3, 4, 2, 7, 5, 4, 0, 4, 7, 8, 4, 2, 7, 7, 5, 6, 8, 9, 6, 8, 6, 7, 9, 4, 9, 8, 0, 1, 3, 5, 9, 2, 5, 1, 5, 0, 2, 1, 7, 8, 2, 0, 0, 8, 1, 7, 4, 3, 5, 5, 3, 6, 1, 7, 5, 0, 7, 0, 3, 3, 8, 9, 1, 7, 1, 4, 8, 0, 3, 3, 5, 9, 0, 2, 5, 1, 1, 1, 5, 7, 1, 7, 1, 1, 3, 8, 0, 7, 7, 9, 3, 4, 0, 2, 3, 4, 4, 0, 4, 4, 3, 8, 4, 5, 6, 2, 4, 4, 7, 5, 7, 9, 1, 5, 6, 5, 2, 8, 9, 9, 5, 0, 7, 2, 6, 5, 1, 9, 0, 3, 7, 6, 1, 3, 2, 5, 1, 3, 7, 6, 1, 4, 3, 8, 4, 0, 9, 9, 6, 6, 0, 8, 0, 7, 5, 0, 6, 6, 4, 6, 2, 1, 9, 2, 6, 3, 6, 1, 1, 2, 1, 0, 3, 6, 9, 4, 8, 8, 6, 2, 5, 9, 4, 1, 3, 0, 0, 3, 3, 8, 7, 7, 3, 5, 1, 6, 2, 9, 7, 0, 5, 3, 9, 5, 2, 2, 8, 5, 3, 3, 8, 3, 3, 0, 8, 2, 8, 9, 9, 4, 3, 0, 3, 0, 3, 8, 1, 5, 0, 7, 1, 9, 3, 8, 0, 6, 1, 0, 7, 2, 3, 0, 4, 7, 9, 8, 5, 4, 5, 8, 2, 0, 8, 8, 2, 5, 5, 1, 4, 9, 0, 1, 7, 3, 9, 5, 3, 7, 2, 8, 1, 2, 7, 9, 9, 3, 4, 8, 7, 5, 3, 6, 8, 3, 0, 1, 1, 1, 8, 9, 6, 0, 1, 6, 2, 9, 0, 3, 0, 8, 7, 9, 6, 4, 6, 6, 6, 0, 9, 6, 3, 4, 6, 2, 3, 4, 9, 4, 8, 0, 2, 6, 7, 8, 4, 9, 2, 6, 0, 7, 9, 3, 6, 8, 3, 8, 7, 6, 2, 6, 8, 5, 8, 3, 3, 3, 8, 4, 9, 6, 5, 1, 4, 4, 7, 3, 0, 1, 5, 1, 9, 1, 9, 0, 7, 4, 3, 1, 5, 1, 5, 2, 4, 0, 5, 4, 3, 1, 5, 9, 1, 1, 6, 9, 7, 6, 7, 9, 2, 8, 2, 2, 2, 6, 4, 1, 2, 1, 1, 1, 1, 1, 3, 8, 5, 2, 7, 1, 1, 2, 8, 2, 9, 1, 5, 4, 6, 4, 7, 4, 6, 6, 1, 8, 9, 8, 0, 4, 6, 2, 2, 4, 6, 3, 1, 6, 5, 9, 3, 2, 3, 1, 0, 0, 4, 2, 8, 3, 7, 8, 4, 4, 1, 7, 7, 2, 5, 1, 2, 6, 9, 2, 9, 9, 1, 0, 5, 3, 9, 3, 0, 5, 5, 8, 9, 8, 4, 5, 0, 9, 4, 7, 8, 9, 0, 7, 6, 3, 3, 8, 3, 1, 7, 1, 3, 1, 8, 4, 5, 4, 5, 3, 8, 8, 6, 7, 3, 5, 4, 4, 9, 1, 8, 1, 6, 1, 4, 8, 9, 7, 6, 1, 8, 1, 9, 9, 6, 1, 5, 4, 2, 7, 0, 0, 9, 9, 2, 6, 2, 0, 6, 0, 1, 3, 1, 5, 4, 4, 1, 5, 4, 9, 0, 0, 6, 8, 0, 8, 5, 6, 0, 3, 2, 8, 1, 2, 0, 2, 0, 3, 6, 9, 7, 6, 5, 5, 2, 2, 9, 0, 2, 3, 3, 0, 7, 9, 7, 5, 7, 8, 1, 1, 1, 4, 6, 9, 9, 9, 3, 8, 1, 7, 0, 4, 3, 4, 7, 9, 8, 5, 5, 3, 8, 8, 1, 0, 4, 5, 0, 4, 5, 2, 7, 5, 3, 2, 6, 6, 3, 1, 4, 4, 1, 1, 4, 5, 5, 9, 8, 0, 4, 5, 1, 5, 4, 9, 3, 4, 0, 2, 5, 3, 1, 9, 4, 0, 6, 7, 6, 2, 8, 9, 0, 3, 8, 8, 6, 8, 4, 9, 8, 2, 9, 7, 3, 3, 4, 6, 8, 1, 2, 3, 5, 5, 6, 8, 4, 2, 5, 0, 8, 9, 4, 1, 5, 6, 4, 0, 5, 2, 2, 7, 9, 0, 3, 9, 6, 0, 5, 2, 2, 5, 7, 8, 9, 9, 2, 9, 0, 5, 5, 1, 8, 4, 5, 3, 6, 6, 6, 4, 8, 9, 4, 6, 8, 9, 2, 1, 5, 1, 9, 4, 9, 8, 9, 1, 7, 0, 2, 3, 5, 2, 8, 3, 2, 1, 7, 2, 6, 1, 7, 6, 5, 7, 3, 5, 7, 8, 7, 8, 6, 8, 9, 3, 4, 1, 2, 6, 1, 8, 6, 5, 4, 0, 2, 8, 7, 9, 2, 3, 1, 7, 0, 2, 8, 2, 4, 0, 5, 8, 0, 9, 0, 5, 4, 0, 0, 5, 6, 3, 9, 0, 2, 6, 2, 1, 6, 1, 6, 5, 7, 7, 5, 5, 7, 0, 3, 6, 3, 8, 9, 9, 1, 6, 1, 5, 3, 7, 6, 0, 1, 2, 3, 8, 4, 2, 2, 0, 5, 2, 2, 8, 4, 8, 8, 1, 7, 1, 9, 7, 7, 5, 4, 6, 8, 2, 8, 7, 1, 1, 0, 3, 7, 0, 4, 1, 5, 6, 8, 9, 7, 5, 9, 2, 0, 2, 2, 9, 9, 2, 8, 7, 4, 2, 0, 4, 2, 7, 6, 4, 9, 6, 2, 5, 8, 0, 5, 1, 6, 2, 7, 9, 2, 9, 8, 3, 9, 6, 7, 3, 8, 7, 4, 3, 0, 0, 8, 5, 4, 1, 0, 4, 3, 8, 6, 3, 6, 2, 6, 6, 3, 5, 5, 3, 9, 2, 6, 0, 1, 8, 8, 3, 2, 1, 9, 7, 9, 9, 2, 2, 4, 4, 4, 4, 5, 5, 8, 0, 8, 0, 3, 8, 3, 4, 1, 3, 7, 1, 7, 8, 4, 5, 6, 9, 6, 3, 5, 8, 8, 3, 0, 5, 5, 1, 8, 2, 9, 6, 4, 7, 8, 1, 7, 4, 3, 0, 4, 7, 0, 2, 0, 4, 0, 5, 2, 0, 7, 9, 8, 7, 3, 1, 4, 3, 4, 0, 1, 1, 0, 6, 4, 3, 4, 3, 7, 1, 9, 5, 6, 5, 6, 6, 0, 8, 1, 6, 1, 2, 9, 5, 6, 4, 2, 2, 0, 1, 8, 6, 9, 8, 1, 5, 1, 6, 4, 0, 4, 1, 1, 0, 7, 1, 2, 2, 2, 9, 0, 1, 3, 3, 3, 8, 7, 7, 6, 8, 5, 1, 8, 4, 7, 7, 2, 9, 2, 2, 2, 3, 9, 3, 7, 8, 2, 8, 7, 8, 1, 1, 9, 8, 1, 3, 4, 1, 0, 3, 1, 7, 7, 0, 6, 3, 0, 4, 7, 5, 3, 5, 7, 9, 3, 2, 7, 1, 3, 1, 9, 7, 7, 2, 3, 6, 3, 8, 7, 2, 9, 9, 4, 4, 3, 3, 0, 0, 4, 7, 7, 2, 8, 0, 6, 2, 7, 7, 0, 4, 0, 9, 4, 4, 0, 6, 3, 5, 2, 8, 4, 1, 9, 7, 7, 0, 3, 5, 7, 4, 1, 2, 4, 6, 5, 2, 6, 9, 7, 6, 8, 3, 0, 4, 8, 1, 2, 8, 0, 5, 0, 5, 1, 5, 9, 7, 9, 2, 6, 6, 7, 1, 7, 4, 6, 9, 2, 7, 0, 1, 6, 7, 4, 6, 8, 0, 7, 8, 4, 8, 1, 2, 9, 2, 5, 0, 5, 9, 2, 5, 0, 4, 1, 5, 0, 5, 4, 9, 4, 9, 5, 6, 7, 8, 7, 2, 0, 3, 2, 1, 9, 6, 2, 6, 3, 4, 1, 9, 9, 3, 0, 6, 9, 6, 8, 6, 8, 7, 8, 0, 9, 9, 1, 6, 4, 5, 3, 2, 9, 1, 4, 8, 3, 1, 2, 7, 8, 5, 0, 7, 7, 5, 1, 8, 3, 2, 9, 3, 3, 5, 4, 4, 6, 7, 4, 4, 2, 3, 7, 7, 1, 4, 5, 4, 0, 0, 9, 2, 1, 9, 0, 7, 9, 6, 0, 0, 2, 8, 3, 7, 8, 7, 6, 4, 1, 8, 7, 2, 2, 3, 1, 9, 3, 2, 7, 9, 0, 6, 9, 1, 6, 0, 7, 3, 5, 9, 6, 9, 6, 2, 8, 9, 9, 7, 9, 7, 8, 4, 6, 1, 4, 4, 0, 2, 4, 8, 2, 3, 3, 0, 7, 4, 7, 2, 6, 3, 1, 3, 6, 4, 8, 8, 2, 5, 6, 1, 9, 1, 8, 0, 7, 1, 1, 0, 8, 0, 9, 2, 4, 0, 0, 0, 3, 7, 9, 5, 3, 2, 6, 3, 9, 8, 6, 4, 3, 0, 6, 3, 7, 5, 9, 5, 9, 4, 2, 2, 5, 0, 5, 3, 8, 2, 3, 8, 6, 1, 8, 3, 1, 1, 9, 1, 3, 1, 1, 3, 9, 0, 3, 9, 9, 9, 8, 8, 1, 5, 2, 9, 8, 5, 8, 8, 4, 6, 5, 6, 5, 9, 5, 3, 5, 8, 0, 5, 5, 8, 8, 4, 7, 0, 9, 2, 6, 9, 9, 6, 8, 0, 9, 2, 7, 3, 9, 9, 0, 1, 8, 3, 0, 2, 1, 1, 6, 4, 7, 8, 3, 1, 7, 4, 0, 2, 1, 9, 2, 0, 5, 4, 2, 7, 8, 7, 5, 2, 3, 2, 8, 2, 9, 5, 6, 0, 4, 1, 8, 7, 5, 9, 8, 3, 0, 8, 6, 9, 0, 8, 2, 5, 5, 8, 9, 1, 7, 5, 8, 2, 8, 2, 8, 4, 4, 8, 9, 7, 3, 1, 7, 1, 8, 7, 9, 6, 1, 5, 5, 7, 0, 2, 7, 7, 5, 7, 1, 8, 8, 5, 9, 1, 4, 5, 8, 8, 7, 6, 9, 7, 1, 1, 1, 0, 6, 7, 8, 1, 5, 6, 3, 6, 3, 0, 9, 7, 3, 8, 6, 4, 3, 4, 1, 9, 4, 2, 8, 5, 1, 1, 4, 6, 8, 3, 6, 9, 8, 6, 9, 2, 5, 4, 1, 8, 6, 9, 3, 0, 8, 1, 5, 7, 4, 4, 6, 5, 6, 9, 0, 7, 1, 9, 3, 6, 8, 8, 3, 0, 0, 9, 1, 2, 1, 4, 1, 1, 0, 0, 1, 8, 7, 3, 4, 7, 6, 0, 5, 3, 0, 3, 6, 0, 8, 3, 1, 0, 6, 7, 1, 4, 3, 1, 7, 4, 0, 7, 3, 6, 1, 1, 5, 1, 2, 2, 4, 3, 4, 9, 7, 1, 2, 6, 6, 9, 6, 1, 1, 4, 3, 0, 5, 2, 2, 4, 7, 1, 0, 5, 0, 2, 2, 9, 9, 2, 6, 7, 6, 0, 4, 7, 8, 6, 4, 6, 4, 6, 7, 1, 2, 5, 7, 1, 9, 8, 1, 1, 1, 7, 0, 4, 0, 3, 2, 3, 5, 3, 1, 7, 3, 0, 7, 3, 3, 8, 4, 8, 3, 4, 6, 2, 1, 7, 0, 8, 2, 4, 2, 5, 3, 3, 2, 4, 5, 1, 8, 0, 7, 4, 0, 2, 8, 5, 7, 5, 8, 6, 9, 4, 3, 3, 2, 2, 9, 7, 6, 9, 2, 7, 3, 0, 8, 9, 8, 2, 5, 2, 7, 0, 0, 0, 4, 1, 3, 9, 0, 5, 5, 5, 9, 2, 6, 2, 2, 7, 2, 5, 2, 7, 2, 7, 4, 0, 4, 8, 3, 7, 1, 5, 3, 5, 6, 8, 3, 4, 6, 7, 0, 5, 9, 3, 6, 1, 6, 7, 0, 9, 1, 6, 8, 4, 4, 0, 9, 4, 6, 4, 4, 2, 1, 4, 2, 2, 9, 5, 0, 2, 2, 5, 0, 5, 2, 1, 1, 1, 5, 5, 0, 8, 2, 1, 5, 9, 3, 1, 0, 9, 3, 6, 1, 4, 0, 3, 5, 2, 0, 1, 9, 4, 2, 9, 9, 6, 4, 7, 0, 1, 1, 3, 0, 9, 0, 1, 0, 2, 9, 7, 7, 9, 0, 5, 6, 0, 8, 2, 7, 6, 2, 8, 2, 3, 1, 2, 4, 6, 3, 0, 5, 1, 1, 3, 6, 6, 2, 8, 1, 2, 9, 0, 2, 7, 2, 6, 5, 7, 1, 2, 3, 8, 0, 9, 0, 8, 8, 6, 4, 9, 4, 9, 7, 3, 4, 7, 3, 1, 6, 8, 3, 3, 6, 8, 7, 5, 0, 5, 5, 8, 2, 0, 0, 6, 8, 3, 6, 1, 6, 3, 8, 2, 9, 7, 2, 2, 8, 2, 5, 1, 0, 0, 3, 5, 8, 0, 2, 7, 4, 2, 9, 2, 7, 6, 3, 2, 4, 5, 0, 0, 4, 7, 1, 4, 3, 6, 6, 9, 9, 4, 0, 1, 5, 3, 7, 4, 7, 6, 8, 1, 5, 1, 6, 7, 5, 3, 3, 1, 1, 6, 3, 4, 1, 2, 2, 0, 9, 3, 6, 7, 7, 6, 6, 6, 4, 2, 7, 2, 5, 0, 1, 2, 3, 8, 2, 6, 6, 4, 8, 8, 5, 0, 2, 3, 4, 2, 6, 5, 5, 9, 9, 1, 1, 9, 3, 6, 2, 1, 5, 8, 5, 6, 3, 0, 1, 4, 5, 4, 8, 4, 3, 5, 5, 9, 2, 1, 3, 7, 6, 2, 5, 7, 5, 2, 3, 1, 9, 1, 7, 1, 7, 2, 9, 6, 9, 1, 2, 4, 9, 3, 2, 7, 0, 4, 6, 9, 1, 1, 0, 4, 2, 6, 6, 1, 7, 8, 0, 3, 4, 5, 8, 2, 6, 7, 0, 9, 5, 2, 2, 4, 4, 3, 0, 2, 6, 8, 5, 5, 2, 8, 9, 0, 8, 3, 4, 5, 8, 6, 8, 8, 7, 5, 8, 7, 3, 2, 3, 4, 2, 4, 3, 5, 2, 2, 5, 3, 7, 5, 1, 0, 0, 7, 3, 1, 2, 3, 6, 3, 9, 0, 6, 2, 5, 8, 0, 9, 5, 4, 4, 1, 4, 4, 7, 0, 5, 8, 5, 7, 3, 0, 9, 9, 7, 2, 1, 8, 5, 5, 6, 2, 2, 2, 6, 0, 1, 1, 3, 6, 3, 8, 2, 1, 9, 7, 9, 0, 7, 8, 3, 6, 2, 3, 2, 0, 7, 1, 3, 9, 2, 2, 0, 2, 8, 7, 8, 7, 0, 7, 2, 0, 6, 6, 8, 3, 0, 9, 8, 4, 2, 1, 6, 2, 4, 5, 9, 1, 0, 9, 9, 8, 1, 8, 6, 3, 0, 7, 9, 1, 7, 7, 9, 7, 6, 7, 3, 0, 5, 9, 9, 7, 9, 6, 7, 9, 5, 5, 4, 1, 2, 1, 1, 0, 5, 9, 8, 8, 2, 2, 7, 2, 0, 0, 6, 6, 2, 6, 1, 0, 5, 7, 3, 2, 6, 7, 3, 7, 3, 7, 1, 8, 7, 7, 7, 0, 6, 9, 4, 1, 6, 3, 1, 4, 8, 9, 6, 4, 0, 9, 7, 0, 0, 4, 7, 9, 1, 3, 9, 5, 9, 1, 0, 3, 5, 1, 5, 3, 2, 9, 3, 7, 8, 4, 9, 2, 1, 2, 5, 4, 9, 4, 3, 7, 6, 1, 3, 4, 5, 3, 4, 5, 9, 1, 1, 7, 2, 4, 0, 6, 1, 9, 0, 1, 2, 3, 1, 6, 1, 3, 3, 6, 2, 0, 7, 5, 9, 9, 3, 3, 4, 5, 5, 9, 6, 0, 8, 5, 9, 6, 8, 1, 9, 9, 9, 8, 3, 0, 0, 8, 1, 4, 9, 3, 7, 9, 3, 9, 0, 1, 8, 2, 8, 3, 2, 5, 3, 9, 5, 7, 5, 0, 8, 7, 5, 0, 5, 3, 1, 0, 5, 9, 5, 4, 2, 5, 5, 4, 3, 2, 5, 7, 7, 1, 0, 4, 5, 9, 2, 8, 9, 1, 9, 1, 7, 9, 9, 5, 6, 4, 6, 4, 7, 3, 2, 3, 9, 7, 8, 9, 7, 2, 5, 4, 1, 3, 8, 5, 7, 3, 1, 1, 3, 4, 6, 0, 4, 5, 4, 7, 8, 0, 3, 3, 0, 1, 0, 3, 5, 6, 8, 4, 6, 0, 3, 2, 2, 0, 3, 2, 3, 7, 3, 1, 6, 6, 2, 4, 8, 8, 6, 7, 2, 2, 3, 6, 9, 1, 9, 1, 2, 1, 5, 3, 2, 4, 1, 0, 0, 1, 0, 1, 3, 9, 8, 9, 4, 6, 9, 6, 4, 5, 6, 6, 6, 6, 3, 1, 4, 5, 0, 9, 7, 1, 7, 2, 1, 0, 8, 5, 3, 5, 6, 7, 8, 6, 3, 1, 3, 0, 3, 3, 0, 9, 6, 2, 3, 1, 5, 1, 2, 1, 0, 0, 4, 3, 7, 9, 7, 2, 1, 1, 1, 9, 9, 5, 7, 3, 4, 3, 9, 8, 0, 8, 7, 3, 8, 5, 5, 4, 0, 8, 2, 2, 6, 0, 8, 1, 7, 4, 9, 1, 6, 9, 5, 7, 9, 6, 3, 2, 6, 1, 0, 1, 6, 0, 9, 0, 9, 5, 7, 9, 2, 6, 7, 8, 8, 0, 2, 4, 1, 0, 4, 7, 5, 5, 0, 3, 5, 6, 2, 1, 5, 6, 0, 7, 7, 0, 4, 6, 2, 5, 3, 4, 8, 9, 2, 7, 6, 9, 6, 3, 6, 0, 3, 5, 1, 2, 8, 9, 8, 4, 2, 7, 4, 1, 2, 5, 7, 4, 0, 0, 8, 6, 3, 2, 5, 6, 0, 9, 0, 6, 4, 1, 5, 1, 6, 7, 1, 7, 7, 1, 5, 5, 9, 8, 7, 9, 2, 9, 2, 7, 0, 9, 1, 8, 3, 7, 1, 1, 7, 7, 7, 1, 3, 2, 2, 3, 8, 2, 9, 7, 8, 1, 1, 9, 1, 9, 5, 4, 6, 4, 7, 8, 8, 7, 6, 5, 6, 4, 3, 5, 1, 1, 3, 8, 4, 8, 4, 8, 0, 0, 5, 4, 9, 9, 1, 3, 3, 9, 5, 3, 0, 3, 8, 1, 5, 2, 4, 5, 2, 5, 0, 5, 9, 4, 3, 3, 7, 8, 8, 9, 0, 0, 6, 0, 1, 7, 3, 1, 8, 7, 8, 1, 8, 7, 4, 4, 7, 5, 2, 0, 8, 8, 2, 2, 1, 0, 1, 7, 7, 9, 0, 4, 0, 1, 3, 8, 3, 4, 6, 6, 5, 1, 6, 9, 8, 3, 6, 1, 9, 0, 5, 8, 6, 9, 5, 7, 6, 2, 8, 3, 0, 6, 2, 9, 6, 6, 7, 5, 2, 5, 6, 6, 6, 2, 4, 0, 1, 9, 4, 1, 3, 4, 1, 4, 3, 6, 7, 5, 3, 4, 1, 3, 8, 0, 6, 7, 7, 4, 6, 6, 6, 6, 3, 5, 7, 3, 9, 4, 0, 6, 0, 1, 7, 6, 7, 6, 5, 8, 6, 0, 9, 2, 1, 0, 0, 6, 8, 2, 8, 6, 6, 0, 1, 3, 3, 1, 6, 8, 2, 3, 6, 7, 4, 9, 0, 5, 4, 2, 3, 6, 7, 8, 9, 3, 2, 9, 0, 2, 9, 3, 0, 9, 9, 4, 1, 8, 2, 4, 5, 3, 3, 8, 3, 1, 3, 4, 3, 9, 2, 1, 0, 4, 6, 8, 5, 2, 5, 0, 9, 0, 9, 5, 5, 4, 8, 4, 4, 3, 2, 2, 9, 5, 7, 4, 5, 6, 5, 0, 9, 6, 9, 7, 5, 8, 7, 6, 9, 9, 3, 6, 6, 8, 8, 9, 9, 4, 6, 4, 8, 2, 6, 6, 0, 5, 1, 8, 1, 3, 5, 6, 9, 3, 0, 7, 4, 2, 2, 1, 5, 5, 2, 3, 9, 1, 6, 3, 6, 2, 7, 5, 8, 1, 4, 1, 5, 3, 1, 8, 7, 7, 2, 4, 7, 6, 3, 7, 2, 8, 4, 6, 9, 4, 3, 8, 0, 8, 2, 1, 8, 7, 1, 3, 2, 4, 8, 6, 3, 2, 9, 5, 6, 6, 9, 4, 1, 1, 9, 7, 9, 5, 0, 9, 5, 9, 9, 5, 4, 4, 8, 8, 8, 3, 6, 6, 0, 4, 7, 0, 1, 0, 4, 1, 6, 5, 5, 0, 7, 9, 2, 7, 8, 2, 8, 7, 1, 3, 9, 1, 5, 0, 2, 3, 4, 8, 5, 9, 2, 6, 4, 3, 4, 8, 1, 4, 7, 0, 8, 0, 9, 2, 1, 9, 8, 2, 0, 7, 8, 7, 6, 5, 2, 1, 5, 7, 9, 9, 1, 4, 5, 5, 4, 0, 4, 9, 8, 7, 8, 2, 8, 3, 4, 3, 1, 6, 7, 5, 7, 6, 1, 3, 3, 9, 6, 1, 1, 4, 8, 2, 4, 0, 0, 0, 2, 0, 8, 6, 4, 4, 8, 9, 1, 3, 3, 2, 6, 5, 9, 7, 9, 2, 0, 5, 4, 0, 3, 2, 4, 1, 1, 9, 4, 3, 0, 4, 5, 3, 8, 6, 4, 8, 3, 6, 2, 9, 9, 3, 8, 2, 4, 9, 2, 5, 3, 2, 9, 2, 5, 1, 5, 7, 6, 5, 7, 3, 4, 9, 2, 4, 2, 6, 9, 5, 4, 6, 8, 4, 9, 6, 7, 8, 7, 0, 1, 6, 5, 5, 2, 3, 8, 2, 3, 9, 2, 5, 6, 7, 9, 0, 3, 6, 7, 0, 2, 6, 8, 6, 1, 0, 6, 3, 8, 0, 8, 9, 0, 7, 8, 0, 3, 6, 3, 3, 8, 5, 5, 8, 9, 4, 3, 1, 6, 7, 0, 5, 1, 8, 7, 8, 8, 9, 2, 5, 3, 8, 1, 4, 2, 2, 0, 4, 7, 7, 7, 3, 6, 2, 7, 3, 0, 4, 0, 1, 7, 2, 7, 4, 4, 8, 5, 8, 7, 5, 8, 2, 6, 9, 8, 5, 6, 5, 6, 9, 8, 4, 8, 5, 8, 3, 6, 1, 0, 6, 8, 9, 8, 3, 3, 0, 7, 2, 7, 1, 1, 9, 9, 3, 9, 0, 2, 6, 9, 7, 0, 1, 4, 0, 3, 7, 3, 3, 7, 5, 2, 4, 1, 7, 5, 3, 5, 8, 4, 6, 1, 0, 8, 9, 3, 6, 0, 4, 7, 4, 0, 8, 1, 2, 5, 8, 1, 7, 2, 1, 7, 4, 9, 6, 0, 4, 7, 6, 6, 5, 2, 7, 0, 1, 9, 9, 9, 4, 8, 7, 0, 7, 2, 7, 4, 1, 0, 3, 0, 0, 5, 6, 7, 8, 1, 1, 5, 4, 8, 5, 0, 9, 6, 8, 2, 1, 0, 1, 7, 2, 3, 8, 1, 1, 3, 1, 3, 7, 8, 6, 2, 1, 5, 0, 3, 4, 0, 9, 1, 7, 6, 3, 1, 1, 4, 2, 8, 1, 6, 6, 1, 7, 9, 2, 6, 1, 5, 0, 0, 0, 9, 1, 3, 0, 9, 7, 8, 9, 3, 4, 8, 7, 7, 2, 6, 5, 4, 7, 1, 9, 6, 7, 7, 3, 3, 4, 0, 3, 5, 5, 4, 3, 0, 1, 8, 7, 4, 3, 9, 1, 9, 8, 0, 9, 4, 8, 5, 3, 9, 3, 7, 3, 1, 0, 0, 2, 4, 4, 9, 6, 8, 9, 4, 4, 8, 8, 9, 5, 8, 1, 8, 6, 8, 0, 8, 3, 3, 2, 0, 5, 0, 2, 9, 5, 8, 1, 3, 2, 9, 1, 2, 1, 8, 6, 0, 8, 5, 5, 7, 1, 1, 0, 0, 7, 0, 8, 7, 4, 0, 1, 2, 7, 9, 3, 3, 4, 2, 4, 5, 6, 7, 2, 2, 7, 4, 7, 2, 8, 0, 6, 1, 2, 2, 0, 1, 2, 8, 0, 3, 5, 9, 5, 7, 9, 7, 5, 1, 5, 3, 2, 5, 8, 4, 9, 1, 9, 1, 9, 4, 6, 8, 9, 8, 8, 8, 3, 3, 6, 9, 3, 1, 2, 1, 2, 2, 0, 0, 3, 3, 3, 4, 5, 3, 5, 6, 8, 1, 5, 0, 8, 0, 4, 5, 8, 9, 4, 7, 2, 0, 3, 0, 3, 3, 2, 5, 1, 3, 7, 3, 8, 8, 0, 4, 2, 3, 0, 3, 3, 4, 5, 2, 4, 9, 5, 1, 2, 7, 1, 5, 8, 4, 4, 1, 5, 4, 1, 8, 4, 4, 4, 9, 0, 1, 1, 8, 4, 4, 0, 4, 5, 3, 2, 2, 0, 3, 1, 7, 7, 2, 1, 4, 8, 6, 3, 1, 4, 3, 5, 9, 0, 4, 4, 2, 1, 1, 4, 4, 8, 3, 3, 0, 7, 3, 2, 8, 7, 6, 6, 8, 5, 0, 1, 0, 2, 2, 0, 7, 3, 6, 4, 1, 7, 0, 0, 0, 3, 8, 9, 8, 2, 6, 2, 5, 7, 3, 8, 9, 6, 3, 1, 9, 8, 3, 8, 3, 1, 9, 7, 5, 8, 1, 3, 2, 6, 9, 3, 7, 5, 7, 7, 5, 1, 7, 1, 5, 4, 9, 4, 0, 1, 3, 3, 2, 2, 2, 2, 7, 2, 7, 3, 2, 5, 3, 9, 9, 4, 4, 3, 7, 6, 6, 7, 5, 5, 3, 3, 3, 8, 7, 4, 3, 6, 8, 8, 7, 6, 3, 3, 8, 1, 1, 7, 2, 4, 0, 4, 4, 8, 6, 2, 8, 9, 2, 6, 5, 2, 8, 7, 5, 1, 3, 1, 4, 0, 9, 5, 3, 5, 2, 3, 6, 7, 5, 2, 0, 9, 7, 1, 1, 2, 2, 1, 6, 9, 9, 8, 6, 2, 4, 6, 1, 9, 7, 3, 9, 1, 2, 4, 5, 6, 5, 8, 6, 1, 9, 3, 9, 0, 9, 2, 8, 2, 6, 8, 0, 4, 9, 9, 3, 1, 3, 7, 9, 9, 1, 4, 5, 6, 5, 8, 8, 9, 0, 3, 0, 7, 0, 3, 9, 3, 1, 1, 7, 2, 8, 0, 6, 2, 7, 7, 2, 8, 6, 2, 1, 8, 5, 1, 8, 3, 8, 3, 1, 9, 8, 3, 5, 0, 1, 9, 5, 7, 8, 2, 1, 7, 8, 0, 6, 3, 0, 1, 1, 4, 6, 5, 6, 3, 4, 6, 4, 5, 9, 2, 3, 7, 5, 4, 9, 2, 0, 1, 6, 5, 1, 3, 3, 2, 8, 7, 8, 0, 5, 7, 3, 8, 2, 5, 6, 4, 2, 4, 7, 7, 1, 1, 8, 1, 6, 9, 9, 1, 2, 7, 1, 9, 5, 3, 2, 0, 8, 3, 2, 7, 5, 3, 9, 0, 1, 9, 1, 9, 6, 1, 9, 7, 8, 0, 9, 4, 9, 3, 6, 2, 5, 1, 6, 2, 3, 6, 8, 8, 3, 1, 5, 7, 8, 2, 8, 5, 9, 0, 9, 5, 0, 6, 6, 4, 6, 3, 0, 8, 8, 0, 8, 4, 1, 2, 6, 4, 0, 7, 3, 1, 7, 4, 6, 3, 4, 1, 3, 6, 9, 9, 1, 8, 5, 2, 3, 0, 3, 5, 8, 7, 0, 5, 1, 5, 6, 6, 7, 8, 7, 7, 2, 6, 4, 1, 1, 0, 2, 3, 9, 5, 0, 5, 4, 2, 3, 0, 7, 8, 0, 7, 6, 0, 7, 5, 8, 9, 6, 0, 4, 9, 5, 8, 2, 0, 5, 1, 5, 7, 5, 8, 1, 3, 8, 0, 5, 3, 5, 6, 7, 1, 0, 5, 0, 1, 9, 5, 1, 1, 2, 9, 5, 7, 9, 4, 5, 1, 9, 7, 8, 5, 3, 4, 7, 9, 7, 5, 3, 3, 1, 7, 7, 3, 8, 4, 0, 9, 6, 6, 9, 3, 3, 2, 3, 8, 4, 2, 4, 8, 4, 3, 3, 2, 1, 3, 3, 1, 4, 6, 7, 8, 4, 3, 6, 8, 3, 9, 9, 3, 6, 7, 5, 9, 7, 6, 6, 9, 4, 0, 3, 6, 9, 0, 0, 5, 1, 4, 3, 8, 1, 0, 9, 5, 1, 5, 9, 1, 1, 4, 8, 9, 5, 5, 1, 4, 6, 8, 8, 8, 7, 7, 9, 0, 3, 6, 1, 5, 1, 7, 9, 5, 0, 6, 1, 3, 9, 1, 7, 9, 1, 5, 4, 2, 8, 8, 3, 4, 4, 1, 1, 8, 4, 6, 9, 2, 0, 2, 6, 0, 5, 7, 7, 8, 8, 9, 1, 0, 9, 8, 0, 8, 9, 9, 5, 2, 9, 9, 0, 8, 2, 5, 2, 0, 1, 4, 0, 5, 4, 9, 0, 6, 8, 8, 1, 5, 6, 4, 2, 9, 6, 1, 3, 8, 3, 3, 3, 4, 1, 9, 6, 8, 6, 1, 4, 2, 6, 3, 7, 2, 2, 1, 8, 0, 7, 5, 7, 1, 9, 9, 1, 1, 7, 3, 5, 1, 4, 1, 5, 0, 1, 1, 2, 9, 8, 9, 3, 9, 7, 9, 8, 9, 2, 8, 3, 6, 7, 1, 5, 2, 9, 1, 0, 3, 6, 5, 5, 4, 0, 9, 2, 7, 9, 5, 2, 0, 9, 6, 5, 7, 5, 1, 3, 0, 4, 7, 8, 1, 0, 1, 0, 6, 6, 0, 5, 7, 5, 5, 3, 8, 9, 4, 7, 8, 4, 6, 9, 0, 6, 8, 8, 8, 0, 9, 8, 5, 7, 4, 4, 2, 8, 2, 5, 3, 2, 2, 6, 5, 8, 2, 4, 8, 6, 4, 0, 3, 5, 0, 8, 6, 0, 3, 6, 3, 5, 3, 8, 9, 8, 6, 9, 4, 5, 5, 2, 5, 9, 7, 3, 0, 7, 5, 1, 3, 2, 9, 4, 4, 9, 2, 7, 9, 5, 0, 0, 9, 0, 2, 3, 8, 7, 6, 9, 4, 0, 4, 5, 5, 1, 6, 8, 2, 8, 0, 3, 2, 8, 9, 5, 0, 7, 2, 1, 7, 1, 3, 4, 7, 7, 9, 3, 9, 2, 1, 2, 9, 6, 0, 8, 4, 5, 9, 1, 1, 8, 5, 6, 6, 5, 9, 4, 4, 3, 1, 7, 7, 8, 4, 0, 2, 9, 5, 4, 3, 4, 3, 6, 7, 9, 3, 6, 2, 9, 6, 3, 9, 1, 4, 3, 7, 9, 6, 3, 2, 5, 4, 7, 5, 6, 9, 9, 7, 8, 4, 3, 0, 6, 7, 0, 8, 0, 3, 0, 5, 4, 7, 3, 9, 6, 1, 4, 1, 1, 4, 8, 5, 1, 1, 3, 1, 6, 6, 7, 0, 3, 0, 7, 9, 7, 6, 5, 3, 9, 3, 6, 1, 3, 6, 0, 1, 2, 4, 3, 1, 3, 1, 9, 4, 9, 2, 3, 4, 2, 1, 5, 9, 4, 5, 9, 7, 6, 1, 0, 7, 6, 8, 5, 0, 0, 7, 4, 2, 3, 6, 9, 0, 3, 1, 5, 3, 8, 3, 0, 0, 8, 2, 9, 6, 1, 0, 6, 4, 8, 4, 5, 7, 7, 1, 5, 1, 7, 2, 3, 9, 7, 1, 7, 2, 7, 0, 0, 5, 4, 5, 2, 1, 0, 3, 9, 7, 0, 6, 8, 8, 7, 1, 1, 7, 4, 8, 8, 4, 3, 7, 3, 6, 6, 1, 9, 8, 1, 2, 5, 2, 1, 3, 8, 9, 7, 8, 7, 2, 7, 5, 1, 1, 8, 6, 5, 8, 7, 3, 5, 6, 8, 4, 7, 8, 4, 7, 1, 0, 5, 2, 9, 4, 1, 2, 4, 5, 5, 8, 4, 7, 0, 7, 2, 7, 6, 6, 9, 2, 0, 5, 6, 1, 9, 6, 7, 3, 5, 5, 4, 8, 8, 8, 8, 6, 0, 2, 7, 5, 1, 7, 6, 9, 1, 0, 0, 9, 5, 4, 3, 5, 8, 6, 6, 6, 4, 5, 8, 0, 3, 6, 4, 8, 6, 7, 9, 1, 6, 7, 2, 6, 4, 5, 0, 8, 2, 4, 1, 7, 3, 8, 5, 7, 1, 2, 0, 3, 6, 7, 8, 5, 8, 1, 2, 3, 4, 9, 3, 6, 2, 6, 1, 5, 9, 7, 9, 0, 1, 7, 2, 0, 6, 9, 2, 0, 3, 6, 6, 5, 2, 9, 3, 8, 3, 7, 4, 1, 0, 3, 8, 7, 3, 0, 0, 4, 2, 1, 7, 5, 8, 3, 2, 2, 6, 4, 9, 3, 3, 3, 7, 2, 7, 8, 7, 0, 4, 7, 2, 3, 7, 4, 5, 9, 8, 8, 1, 8, 9, 4, 3, 1, 6, 8, 4, 5, 1, 7, 6, 0, 1, 4, 0, 7, 9, 0, 1, 5, 5, 8, 4, 1, 6, 2, 8, 3, 2, 4, 8, 4, 7, 0, 1, 1, 3, 9, 4, 2, 1, 7, 6, 6, 4, 4, 2, 9, 5, 6, 6, 0, 0, 1, 0, 4, 2, 1, 1, 8, 8, 1, 2, 7, 3, 4, 1, 1, 6, 5, 1, 3, 6, 1, 4, 2, 2, 4, 6, 1, 2, 7, 5, 0, 0, 0, 6, 5, 1, 3, 7, 6, 9, 7, 7, 0, 4, 3, 7, 6, 1, 9, 1, 3, 9, 8, 5, 9, 9, 0, 3, 8, 6, 4, 6, 1, 1, 8, 5, 6, 4, 1, 8, 4, 4, 6, 5, 5, 6, 1, 9, 9, 4, 2, 0, 2, 7, 9, 5, 6, 7, 4, 9, 3, 0, 5, 8, 2, 0, 0, 9, 2, 5, 7, 3, 2, 8, 6, 6, 2, 9, 1, 1, 1, 9, 3, 8, 6, 3, 9, 7, 2, 5, 4, 4, 8, 8, 0, 4, 9, 5, 6, 3, 5, 2, 4, 0, 9, 5, 9, 6, 3, 8, 0, 9, 1, 4, 0, 4, 9, 8, 6, 2, 0, 9, 3, 6, 2, 4, 6, 0, 0, 0, 8, 2, 0, 3, 5, 1, 9, 2, 2, 7, 3, 0, 5, 8, 9, 1, 5, 9, 0, 6, 2, 4, 6, 1, 8, 5, 1, 9, 3, 1, 2, 8, 1, 2, 0, 7, 1, 6, 4, 5, 8, 0, 6, 3, 2, 0, 3, 7, 0, 7, 1, 7, 0, 4, 7, 7, 6, 1, 6, 4, 8, 8, 0, 6, 8, 4, 1, 1, 9, 7, 0, 1, 8, 2, 3, 8, 6, 5, 8, 0, 4, 3, 0, 8, 0, 2, 6, 7, 0, 6, 2, 6, 5, 3, 9, 0, 4, 7, 8, 5, 6, 6, 9, 9, 2, 0, 6, 5, 9, 1, 1, 5, 4, 5, 4, 0, 2, 2, 5, 9, 7, 6, 1, 6, 7, 8, 4, 7, 3, 4, 1, 2, 9, 1, 7, 3, 9, 8, 1, 1, 1, 2, 7, 6, 7, 2, 3, 7, 1, 9, 0, 3, 9, 9, 9, 4, 4, 4, 9, 2, 1, 2, 7, 8, 7, 8, 0, 3, 7, 9, 4, 0, 6, 5, 1, 5, 6, 6, 3, 6, 7, 3, 4, 2, 3, 9, 4, 7, 7, 6, 1, 0, 9, 6, 8, 0, 5, 7, 5, 7, 1, 3, 3, 2, 0, 0, 1, 5, 8, 0, 2, 5, 8, 9, 3, 1, 1, 7, 3, 8, 9, 8, 3, 6, 6, 9, 6, 3, 1, 2, 0, 9, 1, 7, 8, 4, 0, 0, 4, 9, 8, 4, 3, 7, 0, 9, 2, 8, 6, 1, 5, 7, 9, 3, 7, 8, 2, 1, 5, 6, 8, 9, 9, 6, 3, 7, 2, 4, 5, 7, 4, 9, 1, 1, 0, 4, 6, 6, 9, 2, 3, 0, 4, 9, 8, 1, 4, 8, 0, 8, 1, 1, 7, 6, 1, 8, 5, 5, 8, 2, 3, 8, 6, 9, 8, 0, 7, 3, 1, 4, 5, 4, 7, 6, 5, 2, 4, 8, 5, 0, 4, 7, 4, 6, 1, 9, 9, 5, 9, 6, 0, 5, 3, 5, 7, 3, 5, 0, 5, 1, 8, 9, 0, 0, 7, 4, 9, 7, 7, 0, 2, 8, 6, 9, 0, 4, 7, 5, 4, 2, 2, 0, 8, 5, 6, 6, 0, 8, 6, 1, 5, 4, 4, 2, 8, 4, 0, 9, 6, 0, 1, 4, 1, 2, 0, 8, 6, 1, 7, 7, 6, 4, 9, 4, 2, 3, 5, 2, 8, 6, 6, 1, 5, 1, 6, 9, 1, 5, 6, 2, 3, 6, 7, 8, 1, 6, 7, 3, 8, 3, 4, 8, 3, 7, 5, 0, 3, 3, 0, 5, 6, 2, 4, 1, 5, 1, 5, 8, 9, 5, 6, 6, 0, 6, 3, 6, 4, 4, 5, 8, 3, 4, 9, 8, 5, 2, 3, 2, 9, 5, 3, 1, 1, 0, 9, 3, 7, 0, 2, 9, 8, 3, 7, 3, 0, 3, 5, 3, 5, 0, 6, 2, 1, 5, 8, 3, 1, 3, 7, 7, 0, 4, 4, 1, 4, 9, 8, 4, 7, 7, 0, 0, 3, 6, 5, 6, 5, 4, 1, 0, 0, 8, 3, 5, 0, 1, 4, 2, 3, 4, 6, 1, 4, 5, 7, 9, 8, 7, 0, 8, 7, 3, 7, 8, 2, 4, 3, 8, 8, 5, 6, 1, 7, 0, 0, 7, 5, 1, 3, 1, 2, 4, 4, 2, 0, 7, 8, 4, 2, 8, 6, 1, 8, 5, 8, 9, 9, 2, 5, 2, 6, 7, 5, 5, 1, 6, 0, 4, 0, 3, 6, 1, 7, 2, 2, 6, 7, 4, 3, 7, 5, 8, 7, 3, 6, 8, 8, 7, 1, 0, 2, 3, 1, 2, 4, 5, 1, 2, 9, 5, 7, 3, 6, 9, 1, 6, 5, 2, 8, 6, 8, 1, 7, 7, 9, 3, 2, 2, 7, 7, 6, 9, 8, 9, 4, 1, 5, 0, 2, 8, 5, 0, 8, 5, 0, 9, 4, 5, 3, 3, 4, 7, 1, 7, 2, 4, 9, 2, 5, 2, 5, 5, 4, 6, 1, 8, 2, 2, 9, 3, 1, 0, 1, 3, 7, 6, 6, 5, 0, 9, 3, 5, 8, 3, 9, 1, 0, 5, 4, 4, 4, 7, 0, 0, 3, 8, 0, 5, 2, 4, 4, 9, 0, 8, 3, 8, 6, 6, 9, 7, 3, 1, 1, 2, 0, 2, 8, 1, 2, 7, 2, 5, 5, 2, 6, 8, 0, 1, 3, 1, 7, 6, 8, 4, 5, 4, 7, 3, 7, 7, 1, 7, 4, 6, 0, 3, 1, 8, 5, 8, 9, 7, 8, 5, 0, 9, 9, 9, 7, 8, 2, 4, 9, 4, 6, 3, 2, 8, 1, 2, 3, 1, 6, 4, 5, 0, 9, 7, 0, 8, 2, 2, 6, 4, 2, 3, 0, 8, 9, 5, 0, 5, 1, 9, 3, 5, 6, 0, 7, 7, 0, 1, 0, 2, 6, 0, 9, 7, 2, 4, 6, 9, 2, 5, 3, 6, 1, 7, 8, 6, 7, 2, 2, 3, 7, 8, 8, 3, 4, 4, 3, 7, 0, 3, 9, 2, 5, 3, 6, 1, 1, 7, 4, 9, 8, 9, 5, 8, 6, 3, 5, 4, 0, 3, 4, 2, 1, 4, 6, 1, 4, 8, 7, 2, 4, 4, 7, 8, 8, 1, 7, 0, 4, 6, 8, 1, 5, 0, 2, 9, 7, 4, 3, 2, 8, 5, 7, 0, 7, 3, 8, 6, 1, 8, 4, 3, 7, 1, 9, 3, 7, 7, 9, 7, 0, 1, 1, 1, 3, 9, 7, 4, 6, 0, 8, 3, 5, 8, 3, 8, 2, 9, 7, 8, 6, 7, 1, 7, 2, 6, 4, 2, 1, 6, 1, 5, 7, 5, 6, 3, 7, 3, 7, 0, 5, 4, 0, 1, 7, 8, 7, 8, 3, 7, 8, 8, 2, 6, 4, 8, 7, 8, 4, 8, 6, 0, 7, 4, 2, 2, 7, 8, 9, 4, 6, 3, 0, 4, 9, 3, 6, 0, 8, 4, 4, 8, 7, 7, 7, 8, 4, 5, 9, 0, 3, 4, 7, 9, 1, 8, 7, 2, 2, 8, 2, 2, 9, 3, 2, 0, 4, 5, 2, 4, 8, 6, 5, 2, 6, 9, 9, 7, 6, 0, 0, 5, 7, 4, 4, 4, 7, 1, 9, 9, 1, 7, 2, 5, 2, 2, 2, 1, 7, 5, 9, 1, 9, 7, 4, 4, 5, 8, 3, 2, 9, 0, 0, 2, 0, 4, 0, 3, 7, 2, 0, 4, 7, 7, 1, 1, 8, 8, 7, 3, 4, 4, 2, 5, 9, 7, 9, 0, 5, 4, 7, 5, 6, 9, 4, 1, 3, 7, 4, 7, 4, 7, 9, 1, 6, 1, 5, 0, 8, 2, 1, 0, 1, 2, 3, 7, 7, 6, 3, 6, 6, 4, 7, 0, 9, 7, 9, 5, 0, 7, 4, 7, 3, 3, 9, 8, 8, 6, 6, 1, 3, 6, 2, 0, 1, 4, 1, 4, 6, 8, 1, 4, 6, 8, 5, 6, 5, 0, 7, 8, 5, 3, 1, 1, 4, 8, 9, 2, 8, 4, 7, 1, 4, 0, 4, 6, 4, 4, 3, 3, 7, 2, 3, 0, 5, 2, 9, 8, 8, 2, 1, 2, 1, 7, 3, 8, 7, 8, 8, 4, 4, 9, 6, 3, 0, 9, 8, 4, 3, 4, 0, 2, 6, 6, 9, 0, 1, 2, 5, 8, 7, 7, 2, 3, 9, 7, 5, 6, 0, 1, 6, 1, 5, 5, 8, 5, 6, 9, 6, 3, 3, 3, 2, 9, 7, 5, 9, 1, 7, 5, 7, 3, 2, 6, 5, 6, 3, 8, 3, 0, 2, 5, 1, 5, 8, 5, 8, 7, 6, 0, 0, 6, 9, 4, 2, 6, 5, 6, 2, 5, 1, 8, 1, 3, 1, 8, 1, 8, 5, 1, 8, 0, 2, 5, 8, 9, 5, 6, 7, 6, 8, 1, 7, 1, 3, 2, 0, 5, 9, 6, 3, 0, 8, 2, 6, 4, 4, 4, 0, 5, 4, 2, 8, 1, 0, 9, 7, 8, 5, 3, 5, 6, 8, 6, 0, 6, 4, 6, 0, 5, 6, 2, 4, 5, 9, 4, 9, 6, 0, 3, 9, 0, 1, 0, 0, 2, 2, 5, 4, 4, 8, 2, 0, 8, 3, 7, 3, 4, 3, 4, 4, 9, 9, 8, 6, 3, 9, 3, 9, 5, 8, 1, 7, 4, 8, 3, 0, 2, 1, 8, 2, 3, 6, 1, 9, 9, 0, 7, 4, 0, 4, 2, 2, 8, 7, 5, 3, 6, 4, 1, 3, 0, 1, 3, 1, 3, 5, 6, 5, 9, 2, 7, 5, 7, 8, 4, 5, 7, 8, 9, 0, 5, 0, 4, 3, 2, 9, 9, 7, 0, 8, 1, 7, 3, 9, 9, 3, 1, 2, 3, 6, 4, 6, 3, 6, 8, 4, 7, 7, 9, 7, 0, 8, 2, 2, 6, 4, 5, 8, 2, 3, 1, 8, 7, 3, 8, 3, 6, 0, 1, 4, 3, 5, 3, 1, 2, 7, 8, 8, 0, 5, 4, 5, 7, 9, 4, 4, 0, 1, 1, 3, 0, 6, 7, 5, 5, 7, 2, 9, 3, 2, 9, 4, 4, 6, 3, 8, 3, 5, 5, 0, 4, 9, 2, 8, 5, 4, 1, 6, 3, 6, 3, 6, 1, 4, 3, 8, 4, 6, 4, 8, 3, 1, 1, 4, 8, 2, 7, 5, 9, 1, 3, 6, 5, 4, 8, 6, 6, 2, 8, 2, 2, 7, 7, 8, 9, 7, 3, 7, 3, 2, 6, 5, 7, 2, 8, 1, 6, 3, 5, 5, 5, 6, 6, 6, 0, 4, 0, 4, 3, 9, 6, 2, 2, 7, 7, 5, 5, 0, 6, 9, 4, 2, 9, 4, 4, 9, 2, 9, 8, 1, 8, 0, 9, 3, 1, 2, 3, 1, 6, 3, 4, 7, 1, 8, 4, 1, 0, 8, 1, 6, 2, 9, 2, 8, 0, 6, 2, 4, 9, 0, 9, 6, 0, 5, 7, 6, 2, 5, 4, 4, 5, 3, 8, 1, 9, 4, 8, 3, 4, 3, 6, 1, 6, 5, 2, 1, 2, 9, 5, 6, 1, 9, 8, 9, 1, 6, 4, 8, 1, 3, 4, 2, 8, 4, 2, 9, 9, 8, 6, 4, 3, 1, 1, 6, 0, 4, 3, 2, 3, 8, 9, 6, 6, 2, 6, 7, 3, 9, 1, 8, 6, 5, 1, 8, 3, 0, 9, 3, 9, 4, 9, 8, 8, 7, 4, 5, 3, 9, 4, 8, 5, 5, 9, 6, 6, 6, 3, 1, 8, 5, 5, 6, 1, 4, 6, 9, 1, 0, 3, 9, 8, 9, 3, 1, 2, 1, 3, 7, 4, 8, 8, 6, 4, 9, 5, 1, 6, 2, 4, 9, 2, 4, 5, 8, 7, 4, 3, 3, 9, 9, 2, 1, 8, 7, 1, 3, 3, 3, 6, 3, 0, 0, 1, 4, 9, 4, 9, 6, 9, 8, 1, 1, 4, 0, 6, 0, 9, 4, 7, 6, 1, 6, 4, 7, 2, 6, 0, 4, 4, 8, 2, 4, 4, 6, 7, 9, 8, 7, 2, 9, 6, 1, 0, 7, 9, 6, 4, 1, 1, 9, 8, 5, 6, 4, 0, 4, 8, 5, 4, 0, 3, 5, 6, 9, 9, 5, 0, 8, 8, 4, 8, 4, 0, 2, 1, 4, 5, 7, 9, 9, 5, 4, 3, 0, 3, 0, 0, 1, 6, 8, 9, 8, 2, 0, 8, 6, 1, 4, 9, 6, 6, 7, 0, 7, 2, 9, 3, 6, 3, 9, 9, 0, 5, 5, 4, 2, 9, 0, 7, 0, 0, 0, 6, 0, 7, 8, 3, 3, 9, 8, 3, 0, 9, 9, 6, 5, 6, 6, 6, 3, 2, 3, 2, 1, 0, 3, 7, 9, 0, 4, 3, 4, 8, 3, 0, 8, 8, 0, 0, 2, 3, 2, 8, 2, 1, 1, 1, 7, 8, 1, 5, 4, 3, 5, 4, 0, 2, 2, 9, 0, 0, 5, 4, 9, 0, 1, 7, 0, 4, 6, 4, 9, 5, 8, 1, 2, 6, 1, 1, 3, 3, 2, 6, 0, 5, 2, 7, 5, 1, 3, 5, 6, 7, 4, 2, 9, 9, 2, 6, 9, 2, 3, 2, 6, 2, 2, 5, 3, 6, 2, 3, 0, 1, 4, 3, 1, 9, 8, 9, 1, 1, 0, 6, 3, 3, 9, 6, 2, 1, 3, 7, 2, 3, 8, 5, 1, 3, 4, 5, 7, 0, 8, 1, 1, 4, 7, 7, 3, 5, 1, 2, 1, 0, 6, 3, 7, 1, 1, 6, 8, 9, 3, 5, 0, 6, 3, 5, 3, 7, 8, 7, 6, 4, 8, 0, 8, 1, 3, 2, 7, 2, 1, 3, 3, 0, 9, 3, 2, 1, 2, 0, 2, 3, 3, 2, 0, 1, 6, 2, 1, 1, 8, 8, 4, 9, 8, 0, 6, 1, 9, 4, 8, 4, 5, 7, 5, 6, 6, 0, 3, 2, 1, 3, 2, 9, 3, 0, 5, 3, 4, 4, 6, 9, 6, 5, 9, 2, 8, 9, 4, 1, 6, 9, 2, 0, 1, 2, 4, 5, 8, 0, 9, 1, 2, 5, 0, 0, 1, 8, 6, 9, 3, 6, 0, 8, 6, 4, 8, 7, 0, 6, 6, 7, 9, 0, 7, 9, 8, 0, 4, 6, 5, 1, 5, 4, 5, 6, 9, 1, 5, 8, 7, 6, 6, 0, 4, 1, 9, 5, 5, 4, 9, 3, 1, 1, 9, 2, 5, 6, 2, 3, 5, 4, 4, 1, 5, 2, 9, 7, 7, 7, 1, 2, 6, 1, 9, 3, 7, 0, 0, 6, 2, 2, 5, 4, 2, 4, 9, 0, 0, 5, 6, 6, 2, 6, 1, 9, 8, 9, 4, 5, 5, 3, 5, 9, 1, 3, 4, 4, 9, 2, 7, 6, 4, 2, 5, 4, 8, 6, 5, 3, 8, 1, 2, 0, 2, 9, 5, 1, 1, 1, 7, 4, 7, 7, 6, 1, 4, 9, 2, 7, 3, 1, 9, 8, 2, 0, 8, 0, 6, 7, 1, 9, 2, 2, 3, 6, 0, 6, 5, 2, 0, 8, 2, 3, 2, 2, 7, 2, 1, 7, 8, 4, 3, 2, 1, 8, 2, 3, 3, 4, 4, 1, 9, 3, 7, 2, 6, 9, 2, 3, 7, 3, 8, 1, 1, 3, 8, 0, 3, 7, 2, 5, 1, 6, 7, 5, 8, 3, 2, 2, 4, 9, 8, 7, 4, 4, 8, 0, 6, 0, 1, 6, 6, 1, 3, 6, 8, 1, 1, 9, 0, 7, 4, 9, 5, 5, 2, 6, 9, 9, 1, 8, 2, 8, 2, 2, 1, 1, 8, 8, 3, 0, 4, 4, 9, 1, 8, 9, 0, 4, 1, 4, 8, 0, 4, 8, 7, 2, 2, 8, 6, 3, 1, 0, 4, 4, 8, 2, 3, 7, 4, 3, 1, 1, 1, 2, 1, 4, 5, 8, 3, 0, 2, 3, 0, 8, 6, 5, 7, 2, 5, 6, 6, 0, 4, 7, 4, 3, 6, 1, 5, 3, 9, 7, 1, 0, 8, 2, 4, 5, 0, 1, 8, 5, 9, 0, 1, 0, 9, 1, 5, 3, 2, 2, 6, 7, 0, 4, 8, 5, 2, 8, 5, 4, 3, 5, 3, 7, 8, 3, 0, 0, 2, 2, 4, 3, 7, 4, 0, 1, 4, 7, 5, 3, 7, 1, 0, 4, 7, 3, 0, 7, 8, 6, 9, 9, 4, 3, 0, 0, 5, 6, 5, 5, 7, 5, 4, 9, 1, 7, 4, 6, 0, 1, 6, 3, 6, 6, 4, 7, 1, 7, 9, 8, 4, 3, 3, 7, 4, 4, 2, 8, 9, 5, 4, 0, 1, 3, 4, 7, 8, 1, 9, 5, 8, 2, 4, 3, 9, 9, 0, 9, 4, 6, 4, 2, 6, 1, 2, 9, 2, 6, 3, 2, 2, 4, 9, 8, 8, 8, 4, 7, 8, 4, 7, 6, 3, 4, 7, 3, 0, 6, 7, 0, 0, 2, 5, 0, 1, 7, 8, 9, 5, 4, 0, 9, 2, 4, 5, 9, 2, 6, 1, 2, 0, 5, 9, 0, 1, 4, 5, 5, 3, 8, 3, 3, 4, 1, 1, 9, 7, 4, 0, 7, 5, 3, 0, 0, 7, 4, 0, 0, 3, 6, 8, 9, 5, 4, 0, 5, 6, 0, 3, 6, 5, 5, 3, 4, 4, 8, 4, 7, 8, 1, 6, 2, 0, 5, 7, 4, 1, 4, 9, 7, 1, 7, 1, 8, 6, 2, 1, 9, 2, 5, 1, 5, 2, 9, 0, 5, 2, 4, 7, 9, 1, 3, 5, 0, 8, 3, 8, 2, 0, 4, 3, 0, 8, 0, 7, 6, 7, 3, 1, 4, 5, 3, 4, 6, 7, 5, 7, 7, 0, 0, 5, 1, 7, 8, 3, 8, 8, 8, 3, 0, 3, 3, 7, 2, 7, 3, 3, 4, 3, 9, 4, 3, 0, 6, 2, 8, 0, 2, 4, 7, 6, 7, 5, 5, 4, 7, 1, 2, 0, 0, 6, 4, 6, 1, 2, 6, 1, 1, 4, 9, 9, 4, 6, 0, 5, 8, 0, 6, 3, 0, 0, 0, 8, 8, 8, 9, 1, 9, 8, 7, 8, 8, 4, 4, 4, 0, 5, 7, 5, 9, 3, 3, 9, 2, 7, 2, 7, 3, 1, 4, 0, 5, 1, 7, 7, 2, 7, 1, 9, 0, 8, 6, 6, 6, 7, 7, 4, 7, 8, 8, 0, 0, 8, 6, 9, 4, 6, 2, 8, 5, 5, 2, 7, 5, 0, 5, 9, 4, 4, 2, 3, 4, 6, 8, 8, 2, 1, 4, 6, 3, 3, 3, 0, 8, 0, 0, 5, 4, 6, 1, 8, 1]\n"
     ]
    }
   ],
   "source": [
    "import random\n",
    "\n",
    "N = 10000  \n",
    "random_numbers = []\n",
    "for i in range(N):\n",
    "    random_numbers.append(random.randint(0,9))\n",
    "print(random_numbers)"
   ]
  },
  {
   "cell_type": "markdown",
   "metadata": {},
   "source": [
    "Y creamos un \"contador\" que calcula la frecuencia de ocurrencia de cada número del 0 al 9, así:"
   ]
  },
  {
   "cell_type": "code",
   "execution_count": 123,
   "metadata": {
    "collapsed": false
   },
   "outputs": [
    {
     "name": "stdout",
     "output_type": "stream",
     "text": [
      "[1012, 1079, 979, 1038, 986, 943, 980, 969, 1032, 982]\n"
     ]
    }
   ],
   "source": [
    "count = []\n",
    "for x in range(0,10):\n",
    "    count.append(random_numbers.count(x))\n",
    "print(count)"
   ]
  },
  {
   "cell_type": "markdown",
   "metadata": {},
   "source": [
    "Cree un \"contador\" que haga lo mismo, pero sin hacer uso del método \"count\". (De hecho, sin usar método alguno.)"
   ]
  },
  {
   "cell_type": "code",
   "execution_count": 122,
   "metadata": {
    "collapsed": false
   },
   "outputs": [
    {
     "name": "stdout",
     "output_type": "stream",
     "text": [
      "[0, 0, 0, 0, 0, 0, 0, 0, 0, 0]\n",
      "[1012, 1079, 979, 1038, 986, 943, 980, 969, 1032, 982]\n"
     ]
    }
   ],
   "source": [
    "freq = [0]*10\n",
    "print(freq)\n",
    "for num in random_numbers:\n",
    "    for i in range(10):\n",
    "        if num == i:\n",
    "            freq[i]=freq[i]+1\n",
    "print(freq)"
   ]
  },
  {
   "cell_type": "markdown",
   "metadata": {},
   "source": [
    "**Pistas:**\n",
    "\n",
    "- Esto puede lograrse con un loop muy sencillo. Si su código es complejo, piense el problema de nuevo.\n",
    "- Es muy útil iniciar con una lista \"vacía\" de 10 elementos. Es decir, una lista con 10 ceros."
   ]
  },
  {
   "cell_type": "markdown",
   "metadata": {},
   "source": [
    "---"
   ]
  }
 ],
 "metadata": {
  "anaconda-cloud": {},
  "kernelspec": {
   "display_name": "Python [Root]",
   "language": "python",
   "name": "Python [Root]"
  },
  "language_info": {
   "codemirror_mode": {
    "name": "ipython",
    "version": 3
   },
   "file_extension": ".py",
   "mimetype": "text/x-python",
   "name": "python",
   "nbconvert_exporter": "python",
   "pygments_lexer": "ipython3",
   "version": "3.5.2"
  }
 },
 "nbformat": 4,
 "nbformat_minor": 0
}
